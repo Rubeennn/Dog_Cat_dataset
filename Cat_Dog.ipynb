{
 "cells": [
  {
   "cell_type": "markdown",
   "metadata": {
    "colab_type": "text",
    "id": "view-in-github"
   },
   "source": [
    "<a href=\"https://colab.research.google.com/github/Rubeennn/Dog_Cat_dataset/blob/main/Cat_Dog.ipynb\" target=\"_parent\"><img src=\"https://colab.research.google.com/assets/colab-badge.svg\" alt=\"Open In Colab\"/></a>"
   ]
  },
  {
   "cell_type": "code",
   "execution_count": 18,
   "metadata": {
    "id": "6AfzllUdo0ae"
   },
   "outputs": [],
   "source": [
    "! pip3 install -q kaggle"
   ]
  },
  {
   "cell_type": "code",
   "execution_count": 22,
   "metadata": {
    "id": "gbvLDigKpwQS"
   },
   "outputs": [
    {
     "name": "stdout",
     "output_type": "stream",
     "text": [
      "mkdir: cannot create directory ‘/home/ruben_ghazaryan/.kaggle’: File exists\n"
     ]
    }
   ],
   "source": [
    "! mkdir ~/.kaggle"
   ]
  },
  {
   "cell_type": "code",
   "execution_count": 23,
   "metadata": {
    "colab": {
     "base_uri": "https://localhost:8080/"
    },
    "id": "qBARsMlsqEWw",
    "outputId": "e5584328-5ab6-483b-c719-953574a6f8a3"
   },
   "outputs": [],
   "source": [
    "! cp kaggle.json ~/.kaggle/"
   ]
  },
  {
   "cell_type": "code",
   "execution_count": 24,
   "metadata": {
    "colab": {
     "base_uri": "https://localhost:8080/"
    },
    "id": "32G2elKJqJx0",
    "outputId": "d3adcfb3-7be7-4ae5-8818-7828de75997a"
   },
   "outputs": [],
   "source": [
    "! chmod 600 ~/.kaggle/kaggle.json"
   ]
  },
  {
   "cell_type": "code",
   "execution_count": 25,
   "metadata": {
    "colab": {
     "base_uri": "https://localhost:8080/"
    },
    "id": "M7APutWuqSzS",
    "outputId": "f724bece-2e11-4d30-ac49-c0caa6d1ccf5"
   },
   "outputs": [
    {
     "name": "stdout",
     "output_type": "stream",
     "text": [
      "Downloading 30k-cats-and-dogs-150x150-greyscale.zip to /home/ruben_ghazaryan/Dog_Cat_dataset\n",
      "100%|████████████████████████████████████████| 133M/133M [00:34<00:00, 4.01MB/s]\n",
      "100%|████████████████████████████████████████| 133M/133M [00:34<00:00, 3.98MB/s]\n"
     ]
    }
   ],
   "source": [
    "! kaggle datasets download -d unmoved/30k-cats-and-dogs-150x150-greyscale"
   ]
  },
  {
   "cell_type": "code",
   "execution_count": 2,
   "metadata": {
    "id": "QDv5yJmSq0tE"
   },
   "outputs": [],
   "source": [
    "from pathlib import Path\n",
    "\n",
    "data_path = Path('data')\n",
    "\n",
    "data_path.mkdir(exist_ok=True, parents=True)\n"
   ]
  },
  {
   "cell_type": "code",
   "execution_count": 3,
   "metadata": {
    "id": "sKYlRWC1qZgR"
   },
   "outputs": [],
   "source": [
    "import zipfile\n",
    "\n",
    "with zipfile.ZipFile('30k-cats-and-dogs-150x150-greyscale.zip', 'r') as z:\n",
    "    z.extractall(data_path)"
   ]
  },
  {
   "cell_type": "code",
   "execution_count": 4,
   "metadata": {
    "id": "8xdn75lDr6sh"
   },
   "outputs": [],
   "source": [
    "cat_path = data_path / 'Animal_Images' / 'cats'\n",
    "cat_path\n",
    "dog_path = data_path / 'Animal_Images' / 'dogs'"
   ]
  },
  {
   "cell_type": "markdown",
   "metadata": {},
   "source": [
    "### Importing the necessary packages"
   ]
  },
  {
   "cell_type": "code",
   "execution_count": 5,
   "metadata": {},
   "outputs": [],
   "source": [
    "import numpy as np\n",
    "from PIL import Image\n",
    "import pandas as pd\n",
    "import torch\n",
    "from torch import nn\n",
    "import torchvision\n",
    "from torchvision.datasets import ImageFolder\n",
    "from torchvision import transforms\n",
    "import os"
   ]
  },
  {
   "cell_type": "code",
   "execution_count": 6,
   "metadata": {},
   "outputs": [
    {
     "name": "stdout",
     "output_type": "stream",
     "text": [
      "Shape of the image is: (150, 150)\n"
     ]
    },
    {
     "data": {
      "image/png": "[encoded data removed]",
      "text/plain": [
       "<PIL.JpegImagePlugin.JpegImageFile image mode=L size=150x150>"
      ]
     },
     "execution_count": 6,
     "metadata": {},
     "output_type": "execute_result"
    }
   ],
   "source": [
    "# Visualizing one image\n",
    "cat_image_names = os.listdir(cat_path)\n",
    "first_cat_image_path = cat_path / cat_image_names[0]\n",
    "img = Image.open(fp=first_cat_image_path)\n",
    "print(f'Shape of the image is: {np.asarray(img).shape}')\n",
    "img"
   ]
  },
  {
   "cell_type": "markdown",
   "metadata": {},
   "source": [
    "2. Now we define the path to the image directory\n",
    "and then gaining the dataset with **ImageFolder**."
   ]
  },
  {
   "cell_type": "code",
   "execution_count": 7,
   "metadata": {},
   "outputs": [],
   "source": [
    "path = Path(data_path / 'Animal_Images')"
   ]
  },
  {
   "cell_type": "code",
   "execution_count": 8,
   "metadata": {},
   "outputs": [],
   "source": [
    "dataset = ImageFolder(\n",
    "    \n",
    "    root = path,\n",
    "    transform=transforms.Compose([\n",
    "    transforms.Grayscale(),\n",
    "    transforms.Resize(size=(124,124)), # Maybe need to make it smaller\n",
    "    transforms.ToTensor()\n",
    "    ])\n",
    ")"
   ]
  },
  {
   "cell_type": "code",
   "execution_count": 9,
   "metadata": {},
   "outputs": [
    {
     "data": {
      "text/plain": [
       "torchvision.datasets.folder.ImageFolder"
      ]
     },
     "execution_count": 9,
     "metadata": {},
     "output_type": "execute_result"
    }
   ],
   "source": [
    "type(dataset)"
   ]
  },
  {
   "cell_type": "code",
   "execution_count": 10,
   "metadata": {},
   "outputs": [],
   "source": [
    "# Splitting the dataset into train, test and validation datasets.\n",
    "\n",
    "torch.manual_seed(42)\n",
    "from torch.utils.data import random_split, DataLoader\n",
    "\n",
    "train_size = int(len(dataset) * 0.7)\n",
    "test_size = int(len(dataset) * 0.15)\n",
    "\n",
    "val_size = len(dataset) - train_size - test_size\n",
    "\n",
    "train_dataset, test_dataset, val_dataset = random_split(dataset, \n",
    "                                                        [train_size, \n",
    "                                                         test_size,\n",
    "                                                         val_size]\n",
    "                                                       )\n"
   ]
  },
  {
   "cell_type": "markdown",
   "metadata": {},
   "source": [
    "1. Splitting data into batches using the *DataLoader*."
   ]
  },
  {
   "cell_type": "code",
   "execution_count": 11,
   "metadata": {},
   "outputs": [],
   "source": [
    "\n",
    "BATCH_SIZE = 64\n",
    "\n",
    "train_dataloader = DataLoader(dataset=train_dataset,\n",
    "                              batch_size=BATCH_SIZE,\n",
    "                              shuffle=True,\n",
    "                              num_workers=os.cpu_count()\n",
    "                             )\n",
    "\n",
    "test_loader = DataLoader(dataset=test_dataset,\n",
    "                        batch_size=BATCH_SIZE,\n",
    "                        shuffle=False,\n",
    "                        num_workers=os.cpu_count()\n",
    "                        )\n",
    "\n",
    "val_loader = DataLoader(dataset=val_dataset,\n",
    "                       batch_size=BATCH_SIZE,\n",
    "                       shuffle=False,\n",
    "                       num_workers=os.cpu_count())"
   ]
  },
  {
   "cell_type": "markdown",
   "metadata": {},
   "source": [
    "## 3. Bulding the model"
   ]
  },
  {
   "cell_type": "code",
   "execution_count": 57,
   "metadata": {},
   "outputs": [],
   "source": [
    "class DogCat(nn.Module):\n",
    "    def __init__(self, input_shape, hidden_shape, output_shape=1):\n",
    "        super().__init__()\n",
    "        \n",
    "        self.block1 = nn.Sequential(nn.BatchNorm2d(num_features=1),\n",
    "                                   nn.Conv2d(in_channels=1,\n",
    "                                             out_channels=3,\n",
    "                                             kernel_size=(3,3),\n",
    "                                             stride=1,\n",
    "                                             padding=1\n",
    "                                            ),\n",
    "                                    nn.ReLU(),\n",
    "                                    nn.BatchNorm2d(num_features=3),\n",
    "                                    nn.Conv2d(in_channels=3,\n",
    "                                              out_channels=6,\n",
    "                                              kernel_size=(3,3),\n",
    "                                              stride=1,\n",
    "                                              padding=1\n",
    "                                    ),\n",
    "                                    nn.MaxPool2d(kernel_size=(3,3)),\n",
    "                                    nn.ReLU(),\n",
    "                                    nn.BatchNorm2d(num_features=6)\n",
    "                                   )\n",
    "        \n",
    "        self.block2 = nn.Sequential(nn.BatchNorm2d(num_features=6),\n",
    "                                   nn.Conv2d(in_channels=6,\n",
    "                                             out_channels=9,\n",
    "                                             kernel_size=(3,3),\n",
    "                                             stride=1,\n",
    "                                             padding=1\n",
    "                                            ),\n",
    "                                    nn.ReLU(),\n",
    "                                    nn.BatchNorm2d(num_features=9),\n",
    "                                    nn.Conv2d(in_channels=9,\n",
    "                                              out_channels=12,\n",
    "                                              kernel_size=(3,3),\n",
    "                                              stride=1,\n",
    "                                              padding=1\n",
    "                                    ),\n",
    "                                    nn.MaxPool2d(kernel_size=(3,3)),\n",
    "                                    nn.ReLU(),\n",
    "                                    nn.BatchNorm2d(num_features=12))\n",
    "        \n",
    "        self.classifier = nn.Sequential(nn.Flatten(),\n",
    "                                       nn.Linear(in_features=2028,\n",
    "                                                out_features=124),\n",
    "                                        nn.Linear(in_features=124,\n",
    "                                                 out_features=output_shape)\n",
    "                                       )\n",
    "    def forward(self, X):\n",
    "#         print(X.shape)\n",
    "        X = self.block1(X)\n",
    "#         print(X.shape)\n",
    "        X = self.block2(X)\n",
    "#         print(X.shape)\n",
    "        X = self.classifier(X)\n",
    "#         print(X.shape)\n",
    "        return X"
   ]
  },
  {
   "cell_type": "code",
   "execution_count": 58,
   "metadata": {},
   "outputs": [],
   "source": [
    "model = DogCat(input_shape=124,\n",
    "              hidden_shape=10)"
   ]
  },
  {
   "cell_type": "code",
   "execution_count": 59,
   "metadata": {},
   "outputs": [
    {
     "data": {
      "text/plain": [
       "(tensor([[[0.9216, 0.9294, 0.9294,  ..., 0.9765, 0.9725, 0.9686],\n",
       "          [0.9569, 0.9569, 0.9569,  ..., 0.9765, 0.9686, 0.9686],\n",
       "          [0.9765, 0.9725, 0.9686,  ..., 0.9725, 0.9647, 0.9608],\n",
       "          ...,\n",
       "          [0.6000, 0.6196, 0.6275,  ..., 0.6196, 0.6275, 0.6275],\n",
       "          [0.6314, 0.6549, 0.6588,  ..., 0.6118, 0.6157, 0.6157],\n",
       "          [0.7255, 0.7412, 0.7333,  ..., 0.6118, 0.6118, 0.6118]]]),\n",
       " 1)"
      ]
     },
     "execution_count": 59,
     "metadata": {},
     "output_type": "execute_result"
    }
   ],
   "source": [
    "train_dataset[0]"
   ]
  },
  {
   "cell_type": "code",
   "execution_count": 60,
   "metadata": {},
   "outputs": [
    {
     "data": {
      "text/plain": [
       "329"
      ]
     },
     "execution_count": 60,
     "metadata": {},
     "output_type": "execute_result"
    }
   ],
   "source": [
    "len(train_dataloader)"
   ]
  },
  {
   "cell_type": "code",
   "execution_count": 61,
   "metadata": {},
   "outputs": [],
   "source": [
    "optimizer = torch.optim.Adam(params=model.parameters(),\n",
    "                       lr=0.01)\n",
    "\n",
    "loss = nn.BCEWithLogitsLoss()"
   ]
  },
  {
   "cell_type": "code",
   "execution_count": 62,
   "metadata": {},
   "outputs": [],
   "source": [
    "from tqdm.auto import tqdm"
   ]
  },
  {
   "cell_type": "code",
   "execution_count": 63,
   "metadata": {},
   "outputs": [
    {
     "data": {
      "text/plain": [
       "329"
      ]
     },
     "execution_count": 63,
     "metadata": {},
     "output_type": "execute_result"
    }
   ],
   "source": [
    "len(train_dataloader)"
   ]
  },
  {
   "cell_type": "code",
   "execution_count": 71,
   "metadata": {},
   "outputs": [
    {
     "data": {
      "application/vnd.jupyter.widget-view+json": {
       "model_id": "d3e3571fcc174686ab3ac843c9260df5",
       "version_major": 2,
       "version_minor": 0
      },
      "text/plain": [
       "  0%|          | 0/5 [00:00<?, ?it/s]"
      ]
     },
     "metadata": {},
     "output_type": "display_data"
    },
    {
     "name": "stdout",
     "output_type": "stream",
     "text": [
      "torch.Size([64, 1])\n",
      "tensor(0.7005, grad_fn=<BinaryCrossEntropyWithLogitsBackward0>)\n"
     ]
    },
    {
     "ename": "RuntimeError",
     "evalue": "element 0 of tensors does not require grad and does not have a grad_fn",
     "output_type": "error",
     "traceback": [
      "\u001b[0;31m---------------------------------------------------------------------------\u001b[0m",
      "\u001b[0;31mRuntimeError\u001b[0m                              Traceback (most recent call last)",
      "Cell \u001b[0;32mIn [71], line 20\u001b[0m\n\u001b[1;32m      9\u001b[0m \u001b[38;5;66;03m#         y_train_pred = torch.argmax(y_train_pred_logits, axis=1)\u001b[39;00m\n\u001b[1;32m     10\u001b[0m \u001b[38;5;66;03m# #         if batch ==1:\u001b[39;00m\n\u001b[1;32m     11\u001b[0m \u001b[38;5;66;03m# #             print(y_train_pred.shape, y.shape)\u001b[39;00m\n\u001b[0;32m   (...)\u001b[0m\n\u001b[1;32m     15\u001b[0m \u001b[38;5;66;03m#         print(y_train_pred.requires_grad, y.requires_grad)\u001b[39;00m\n\u001b[1;32m     16\u001b[0m \u001b[38;5;66;03m#         train_loss = loss()\u001b[39;00m\n\u001b[1;32m     18\u001b[0m         optimizer\u001b[38;5;241m.\u001b[39mzero_grad()\n\u001b[0;32m---> 20\u001b[0m         \u001b[43mtrain_loss\u001b[49m\u001b[38;5;241;43m.\u001b[39;49m\u001b[43mbackward\u001b[49m\u001b[43m(\u001b[49m\u001b[43m)\u001b[49m\n\u001b[1;32m     22\u001b[0m         optimizer\u001b[38;5;241m.\u001b[39mstep()\n",
      "File \u001b[0;32m~/.local/lib/python3.10/site-packages/torch/_tensor.py:487\u001b[0m, in \u001b[0;36mTensor.backward\u001b[0;34m(self, gradient, retain_graph, create_graph, inputs)\u001b[0m\n\u001b[1;32m    477\u001b[0m \u001b[38;5;28;01mif\u001b[39;00m has_torch_function_unary(\u001b[38;5;28mself\u001b[39m):\n\u001b[1;32m    478\u001b[0m     \u001b[38;5;28;01mreturn\u001b[39;00m handle_torch_function(\n\u001b[1;32m    479\u001b[0m         Tensor\u001b[38;5;241m.\u001b[39mbackward,\n\u001b[1;32m    480\u001b[0m         (\u001b[38;5;28mself\u001b[39m,),\n\u001b[0;32m   (...)\u001b[0m\n\u001b[1;32m    485\u001b[0m         inputs\u001b[38;5;241m=\u001b[39minputs,\n\u001b[1;32m    486\u001b[0m     )\n\u001b[0;32m--> 487\u001b[0m \u001b[43mtorch\u001b[49m\u001b[38;5;241;43m.\u001b[39;49m\u001b[43mautograd\u001b[49m\u001b[38;5;241;43m.\u001b[39;49m\u001b[43mbackward\u001b[49m\u001b[43m(\u001b[49m\n\u001b[1;32m    488\u001b[0m \u001b[43m    \u001b[49m\u001b[38;5;28;43mself\u001b[39;49m\u001b[43m,\u001b[49m\u001b[43m \u001b[49m\u001b[43mgradient\u001b[49m\u001b[43m,\u001b[49m\u001b[43m \u001b[49m\u001b[43mretain_graph\u001b[49m\u001b[43m,\u001b[49m\u001b[43m \u001b[49m\u001b[43mcreate_graph\u001b[49m\u001b[43m,\u001b[49m\u001b[43m \u001b[49m\u001b[43minputs\u001b[49m\u001b[38;5;241;43m=\u001b[39;49m\u001b[43minputs\u001b[49m\n\u001b[1;32m    489\u001b[0m \u001b[43m\u001b[49m\u001b[43m)\u001b[49m\n",
      "File \u001b[0;32m~/.local/lib/python3.10/site-packages/torch/autograd/__init__.py:200\u001b[0m, in \u001b[0;36mbackward\u001b[0;34m(tensors, grad_tensors, retain_graph, create_graph, grad_variables, inputs)\u001b[0m\n\u001b[1;32m    195\u001b[0m     retain_graph \u001b[38;5;241m=\u001b[39m create_graph\n\u001b[1;32m    197\u001b[0m \u001b[38;5;66;03m# The reason we repeat same the comment below is that\u001b[39;00m\n\u001b[1;32m    198\u001b[0m \u001b[38;5;66;03m# some Python versions print out the first line of a multi-line function\u001b[39;00m\n\u001b[1;32m    199\u001b[0m \u001b[38;5;66;03m# calls in the traceback and some print out the last line\u001b[39;00m\n\u001b[0;32m--> 200\u001b[0m \u001b[43mVariable\u001b[49m\u001b[38;5;241;43m.\u001b[39;49m\u001b[43m_execution_engine\u001b[49m\u001b[38;5;241;43m.\u001b[39;49m\u001b[43mrun_backward\u001b[49m\u001b[43m(\u001b[49m\u001b[43m  \u001b[49m\u001b[38;5;66;43;03m# Calls into the C++ engine to run the backward pass\u001b[39;49;00m\n\u001b[1;32m    201\u001b[0m \u001b[43m    \u001b[49m\u001b[43mtensors\u001b[49m\u001b[43m,\u001b[49m\u001b[43m \u001b[49m\u001b[43mgrad_tensors_\u001b[49m\u001b[43m,\u001b[49m\u001b[43m \u001b[49m\u001b[43mretain_graph\u001b[49m\u001b[43m,\u001b[49m\u001b[43m \u001b[49m\u001b[43mcreate_graph\u001b[49m\u001b[43m,\u001b[49m\u001b[43m \u001b[49m\u001b[43minputs\u001b[49m\u001b[43m,\u001b[49m\n\u001b[1;32m    202\u001b[0m \u001b[43m    \u001b[49m\u001b[43mallow_unreachable\u001b[49m\u001b[38;5;241;43m=\u001b[39;49m\u001b[38;5;28;43;01mTrue\u001b[39;49;00m\u001b[43m,\u001b[49m\u001b[43m \u001b[49m\u001b[43maccumulate_grad\u001b[49m\u001b[38;5;241;43m=\u001b[39;49m\u001b[38;5;28;43;01mTrue\u001b[39;49;00m\u001b[43m)\u001b[49m\n",
      "\u001b[0;31mRuntimeError\u001b[0m: element 0 of tensors does not require grad and does not have a grad_fn"
     ]
    }
   ],
   "source": [
    "epochs = 5\n",
    "for epoch in tqdm(range(epochs)):\n",
    "    train_total_loss = 0\n",
    "    for batch , (X,y) in enumerate(train_dataloader):\n",
    "        model.train()\n",
    "        y_train_pred_logits = model(X)\n",
    "        \n",
    "        print(y_train_pred_logits.shape)\n",
    "        \n",
    "        print(loss(y_train_pred_logits.to(torch.float),y.unsqueeze(dim=-1).to(torch.float)))\n",
    "\n",
    "\n",
    "        optimizer.zero_grad()\n",
    "\n",
    "        train_loss.backward()\n",
    "        \n",
    "        optimizer.step()\n",
    "\n",
    "\n",
    "\n",
    "\n"
   ]
  },
  {
   "cell_type": "code",
   "execution_count": 76,
   "metadata": {},
   "outputs": [
    {
     "name": "stderr",
     "output_type": "stream",
     "text": [
      " 20%|█████████                                    | 1/5 [01:07<04:29, 67.45s/it]"
     ]
    },
    {
     "name": "stdout",
     "output_type": "stream",
     "text": [
      "Epoch [1/5], Loss: 0.4157, 0.4341247726074407\n"
     ]
    },
    {
     "name": "stderr",
     "output_type": "stream",
     "text": [
      "\r",
      " 40%|██████████████████                           | 2/5 [02:16<03:25, 68.63s/it]"
     ]
    },
    {
     "name": "stdout",
     "output_type": "stream",
     "text": [
      "Epoch [2/5], Loss: 0.3974, 0.4531346295081394\n"
     ]
    },
    {
     "name": "stderr",
     "output_type": "stream",
     "text": [
      "\r",
      " 60%|███████████████████████████                  | 3/5 [03:24<02:16, 68.32s/it]"
     ]
    },
    {
     "name": "stdout",
     "output_type": "stream",
     "text": [
      "Epoch [3/5], Loss: 0.3870, 0.4584188673277976\n"
     ]
    },
    {
     "name": "stderr",
     "output_type": "stream",
     "text": [
      "\r",
      " 80%|████████████████████████████████████         | 4/5 [04:34<01:08, 68.76s/it]"
     ]
    },
    {
     "name": "stdout",
     "output_type": "stream",
     "text": [
      "Epoch [4/5], Loss: 0.3780, 0.4562841427158302\n"
     ]
    },
    {
     "name": "stderr",
     "output_type": "stream",
     "text": [
      "100%|█████████████████████████████████████████████| 5/5 [05:40<00:00, 68.15s/it]"
     ]
    },
    {
     "name": "stdout",
     "output_type": "stream",
     "text": [
      "Epoch [5/5], Loss: 0.3695, 0.463124801155547\n"
     ]
    },
    {
     "name": "stderr",
     "output_type": "stream",
     "text": [
      "\n"
     ]
    }
   ],
   "source": [
    "import torch\n",
    "import torch.nn as nn\n",
    "import torch.optim as optim\n",
    "from tqdm import tqdm\n",
    "\n",
    "optimizer = optim.Adam(params=model.parameters(), lr=0.01)\n",
    "loss = nn.BCEWithLogitsLoss()\n",
    "\n",
    "epochs = 5\n",
    "for epoch in tqdm(range(epochs)):\n",
    "    train_total_loss = 0\n",
    "    total_val_loss = 0\n",
    "    for batch, (X, y) in enumerate(train_dataloader):\n",
    "        model.train()\n",
    "        optimizer.zero_grad()\n",
    "\n",
    "        y_train_pred_logits = model(X)\n",
    "        \n",
    "        # Ensure y has the same dtype and shape as y_train_pred_logits\n",
    "        y = y.unsqueeze(dim=-1).to(torch.float)  # Assuming y is initially a LongTensor\n",
    "        \n",
    "        train_loss = loss(y_train_pred_logits, y)\n",
    "        train_loss.backward()\n",
    "        \n",
    "        optimizer.step()\n",
    "\n",
    "        train_total_loss += train_loss.item()\n",
    "    with torch.inference_mode():\n",
    "        for X_val, y_val in val_loader:\n",
    "            \n",
    "            model.eval()\n",
    "            \n",
    "            y_val_pred_logits = model(X_val)\n",
    "            y_val = y_val.unsqueeze(dim=-1).to(torch.float)\n",
    "            \n",
    "            val_loss = loss(y_val_pred_logits, y_val)\n",
    "            \n",
    "            total_val_loss += val_loss.item()\n",
    "\n",
    "    print(f\"Epoch [{epoch+1}/{epochs}], Loss: {train_total_loss / len(train_dataloader):.4f}, {total_val_loss / len(val_loader)}\")\n"
   ]
  }
 ],
 "metadata": {
  "colab": {
   "authorship_tag": "ABX9TyPawlQZDUtstsuT0OvAmzXL",
   "include_colab_link": true,
   "provenance": []
  },
  "kernelspec": {
   "display_name": "Python 3 (ipykernel)",
   "language": "python",
   "name": "python3"
  },
  "language_info": {
   "codemirror_mode": {
    "name": "ipython",
    "version": 3
   },
   "file_extension": ".py",
   "mimetype": "text/x-python",
   "name": "python",
   "nbconvert_exporter": "python",
   "pygments_lexer": "ipython3",
   "version": "3.10.11"
  }
 },
 "nbformat": 4,
 "nbformat_minor": 4
}
