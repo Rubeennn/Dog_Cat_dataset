{
 "cells": [
  {
   "cell_type": "markdown",
   "metadata": {
    "colab_type": "text",
    "id": "view-in-github"
   },
   "source": [
    "<a href=\"https://colab.research.google.com/github/Rubeennn/Dog_Cat_dataset/blob/main/Cat_Dog.ipynb\" target=\"_parent\"><img src=\"https://colab.research.google.com/assets/colab-badge.svg\" alt=\"Open In Colab\"/></a>"
   ]
  },
  {
   "cell_type": "code",
   "execution_count": 18,
   "metadata": {
    "id": "6AfzllUdo0ae"
   },
   "outputs": [],
   "source": [
    "! pip3 install -q kaggle"
   ]
  },
  {
   "cell_type": "code",
   "execution_count": 22,
   "metadata": {
    "id": "gbvLDigKpwQS"
   },
   "outputs": [
    {
     "name": "stdout",
     "output_type": "stream",
     "text": [
      "mkdir: cannot create directory ‘/home/ruben_ghazaryan/.kaggle’: File exists\n"
     ]
    }
   ],
   "source": [
    "! mkdir ~/.kaggle"
   ]
  },
  {
   "cell_type": "code",
   "execution_count": 23,
   "metadata": {
    "colab": {
     "base_uri": "https://localhost:8080/"
    },
    "id": "qBARsMlsqEWw",
    "outputId": "e5584328-5ab6-483b-c719-953574a6f8a3"
   },
   "outputs": [],
   "source": [
    "! cp kaggle.json ~/.kaggle/"
   ]
  },
  {
   "cell_type": "code",
   "execution_count": 24,
   "metadata": {
    "colab": {
     "base_uri": "https://localhost:8080/"
    },
    "id": "32G2elKJqJx0",
    "outputId": "d3adcfb3-7be7-4ae5-8818-7828de75997a"
   },
   "outputs": [],
   "source": [
    "! chmod 600 ~/.kaggle/kaggle.json"
   ]
  },
  {
   "cell_type": "code",
   "execution_count": 25,
   "metadata": {
    "colab": {
     "base_uri": "https://localhost:8080/"
    },
    "id": "M7APutWuqSzS",
    "outputId": "f724bece-2e11-4d30-ac49-c0caa6d1ccf5"
   },
   "outputs": [
    {
     "name": "stdout",
     "output_type": "stream",
     "text": [
      "Downloading 30k-cats-and-dogs-150x150-greyscale.zip to /home/ruben_ghazaryan/Dog_Cat_dataset\n",
      "100%|████████████████████████████████████████| 133M/133M [00:34<00:00, 4.01MB/s]\n",
      "100%|████████████████████████████████████████| 133M/133M [00:34<00:00, 3.98MB/s]\n"
     ]
    }
   ],
   "source": [
    "! kaggle datasets download -d unmoved/30k-cats-and-dogs-150x150-greyscale"
   ]
  },
  {
   "cell_type": "code",
   "execution_count": 6,
   "metadata": {
    "id": "QDv5yJmSq0tE"
   },
   "outputs": [],
   "source": [
    "from pathlib import Path\n",
    "\n",
    "data_path = Path('data')\n",
    "\n",
    "data_path.mkdir(exist_ok=True, parents=True)\n"
   ]
  },
  {
   "cell_type": "code",
   "execution_count": 27,
   "metadata": {
    "id": "sKYlRWC1qZgR"
   },
   "outputs": [],
   "source": [
    "import zipfile\n",
    "\n",
    "with zipfile.ZipFile('30k-cats-and-dogs-150x150-greyscale.zip', 'r') as z:\n",
    "    z.extractall(data_path)"
   ]
  },
  {
   "cell_type": "code",
   "execution_count": 7,
   "metadata": {
    "id": "8xdn75lDr6sh"
   },
   "outputs": [],
   "source": [
    "cat_path = data_path / 'Animal_Images' / 'cats'\n",
    "cat_path\n",
    "dog_path = data_path / 'Animal_Images' / 'dogs'"
   ]
  },
  {
   "cell_type": "markdown",
   "metadata": {},
   "source": [
    "### Importing the necessary packages"
   ]
  },
  {
   "cell_type": "code",
   "execution_count": 8,
   "metadata": {},
   "outputs": [],
   "source": [
    "import numpy as np\n",
    "from PIL import Image\n",
    "import pandas as pd\n",
    "import torch\n",
    "from torch import nn\n",
    "import torchvision\n",
    "from torchvision.datasets import ImageFolder\n",
    "from torchvision import transforms\n",
    "import os"
   ]
  },
  {
   "cell_type": "code",
   "execution_count": 76,
   "metadata": {},
   "outputs": [
    {
     "name": "stdout",
     "output_type": "stream",
     "text": [
      "Shape of the image is: (150, 150)\n"
     ]
    },
    {
     "data": {
      "image/png": "[encoded data removed]",
      "text/plain": [
       "<PIL.JpegImagePlugin.JpegImageFile image mode=L size=150x150>"
      ]
     },
     "execution_count": 76,
     "metadata": {},
     "output_type": "execute_result"
    }
   ],
   "source": [
    "# Visualizing one image\n",
    "cat_image_names = os.listdir(cat_path)\n",
    "first_cat_image_path = cat_path / cat_image_names[0]\n",
    "img = Image.open(fp=first_cat_image_path)\n",
    "print(f'Shape of the image is: {np.asarray(img).shape}')\n",
    "img"
   ]
  },
  {
   "cell_type": "markdown",
   "metadata": {},
   "source": [
    "2. Now we define the path to the image directory\n",
    "and then gaining the dataset with **ImageFolder**."
   ]
  },
  {
   "cell_type": "code",
   "execution_count": 12,
   "metadata": {},
   "outputs": [],
   "source": [
    "path = Path(data_path / 'Animal_Images')"
   ]
  },
  {
   "cell_type": "code",
   "execution_count": 36,
   "metadata": {},
   "outputs": [],
   "source": [
    "dataset = ImageFolder(\n",
    "    \n",
    "    root = path,\n",
    "    transform=transforms.Compose([\n",
    "    transforms.Grayscale(),\n",
    "    transforms.Resize(size=(124,124)), # Maybe need to make it smaller\n",
    "    transforms.ToTensor()\n",
    "    ])\n",
    ")"
   ]
  },
  {
   "cell_type": "code",
   "execution_count": 37,
   "metadata": {},
   "outputs": [
    {
     "data": {
      "text/plain": [
       "torchvision.datasets.folder.ImageFolder"
      ]
     },
     "execution_count": 37,
     "metadata": {},
     "output_type": "execute_result"
    }
   ],
   "source": [
    "type(dataset)"
   ]
  },
  {
   "cell_type": "code",
   "execution_count": 72,
   "metadata": {},
   "outputs": [],
   "source": [
    "# Splitting the dataset into train, test and validation datasets.\n",
    "\n",
    "torch.manual_seed(42)\n",
    "from torch.utils.data import random_split, DataLoader\n",
    "\n",
    "train_size = int(len(dataset) * 0.7)\n",
    "test_size = int(len(dataset) * 0.15)\n",
    "\n",
    "val_size = len(dataset) - train_size - test_size\n",
    "\n",
    "train_dataset, test_dataset, val_dataset = random_split(dataset, \n",
    "                                                        [train_size, \n",
    "                                                         test_size,\n",
    "                                                         val_size]\n",
    "                                                       )\n"
   ]
  },
  {
   "cell_type": "markdown",
   "metadata": {},
   "source": [
    "1. Splitting data into batches using the *DataLoader*."
   ]
  },
  {
   "cell_type": "code",
   "execution_count": 42,
   "metadata": {},
   "outputs": [],
   "source": [
    "\n",
    "BATCH_SIZE = 64\n",
    "\n",
    "train_dataloader = DataLoader(dataset=train_dataset,\n",
    "                              batch_size=BATCH_SIZE,\n",
    "                              shuffle=True,\n",
    "                              num_workers=os.cpu_count()\n",
    "                             )\n",
    "\n",
    "test_loader = DataLoader(dataset=test_dataset,\n",
    "                        batch_size=BATCH_SIZE,\n",
    "                        shuffle=False,\n",
    "                        num_workers=os.cpu_count()\n",
    "                        )\n",
    "\n",
    "val_loader = DataLoader(dataset=val_dataset,\n",
    "                       batch_size=BATCH_SIZE,\n",
    "                       shuffle=False,\n",
    "                       num_workers=os.cpu_count())"
   ]
  },
  {
   "cell_type": "markdown",
   "metadata": {},
   "source": [
    "## 3. Bulding the model"
   ]
  },
  {
   "cell_type": "code",
   "execution_count": 114,
   "metadata": {},
   "outputs": [],
   "source": [
    "class DogCat(nn.Module):\n",
    "    def __init__(self, input_shape, hidden_shape, output_shape=2):\n",
    "        super().__init__()\n",
    "        \n",
    "        self.block1 = nn.Sequential(nn.BatchNorm2d(num_features=1),\n",
    "                                   nn.Conv2d(in_channels=1,\n",
    "                                             out_channels=3,\n",
    "                                             kernel_size=(3,3),\n",
    "                                             stride=1,\n",
    "                                             padding=1\n",
    "                                            ),\n",
    "                                    nn.ReLU(),\n",
    "                                    nn.BatchNorm2d(num_features=3),\n",
    "                                    nn.Conv2d(in_channels=3,\n",
    "                                              out_channels=6,\n",
    "                                              kernel_size=(3,3),\n",
    "                                              stride=1,\n",
    "                                              padding=1\n",
    "                                    ),\n",
    "                                    nn.MaxPool2d(kernel_size=(3,3)),\n",
    "                                    nn.ReLU(),\n",
    "                                    nn.BatchNorm2d(num_features=6)\n",
    "                                   )\n",
    "        \n",
    "        self.block2 = nn.Sequential(nn.BatchNorm2d(num_features=6),\n",
    "                                   nn.Conv2d(in_channels=6,\n",
    "                                             out_channels=9,\n",
    "                                             kernel_size=(3,3),\n",
    "                                             stride=1,\n",
    "                                             padding=1\n",
    "                                            ),\n",
    "                                    nn.ReLU(),\n",
    "                                    nn.BatchNorm2d(num_features=9),\n",
    "                                    nn.Conv2d(in_channels=9,\n",
    "                                              out_channels=12,\n",
    "                                              kernel_size=(3,3),\n",
    "                                              stride=1,\n",
    "                                              padding=1\n",
    "                                    ),\n",
    "                                    nn.MaxPool2d(kernel_size=(3,3)),\n",
    "                                    nn.ReLU(),\n",
    "                                    nn.BatchNorm2d(num_features=12))\n",
    "        \n",
    "        self.classifier = nn.Sequential(nn.Flatten(),\n",
    "                                       nn.Linear(in_features=2028,\n",
    "                                                out_features=124),\n",
    "                                        nn.Linear(in_features=124,\n",
    "                                                 out_features=output_shape)\n",
    "                                       )\n",
    "    def forward(self, X):\n",
    "        print(X.shape)\n",
    "        X = self.block1(X)\n",
    "        print(X.shape)\n",
    "        X = self.block2(X)\n",
    "        print(X.shape)\n",
    "        X = self.classifier(X)\n",
    "        print(X.shape)\n",
    "        return X"
   ]
  },
  {
   "cell_type": "code",
   "execution_count": 115,
   "metadata": {},
   "outputs": [],
   "source": [
    "model = DogCat(input_shape=124,\n",
    "              hidden_shape=10)"
   ]
  },
  {
   "cell_type": "code",
   "execution_count": 127,
   "metadata": {},
   "outputs": [
    {
     "data": {
      "text/plain": [
       "(tensor([[[0.9216, 0.9294, 0.9294,  ..., 0.9765, 0.9725, 0.9686],\n",
       "          [0.9569, 0.9569, 0.9569,  ..., 0.9765, 0.9686, 0.9686],\n",
       "          [0.9765, 0.9725, 0.9686,  ..., 0.9725, 0.9647, 0.9608],\n",
       "          ...,\n",
       "          [0.6000, 0.6196, 0.6275,  ..., 0.6196, 0.6275, 0.6275],\n",
       "          [0.6314, 0.6549, 0.6588,  ..., 0.6118, 0.6157, 0.6157],\n",
       "          [0.7255, 0.7412, 0.7333,  ..., 0.6118, 0.6118, 0.6118]]]),\n",
       " 1)"
      ]
     },
     "execution_count": 127,
     "metadata": {},
     "output_type": "execute_result"
    }
   ],
   "source": [
    "train_dataset[0]"
   ]
  },
  {
   "cell_type": "code",
   "execution_count": 117,
   "metadata": {},
   "outputs": [
    {
     "data": {
      "text/plain": [
       "329"
      ]
     },
     "execution_count": 117,
     "metadata": {},
     "output_type": "execute_result"
    }
   ],
   "source": [
    "len(train_dataloader)"
   ]
  },
  {
   "cell_type": "code",
   "execution_count": 125,
   "metadata": {
    "collapsed": true
   },
   "outputs": [
    {
     "name": "stdout",
     "output_type": "stream",
     "text": [
      "torch.Size([64, 1, 124, 124])\n",
      "torch.Size([64, 6, 41, 41])\n",
      "torch.Size([64, 12, 13, 13])\n",
      "torch.Size([64, 2])\n",
      "tensor([[0.4952, 0.5048],\n",
      "        [0.4026, 0.5974],\n",
      "        [0.5749, 0.4251],\n",
      "        [0.2508, 0.7492],\n",
      "        [0.1748, 0.8252],\n",
      "        [0.7149, 0.2851],\n",
      "        [0.5990, 0.4010],\n",
      "        [0.3222, 0.6778],\n",
      "        [0.3836, 0.6164],\n",
      "        [0.4233, 0.5767],\n",
      "        [0.5815, 0.4185],\n",
      "        [0.6873, 0.3127],\n",
      "        [0.5745, 0.4255],\n",
      "        [0.4973, 0.5027],\n",
      "        [0.6766, 0.3234],\n",
      "        [0.4381, 0.5619],\n",
      "        [0.3521, 0.6479],\n",
      "        [0.3915, 0.6085],\n",
      "        [0.1297, 0.8703],\n",
      "        [0.3181, 0.6819],\n",
      "        [0.5136, 0.4864],\n",
      "        [0.5386, 0.4614],\n",
      "        [0.4254, 0.5746],\n",
      "        [0.4842, 0.5158],\n",
      "        [0.5181, 0.4819],\n",
      "        [0.5308, 0.4692],\n",
      "        [0.3700, 0.6300],\n",
      "        [0.3623, 0.6377],\n",
      "        [0.3739, 0.6261],\n",
      "        [0.3611, 0.6389],\n",
      "        [0.6188, 0.3812],\n",
      "        [0.5219, 0.4781],\n",
      "        [0.5658, 0.4342],\n",
      "        [0.3853, 0.6147],\n",
      "        [0.3401, 0.6599],\n",
      "        [0.5116, 0.4884],\n",
      "        [0.2979, 0.7021],\n",
      "        [0.5955, 0.4045],\n",
      "        [0.3323, 0.6677],\n",
      "        [0.5718, 0.4282],\n",
      "        [0.3152, 0.6848],\n",
      "        [0.2290, 0.7710],\n",
      "        [0.6117, 0.3883],\n",
      "        [0.5629, 0.4371],\n",
      "        [0.5797, 0.4203],\n",
      "        [0.5136, 0.4864],\n",
      "        [0.3948, 0.6052],\n",
      "        [0.1709, 0.8291],\n",
      "        [0.4819, 0.5181],\n",
      "        [0.7012, 0.2988],\n",
      "        [0.5666, 0.4334],\n",
      "        [0.2992, 0.7008],\n",
      "        [0.4003, 0.5997],\n",
      "        [0.6298, 0.3702],\n",
      "        [0.4857, 0.5143],\n",
      "        [0.5017, 0.4983],\n",
      "        [0.4009, 0.5991],\n",
      "        [0.3497, 0.6503],\n",
      "        [0.4130, 0.5870],\n",
      "        [0.5824, 0.4176],\n",
      "        [0.5179, 0.4821],\n",
      "        [0.4538, 0.5462],\n",
      "        [0.7792, 0.2208],\n",
      "        [0.6039, 0.3961]], grad_fn=<SoftmaxBackward0>)\n"
     ]
    }
   ],
   "source": [
    "model.train()\n",
    "for batch , (X,y) in enumerate(train_dataloader):\n",
    "    if batch == 100:\n",
    "        print(torch.softmax(model(X), dim=1))\n",
    "    "
   ]
  }
 ],
 "metadata": {
  "colab": {
   "authorship_tag": "ABX9TyPawlQZDUtstsuT0OvAmzXL",
   "include_colab_link": true,
   "provenance": []
  },
  "kernelspec": {
   "display_name": "Python 3 (ipykernel)",
   "language": "python",
   "name": "python3"
  },
  "language_info": {
   "codemirror_mode": {
    "name": "ipython",
    "version": 3
   },
   "file_extension": ".py",
   "mimetype": "text/x-python",
   "name": "python",
   "nbconvert_exporter": "python",
   "pygments_lexer": "ipython3",
   "version": "3.10.11"
  }
 },
 "nbformat": 4,
 "nbformat_minor": 4
}
