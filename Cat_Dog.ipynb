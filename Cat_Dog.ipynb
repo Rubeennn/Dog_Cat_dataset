{
  "nbformat": 4,
  "nbformat_minor": 0,
  "metadata": {
    "colab": {
      "provenance": [],
      "authorship_tag": "ABX9TyPawlQZDUtstsuT0OvAmzXL",
      "include_colab_link": true
    },
    "kernelspec": {
      "name": "python3",
      "display_name": "Python 3"
    },
    "language_info": {
      "name": "python"
    }
  },
  "cells": [
    {
      "cell_type": "markdown",
      "metadata": {
        "id": "view-in-github",
        "colab_type": "text"
      },
      "source": [
        "<a href=\"https://colab.research.google.com/github/Rubeennn/Dog_Cat_dataset/blob/main/Cat_Dog.ipynb\" target=\"_parent\"><img src=\"https://colab.research.google.com/assets/colab-badge.svg\" alt=\"Open In Colab\"/></a>"
      ]
    },
    {
      "cell_type": "code",
      "execution_count": 1,
      "metadata": {
        "id": "6AfzllUdo0ae"
      },
      "outputs": [],
      "source": [
        "! pip install -q kaggle"
      ]
    },
    {
      "cell_type": "code",
      "source": [
        "! mkdir ~/.kaggle"
      ],
      "metadata": {
        "id": "gbvLDigKpwQS"
      },
      "execution_count": 2,
      "outputs": []
    },
    {
      "cell_type": "code",
      "source": [
        "! cp kaggle.json ~/.kaggle/"
      ],
      "metadata": {
        "id": "qBARsMlsqEWw",
        "colab": {
          "base_uri": "https://localhost:8080/"
        },
        "outputId": "e5584328-5ab6-483b-c719-953574a6f8a3"
      },
      "execution_count": 3,
      "outputs": [
        {
          "output_type": "stream",
          "name": "stdout",
          "text": [
            "cp: cannot stat 'kaggle.json': No such file or directory\n"
          ]
        }
      ]
    },
    {
      "cell_type": "code",
      "source": [
        "! chmod 600 ~/.kaggle/kaggle.json"
      ],
      "metadata": {
        "id": "32G2elKJqJx0",
        "colab": {
          "base_uri": "https://localhost:8080/"
        },
        "outputId": "d3adcfb3-7be7-4ae5-8818-7828de75997a"
      },
      "execution_count": 4,
      "outputs": [
        {
          "output_type": "stream",
          "name": "stdout",
          "text": [
            "chmod: cannot access '/root/.kaggle/kaggle.json': No such file or directory\n"
          ]
        }
      ]
    },
    {
      "cell_type": "code",
      "source": [
        "! kaggle datasets download -d unmoved/30k-cats-and-dogs-150x150-greyscale"
      ],
      "metadata": {
        "colab": {
          "base_uri": "https://localhost:8080/"
        },
        "id": "M7APutWuqSzS",
        "outputId": "f724bece-2e11-4d30-ac49-c0caa6d1ccf5"
      },
      "execution_count": 5,
      "outputs": [
        {
          "output_type": "stream",
          "name": "stdout",
          "text": [
            "Dataset URL: https://www.kaggle.com/datasets/unmoved/30k-cats-and-dogs-150x150-greyscale\n",
            "License(s): CC0-1.0\n",
            "Downloading 30k-cats-and-dogs-150x150-greyscale.zip to /content\n",
            " 90% 120M/133M [00:01<00:00, 146MB/s] \n",
            "100% 133M/133M [00:01<00:00, 116MB/s]\n"
          ]
        }
      ]
    },
    {
      "cell_type": "code",
      "source": [
        "from pathlib import Path\n",
        "\n",
        "data_path = Path('data')\n",
        "\n",
        "data_path.mkdir(exist_ok=True, parents=True)\n"
      ],
      "metadata": {
        "id": "QDv5yJmSq0tE"
      },
      "execution_count": 6,
      "outputs": []
    },
    {
      "cell_type": "code",
      "source": [
        "import zipfile\n",
        "\n",
        "with zipfile.ZipFile('30k-cats-and-dogs-150x150-greyscale.zip', 'r') as z:\n",
        "  z.extractall(data_path)"
      ],
      "metadata": {
        "id": "sKYlRWC1qZgR"
      },
      "execution_count": 7,
      "outputs": []
    },
    {
      "cell_type": "code",
      "source": [
        "cat_path = data_path / 'Animal Images' / 'cats'\n",
        "cat_path\n",
        "dog_path = data_path / 'Animal Images' / 'dogs'"
      ],
      "metadata": {
        "id": "8xdn75lDr6sh"
      },
      "execution_count": 8,
      "outputs": []
    },
    {
      "cell_type": "code",
      "source": [
        "import os\n",
        "count = 0\n",
        "for image in os.listdir(cat_path):\n",
        "  count += 1\n",
        "count"
      ],
      "metadata": {
        "colab": {
          "base_uri": "https://localhost:8080/"
        },
        "id": "5oUHX8THsoyc",
        "outputId": "266e3fcc-0307-4f1a-d1f1-a262e2cf7fd8"
      },
      "execution_count": 9,
      "outputs": [
        {
          "output_type": "execute_result",
          "data": {
            "text/plain": [
              "15060"
            ]
          },
          "metadata": {},
          "execution_count": 9
        }
      ]
    },
    {
      "cell_type": "code",
      "source": [
        "import random\n",
        "import shutil"
      ],
      "metadata": {
        "id": "d9y1LGtxvB2l"
      },
      "execution_count": 10,
      "outputs": []
    },
    {
      "cell_type": "code",
      "source": [
        "train_data_cat_paths  = []\n",
        "val_data_cat_paths = []\n",
        "test_data_cat_paths = []\n",
        "\n",
        "for root, dirs, files in os.walk(cat_path):\n",
        "  random.shuffle(files)\n",
        "  image_count = len(files)\n",
        "\n",
        "  for f in files[:int(image_count * 0.7)]:\n",
        "    train_data_cat_paths.append((Path(root) / f))\n",
        "  for f in files[int(image_count * 0.7): int(image_count * 0.85)]:\n",
        "    val_data_cat_paths.append((Path(root) / f))\n",
        "  for f in files[int(image_count * 0.85):]:\n",
        "    test_data_cat_paths.append(Path(root) / f)\n",
        "\n",
        "train_data_dog_paths  = []\n",
        "val_data_dog_paths = []\n",
        "test_data_dog_paths = []\n",
        "\n",
        "for root, dirs, files in os.walk(dog_path):\n",
        "  random.shuffle(files)\n",
        "  image_count = len(files)\n",
        "\n",
        "  for f in files[:int(image_count * 0.7)]:\n",
        "    train_data_dog_paths.append((Path(root) / f))\n",
        "  for f in files[int(image_count * 0.7): int(image_count * 0.85)]:\n",
        "    val_data_dog_paths.append((Path(root) / f))\n",
        "  for f in files[int(image_count * 0.85):]:\n",
        "    test_data_dog_paths.append(Path(root) / f)"
      ],
      "metadata": {
        "id": "AIcK59tNuM5l"
      },
      "execution_count": 11,
      "outputs": []
    },
    {
      "cell_type": "code",
      "source": [
        "train_path = Path('images/train')\n",
        "val_path = Path('images/val')\n",
        "test_path = Path('images/test')\n",
        "\n",
        "train_path.mkdir(exist_ok=True, parents=True)\n",
        "val_path.mkdir(exist_ok=True, parents=True)\n",
        "test_path.mkdir(exist_ok=True, parents=True)"
      ],
      "metadata": {
        "id": "5iZO_BGEzIZP"
      },
      "execution_count": 12,
      "outputs": []
    },
    {
      "cell_type": "code",
      "source": [
        "train_data_cat_paths[0]"
      ],
      "metadata": {
        "colab": {
          "base_uri": "https://localhost:8080/"
        },
        "id": "BQSF-kQW7gSo",
        "outputId": "319f34ce-5f9c-4230-c572-274913c1ee3c"
      },
      "execution_count": 13,
      "outputs": [
        {
          "output_type": "execute_result",
          "data": {
            "text/plain": [
              "PosixPath('data/Animal Images/cats/2015-08-20_1055975721579923704.jpg')"
            ]
          },
          "metadata": {},
          "execution_count": 13
        }
      ]
    },
    {
      "cell_type": "code",
      "source": [
        "train_data_paths = train_data_cat_paths + train_data_dog_paths\n",
        "test_data_paths = test_data_cat_paths + test_data_dog_paths\n",
        "val_data_paths = val_data_cat_paths + val_data_dog_paths"
      ],
      "metadata": {
        "id": "Q-JY1e5u0Jbr"
      },
      "execution_count": 14,
      "outputs": []
    },
    {
      "cell_type": "code",
      "source": [
        "train_data_paths[0]"
      ],
      "metadata": {
        "colab": {
          "base_uri": "https://localhost:8080/"
        },
        "id": "Db6cSctu8TvJ",
        "outputId": "a2d30d75-551a-4433-d768-e703daa01567"
      },
      "execution_count": 15,
      "outputs": [
        {
          "output_type": "execute_result",
          "data": {
            "text/plain": [
              "PosixPath('data/Animal Images/cats/2015-08-20_1055975721579923704.jpg')"
            ]
          },
          "metadata": {},
          "execution_count": 15
        }
      ]
    },
    {
      "cell_type": "code",
      "source": [
        "random.shuffle(train_data_paths)\n",
        "random.shuffle(test_data_paths)\n",
        "random.shuffle(val_data_paths)"
      ],
      "metadata": {
        "id": "v6aDKNNV1yMH"
      },
      "execution_count": 16,
      "outputs": []
    },
    {
      "cell_type": "code",
      "source": [
        "train_data_paths[0]"
      ],
      "metadata": {
        "colab": {
          "base_uri": "https://localhost:8080/"
        },
        "id": "qNIjwElr8Z9g",
        "outputId": "79f6f9fc-6964-4e13-9bce-022905a86618"
      },
      "execution_count": 17,
      "outputs": [
        {
          "output_type": "execute_result",
          "data": {
            "text/plain": [
              "PosixPath('data/Animal Images/cats/cat.2680.jpg')"
            ]
          },
          "metadata": {},
          "execution_count": 17
        }
      ]
    },
    {
      "cell_type": "code",
      "source": [
        "for img_path in train_data_paths:\n",
        "  shutil.move(img_path, train_path)\n",
        "for img_path in test_data_paths:\n",
        " shutil.move(img_path, test_path)\n",
        "for img_path in val_data_paths:\n",
        " shutil.move(img_path, val_path)"
      ],
      "metadata": {
        "id": "uyjmGoNx0yzX"
      },
      "execution_count": 18,
      "outputs": []
    },
    {
      "cell_type": "code",
      "source": [],
      "metadata": {
        "id": "JAt92rVbpRGC"
      },
      "execution_count": null,
      "outputs": []
    }
  ]
}