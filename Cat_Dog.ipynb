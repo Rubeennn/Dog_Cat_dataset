{
  "cells": [
    {
      "cell_type": "markdown",
      "metadata": {
        "id": "view-in-github"
      },
      "source": [
        "<a href=\"https://colab.research.google.com/github/Rubeennn/Dog_Cat_dataset/blob/main/Cat_Dog.ipynb\" target=\"_parent\"><img src=\"https://colab.research.google.com/assets/colab-badge.svg\" alt=\"Open In Colab\"/></a>"
      ]
    },
    {
      "cell_type": "code",
      "execution_count": 1,
      "metadata": {
        "id": "6AfzllUdo0ae"
      },
      "outputs": [],
      "source": [
        "! pip3 install -q kaggle"
      ]
    },
    {
      "cell_type": "code",
      "execution_count": 2,
      "metadata": {
        "id": "gbvLDigKpwQS"
      },
      "outputs": [],
      "source": [
        "! mkdir ~/.kaggle"
      ]
    },
    {
      "cell_type": "code",
      "execution_count": 3,
      "metadata": {
        "colab": {
          "base_uri": "https://localhost:8080/"
        },
        "id": "qBARsMlsqEWw",
        "outputId": "60d3e8ba-6ce4-4300-8526-5b944875ff78"
      },
      "outputs": [
        {
          "output_type": "stream",
          "name": "stdout",
          "text": [
            "cp: cannot stat 'kaggle.json': No such file or directory\n"
          ]
        }
      ],
      "source": [
        "! cp kaggle.json ~/.kaggle/"
      ]
    },
    {
      "cell_type": "code",
      "execution_count": 4,
      "metadata": {
        "colab": {
          "base_uri": "https://localhost:8080/"
        },
        "id": "32G2elKJqJx0",
        "outputId": "44882322-5530-4a50-a7e1-b14108617198"
      },
      "outputs": [
        {
          "output_type": "stream",
          "name": "stdout",
          "text": [
            "chmod: cannot access '/root/.kaggle/kaggle.json': No such file or directory\n"
          ]
        }
      ],
      "source": [
        "! chmod 600 ~/.kaggle/kaggle.json"
      ]
    },
    {
      "cell_type": "code",
      "execution_count": 5,
      "metadata": {
        "colab": {
          "base_uri": "https://localhost:8080/"
        },
        "id": "M7APutWuqSzS",
        "outputId": "6b3e474a-910c-4565-ee91-9f57324d69b6"
      },
      "outputs": [
        {
          "output_type": "stream",
          "name": "stdout",
          "text": [
            "Dataset URL: https://www.kaggle.com/datasets/unmoved/30k-cats-and-dogs-150x150-greyscale\n",
            "License(s): CC0-1.0\n",
            "Downloading 30k-cats-and-dogs-150x150-greyscale.zip to /content\n",
            " 98% 130M/133M [00:09<00:00, 18.9MB/s]\n",
            "100% 133M/133M [00:09<00:00, 14.0MB/s]\n"
          ]
        }
      ],
      "source": [
        "! kaggle datasets download -d unmoved/30k-cats-and-dogs-150x150-greyscale"
      ]
    },
    {
      "cell_type": "code",
      "execution_count": 6,
      "metadata": {
        "id": "QDv5yJmSq0tE"
      },
      "outputs": [],
      "source": [
        "from pathlib import Path\n",
        "\n",
        "data_path = Path('data')\n",
        "\n",
        "data_path.mkdir(exist_ok=True, parents=True)\n"
      ]
    },
    {
      "cell_type": "code",
      "execution_count": 7,
      "metadata": {
        "id": "sKYlRWC1qZgR"
      },
      "outputs": [],
      "source": [
        "import zipfile\n",
        "\n",
        "with zipfile.ZipFile('30k-cats-and-dogs-150x150-greyscale.zip', 'r') as z:\n",
        "    z.extractall(data_path)"
      ]
    },
    {
      "cell_type": "code",
      "execution_count": 8,
      "metadata": {
        "id": "8xdn75lDr6sh"
      },
      "outputs": [],
      "source": [
        "cat_path = data_path / 'Animal Images' / 'cats'\n",
        "cat_path\n",
        "dog_path = data_path / 'Animal Images' / 'dogs'"
      ]
    },
    {
      "cell_type": "markdown",
      "metadata": {
        "id": "3Q0QDCdFXl2w"
      },
      "source": [
        "### Importing the necessary packages"
      ]
    },
    {
      "cell_type": "code",
      "execution_count": 9,
      "metadata": {
        "id": "3bgfqhM8Xl2x"
      },
      "outputs": [],
      "source": [
        "from torch.utils.data import random_split, DataLoader\n",
        "from torchvision.datasets import ImageFolder\n",
        "from torchvision import transforms\n",
        "from tqdm.auto import tqdm\n",
        "from PIL import Image\n",
        "from torch import nn\n",
        "import pandas as pd\n",
        "import torchvision\n",
        "import numpy as np\n",
        "import torch\n",
        "import time\n",
        "import os\n"
      ]
    },
    {
      "cell_type": "code",
      "execution_count": 10,
      "metadata": {
        "colab": {
          "base_uri": "https://localhost:8080/",
          "height": 184
        },
        "id": "PnO_gSR5Xl2z",
        "outputId": "5babc5b3-777c-4bc6-8e8c-ac52b71f1f11"
      },
      "outputs": [
        {
          "output_type": "stream",
          "name": "stdout",
          "text": [
            "Shape of the image is: (150, 150)\n"
          ]
        },
        {
          "output_type": "execute_result",
          "data": {
            "text/plain": [
              "<PIL.JpegImagePlugin.JpegImageFile image mode=L size=150x150>"
            ],
            "image/png": "[encoded data removed]"
          },
          "metadata": {},
          "execution_count": 10
        }
      ],
      "source": [
        "# Visualizing one image\n",
        "cat_image_names = os.listdir(cat_path)\n",
        "first_cat_image_path = cat_path / cat_image_names[0]\n",
        "img = Image.open(fp=first_cat_image_path)\n",
        "print(f'Shape of the image is: {np.asarray(img).shape}')\n",
        "img"
      ]
    },
    {
      "cell_type": "markdown",
      "metadata": {
        "id": "G9mjCW5zXl20"
      },
      "source": [
        "2. Now we define the path to the image directory\n",
        "and then gaining the dataset with **ImageFolder**."
      ]
    },
    {
      "cell_type": "code",
      "source": [
        "data_path"
      ],
      "metadata": {
        "colab": {
          "base_uri": "https://localhost:8080/"
        },
        "id": "kA1hGPf-joRm",
        "outputId": "7a54c149-1a12-4dd0-a6ca-271eef86ea1e"
      },
      "execution_count": 11,
      "outputs": [
        {
          "output_type": "execute_result",
          "data": {
            "text/plain": [
              "PosixPath('data')"
            ]
          },
          "metadata": {},
          "execution_count": 11
        }
      ]
    },
    {
      "cell_type": "code",
      "source": [
        "# Device agnostic code\n",
        "device = torch.device('cuda' if torch.cuda.is_available() else 'cpu')\n",
        "device"
      ],
      "metadata": {
        "colab": {
          "base_uri": "https://localhost:8080/"
        },
        "id": "J01NkcsubMTb",
        "outputId": "bf9cbbd1-502f-4ae4-9fad-dcd964a9627e"
      },
      "execution_count": 12,
      "outputs": [
        {
          "output_type": "execute_result",
          "data": {
            "text/plain": [
              "device(type='cuda')"
            ]
          },
          "metadata": {},
          "execution_count": 12
        }
      ]
    },
    {
      "cell_type": "code",
      "execution_count": 13,
      "metadata": {
        "id": "EbJHQhEKXl21"
      },
      "outputs": [],
      "source": [
        "dataset = ImageFolder(\n",
        "\n",
        "    root = data_path / 'Animal Images',\n",
        "    transform=transforms.Compose([\n",
        "    transforms.Grayscale(),\n",
        "    transforms.Resize(size=(124,124)), # Maybe need to make it smaller\n",
        "    transforms.ToTensor()\n",
        "    ])\n",
        ")"
      ]
    },
    {
      "cell_type": "markdown",
      "metadata": {
        "id": "tF4Wa-k9Xl24"
      },
      "source": [
        "## 3. Bulding the model"
      ]
    },
    {
      "cell_type": "code",
      "execution_count": 16,
      "metadata": {
        "id": "e-qqayxiXl22"
      },
      "outputs": [],
      "source": [
        "# Splitting the dataset into train, test and validation datasets.\n",
        "\n",
        "torch.manual_seed(42)\n",
        "\n",
        "train_size = int(len(dataset) * 0.7)\n",
        "test_size = int(len(dataset) * 0.15)\n",
        "\n",
        "val_size = len(dataset) - train_size - test_size\n",
        "\n",
        "train_dataset, test_dataset, val_dataset = random_split(dataset,\n",
        "                                                        [train_size,\n",
        "                                                         test_size,\n",
        "                                                         val_size]\n",
        "                                                       )\n"
      ]
    },
    {
      "cell_type": "markdown",
      "metadata": {
        "id": "3TGM7ePNXl22"
      },
      "source": [
        "1. Splitting data into batches using the *DataLoader*."
      ]
    },
    {
      "cell_type": "code",
      "execution_count": 19,
      "metadata": {
        "id": "_vFLPR_bXl23"
      },
      "outputs": [],
      "source": [
        "\n",
        "BATCH_SIZE = 64\n",
        "\n",
        "train_dataloader = DataLoader(dataset=train_dataset,\n",
        "                              batch_size=BATCH_SIZE,\n",
        "                              shuffle=True,\n",
        "                              num_workers=os.cpu_count()\n",
        "                             )\n",
        "\n",
        "test_loader = DataLoader(dataset=test_dataset,\n",
        "                        batch_size=BATCH_SIZE,\n",
        "                        shuffle=False,\n",
        "                        num_workers=os.cpu_count()\n",
        "                        )\n",
        "\n",
        "val_loader = DataLoader(dataset=val_dataset,\n",
        "                       batch_size=BATCH_SIZE,\n",
        "                       shuffle=False,\n",
        "                       num_workers=os.cpu_count())"
      ]
    },
    {
      "cell_type": "code",
      "source": [
        "dummy = torch.randint(0,255,size=(1,1,124,124),dtype=torch.float)\n",
        "conv = nn.Conv2d(in_channels=1,\n",
        "                                             out_channels=3,\n",
        "                                             kernel_size=(3,3),\n",
        "                                             stride=1,\n",
        "                                             padding=0\n",
        "                                            )\n",
        "output = conv(dummy)\n",
        "output.shape, dummy.shape"
      ],
      "metadata": {
        "colab": {
          "base_uri": "https://localhost:8080/"
        },
        "id": "t1pVUPRg45Zv",
        "outputId": "f430ced4-2029-42a9-c845-838a2477f4dc"
      },
      "execution_count": 18,
      "outputs": [
        {
          "output_type": "execute_result",
          "data": {
            "text/plain": [
              "(torch.Size([1, 3, 122, 122]), torch.Size([1, 1, 124, 124]))"
            ]
          },
          "metadata": {},
          "execution_count": 18
        }
      ]
    },
    {
      "cell_type": "code",
      "source": [
        "class miniDogCat(nn.Module):\n",
        "    def __init__(self, input_shape, hidden_shape,output_shape=1):\n",
        "        super().__init__()\n",
        "\n",
        "        self.block1 = nn.Sequential(nn.BatchNorm2d(num_features=1),\n",
        "                                   nn.Conv2d(in_channels=1,\n",
        "                                             out_channels=hidden_shape,\n",
        "                                             kernel_size=(3,3),\n",
        "                                             stride=1,\n",
        "                                             padding=0\n",
        "                                            ),\n",
        "                                    nn.BatchNorm2d(num_features=hidden_shape),\n",
        "                                    nn.ReLU(),\n",
        "                                    nn.Conv2d(in_channels=hidden_shape,\n",
        "                                              out_channels=hidden_shape,\n",
        "                                              kernel_size=(3,3),\n",
        "                                              stride=1,\n",
        "                                              padding=0\n",
        "                                    ),\n",
        "                                    nn.BatchNorm2d(num_features=hidden_shape),\n",
        "                                    nn.ReLU(),\n",
        "                                    nn.MaxPool2d(kernel_size=(3,3),stride=2),\n",
        "                                    nn.Dropout2d(p=0.15)\n",
        "                                   )\n",
        "\n",
        "        self.block2 = nn.Sequential(nn.BatchNorm2d(num_features=hidden_shape),\n",
        "                                   nn.Conv2d(in_channels=hidden_shape,\n",
        "                                             out_channels=hidden_shape,\n",
        "                                             kernel_size=(3,3),\n",
        "                                             stride=1,\n",
        "                                             padding=0\n",
        "                                            ),\n",
        "                                    nn.BatchNorm2d(num_features=hidden_shape),\n",
        "                                    nn.ReLU(),\n",
        "                                    nn.Conv2d(in_channels=hidden_shape,\n",
        "                                              out_channels=hidden_shape,\n",
        "                                              kernel_size=(3,3),\n",
        "                                              stride=1,\n",
        "                                              padding=1\n",
        "                                    ),\n",
        "                                    nn.MaxPool2d(kernel_size=(3,3)),\n",
        "                                    nn.BatchNorm2d(num_features=hidden_shape),\n",
        "                                    nn.ReLU(),\n",
        "                                    nn.Dropout2d(p=0.15))\n",
        "\n",
        "        self.classifier = nn.Sequential(nn.Flatten(),\n",
        "                                       nn.Linear(in_features=5415,\n",
        "                                                out_features=124),\n",
        "                                        nn.ReLU(),\n",
        "                                        nn.Dropout2d(p=0.6),\n",
        "                                        nn.Linear(in_features=124,\n",
        "                                                 out_features=output_shape)\n",
        "                                       )\n",
        "    def forward(self, X):\n",
        "        # print(X.shape)\n",
        "        X = self.block1(X)\n",
        "        # print(X.shape)\n",
        "        X = self.block2(X)\n",
        "        # print(X.shape)\n",
        "        X = self.classifier(X)\n",
        "        # print(X.shape)\n",
        "        return X"
      ],
      "metadata": {
        "id": "vGtTJ0dlwely"
      },
      "execution_count": 74,
      "outputs": []
    },
    {
      "cell_type": "code",
      "execution_count": 75,
      "metadata": {
        "id": "2gSApE-DXl24"
      },
      "outputs": [],
      "source": [
        "model = miniDogCat(input_shape=124,\n",
        "              hidden_shape=15).to(device)"
      ]
    },
    {
      "cell_type": "code",
      "source": [
        "dummy = torch.randint(0, 255, size=(1,1,124,124), dtype=torch.float).to(device)\n",
        "model(dummy)"
      ],
      "metadata": {
        "colab": {
          "base_uri": "https://localhost:8080/"
        },
        "id": "M0U8FLuF6hEu",
        "outputId": "0e80165d-ae7c-41e5-bb2c-679f36b49453"
      },
      "execution_count": 76,
      "outputs": [
        {
          "output_type": "execute_result",
          "data": {
            "text/plain": [
              "tensor([[-0.0905]], device='cuda:0', grad_fn=<AddmmBackward0>)"
            ]
          },
          "metadata": {},
          "execution_count": 76
        }
      ]
    },
    {
      "cell_type": "code",
      "execution_count": 77,
      "metadata": {
        "id": "owCcUmRDXl26"
      },
      "outputs": [],
      "source": [
        "optimizer = torch.optim.Adam(params=model.parameters(),\n",
        "                       lr=0.001)\n",
        "\n",
        "loss = nn.BCEWithLogitsLoss()"
      ]
    },
    {
      "cell_type": "code",
      "execution_count": 78,
      "metadata": {
        "colab": {
          "base_uri": "https://localhost:8080/"
        },
        "id": "c5u08HflXl26",
        "outputId": "f03df6a6-2278-4efa-e570-0b8d1a6af88c"
      },
      "outputs": [
        {
          "output_type": "execute_result",
          "data": {
            "text/plain": [
              "329"
            ]
          },
          "metadata": {},
          "execution_count": 78
        }
      ],
      "source": [
        "len(train_dataloader)"
      ]
    },
    {
      "cell_type": "code",
      "source": [
        "model"
      ],
      "metadata": {
        "colab": {
          "base_uri": "https://localhost:8080/"
        },
        "collapsed": true,
        "id": "y5yw_1RpbjCX",
        "outputId": "6bf1e0b7-fc00-455d-9bfe-36a9e3c9a800"
      },
      "execution_count": 79,
      "outputs": [
        {
          "output_type": "execute_result",
          "data": {
            "text/plain": [
              "miniDogCat(\n",
              "  (block1): Sequential(\n",
              "    (0): BatchNorm2d(1, eps=1e-05, momentum=0.1, affine=True, track_running_stats=True)\n",
              "    (1): Conv2d(1, 15, kernel_size=(3, 3), stride=(1, 1))\n",
              "    (2): BatchNorm2d(15, eps=1e-05, momentum=0.1, affine=True, track_running_stats=True)\n",
              "    (3): ReLU()\n",
              "    (4): Conv2d(15, 15, kernel_size=(3, 3), stride=(1, 1))\n",
              "    (5): BatchNorm2d(15, eps=1e-05, momentum=0.1, affine=True, track_running_stats=True)\n",
              "    (6): ReLU()\n",
              "    (7): MaxPool2d(kernel_size=(3, 3), stride=2, padding=0, dilation=1, ceil_mode=False)\n",
              "    (8): Dropout2d(p=0.15, inplace=False)\n",
              "  )\n",
              "  (block2): Sequential(\n",
              "    (0): BatchNorm2d(15, eps=1e-05, momentum=0.1, affine=True, track_running_stats=True)\n",
              "    (1): Conv2d(15, 15, kernel_size=(3, 3), stride=(1, 1))\n",
              "    (2): BatchNorm2d(15, eps=1e-05, momentum=0.1, affine=True, track_running_stats=True)\n",
              "    (3): ReLU()\n",
              "    (4): Conv2d(15, 15, kernel_size=(3, 3), stride=(1, 1), padding=(1, 1))\n",
              "    (5): MaxPool2d(kernel_size=(3, 3), stride=(3, 3), padding=0, dilation=1, ceil_mode=False)\n",
              "    (6): BatchNorm2d(15, eps=1e-05, momentum=0.1, affine=True, track_running_stats=True)\n",
              "    (7): ReLU()\n",
              "    (8): Dropout2d(p=0.15, inplace=False)\n",
              "  )\n",
              "  (classifier): Sequential(\n",
              "    (0): Flatten(start_dim=1, end_dim=-1)\n",
              "    (1): Linear(in_features=5415, out_features=124, bias=True)\n",
              "    (2): ReLU()\n",
              "    (3): Dropout2d(p=0.6, inplace=False)\n",
              "    (4): Linear(in_features=124, out_features=1, bias=True)\n",
              "  )\n",
              ")"
            ]
          },
          "metadata": {},
          "execution_count": 79
        }
      ]
    },
    {
      "cell_type": "code",
      "source": [
        "train_losses = []\n",
        "train_accs = []\n",
        "val_losses = []\n",
        "val_accs = []"
      ],
      "metadata": {
        "id": "uWO-pQb0y2vn"
      },
      "execution_count": 80,
      "outputs": []
    },
    {
      "cell_type": "code",
      "source": [
        "epochs = 20\n",
        "start_time = time.time()\n",
        "for epoch in tqdm(range(epochs)):\n",
        "\n",
        "    train_total_loss = 0\n",
        "    train_total_acc = 0\n",
        "    total_val_loss = 0\n",
        "    total_val_acc = 0\n",
        "\n",
        "    for batch , (X,y) in enumerate(train_dataloader):\n",
        "\n",
        "        X, y = X.to(device), y.to(device)\n",
        "        model.train()\n",
        "\n",
        "        y_train_pred_logits = model(X)\n",
        "        y = y.unsqueeze(dim=-1).to(torch.float)\n",
        "\n",
        "        y_pred_probas = torch.round(torch.sigmoid(y_train_pred_logits))\n",
        "\n",
        "        train_loss = loss(y_train_pred_logits, y)\n",
        "        train_total_loss += train_loss.item()\n",
        "\n",
        "        train_total_acc += (torch.sum(y_pred_probas == y).item() / len(y)) * 100\n",
        "\n",
        "        optimizer.zero_grad()\n",
        "\n",
        "        train_loss.backward()\n",
        "\n",
        "        optimizer.step()\n",
        "\n",
        "    train_total_loss /= len(train_dataloader)\n",
        "    train_total_acc /= len(train_dataloader)\n",
        "    train_losses.append(train_total_loss)\n",
        "    train_accs.append(train_total_acc)\n",
        "\n",
        "    with torch.inference_mode():\n",
        "        model.eval()\n",
        "        for (X_val, y_val) in val_loader:\n",
        "\n",
        "            X_val, y_val = X_val.to(device), y_val.to(device)\n",
        "\n",
        "            y_val_pred_logits = model(X_val)\n",
        "            y_val_pred = torch.round(torch.sigmoid(y_val_pred_logits))\n",
        "\n",
        "            y_val = y_val.unsqueeze(dim=-1).to(torch.float)\n",
        "\n",
        "            val_loss = loss(y_val_pred_logits, y_val)\n",
        "            total_val_loss += val_loss.item()\n",
        "\n",
        "            total_val_acc += (torch.sum(y_val_pred == y_val).item() / len(y_val)) * 100\n",
        "\n",
        "    total_val_loss /= len(val_loader)\n",
        "    total_val_acc /= len(val_loader)\n",
        "    val_losses.append(total_val_loss)\n",
        "    val_accs.append(total_val_acc)\n",
        "\n",
        "    print(f'Train loss: {train_total_loss:.4f},train_acc: {train_total_acc:.4f}, Val loss: {total_val_loss:.4f}, val_acc: {total_val_acc:.4f}')\n",
        "\n",
        "end_time = time.time()\n",
        "print(f'time spent: {end_time - start_time}')\n",
        "\n",
        "\n",
        "\n",
        "\n",
        "\n"
      ],
      "metadata": {
        "collapsed": true,
        "colab": {
          "base_uri": "https://localhost:8080/",
          "height": 414,
          "referenced_widgets": [
            "1787bca88ca749c8bbc32c63fdf70079",
            "67d435d455074189adeecece71ce8c5e",
            "7a4bc6a372284d13a6bb2ec61602060c",
            "84d1f31ae6484e708fc38972fc6b9d0f",
            "53ff056b30ea4068b3cdfd719c5a637a",
            "e6a37f10c629460d827dfa1c2e082045",
            "39310361b0b44339b7bad0450587a19b",
            "58d5803c2f0644848d1fc7bab52765a9",
            "28dc8c1b9b0b4f2ab5b8ecdd450e6429",
            "317a142db1cd4093bdf7d12becace212",
            "85d3e148e5b04213b361e8ffaae87a8c"
          ]
        },
        "id": "BB03Xxj9ALIV",
        "outputId": "90dc9507-4e81-4b7c-eafe-ac870daf34e1"
      },
      "execution_count": 86,
      "outputs": [
        {
          "output_type": "display_data",
          "data": {
            "text/plain": [
              "  0%|          | 0/20 [00:00<?, ?it/s]"
            ],
            "application/vnd.jupyter.widget-view+json": {
              "version_major": 2,
              "version_minor": 0,
              "model_id": "1787bca88ca749c8bbc32c63fdf70079"
            }
          },
          "metadata": {}
        },
        {
          "output_type": "stream",
          "name": "stdout",
          "text": [
            "Train loss: 0.4105,train_acc: 80.8995, Val loss: 0.4350, val_acc: 79.6508\n",
            "Train loss: 0.4086,train_acc: 81.2331, Val loss: 0.4363, val_acc: 80.0528\n",
            "Train loss: 0.3940,train_acc: 81.9931, Val loss: 0.4073, val_acc: 80.8891\n",
            "Train loss: 0.3791,train_acc: 82.9346, Val loss: 0.4074, val_acc: 81.8794\n",
            "Train loss: 0.3762,train_acc: 82.8183, Val loss: 0.4108, val_acc: 81.7914\n",
            "Train loss: 0.3670,train_acc: 83.2052, Val loss: 0.4112, val_acc: 81.3322\n",
            "Train loss: 0.3639,train_acc: 83.0474, Val loss: 0.4191, val_acc: 80.3991\n",
            "Train loss: 0.3530,train_acc: 83.6826, Val loss: 0.4114, val_acc: 81.6623\n",
            "Train loss: 0.3379,train_acc: 84.6539, Val loss: 0.4046, val_acc: 81.6124\n",
            "Train loss: 0.3324,train_acc: 84.9258, Val loss: 0.4070, val_acc: 81.8985\n",
            "Train loss: 0.3246,train_acc: 85.0956, Val loss: 0.4015, val_acc: 82.6276\n",
            "Train loss: 0.3297,train_acc: 84.9078, Val loss: 0.4068, val_acc: 81.9865\n",
            "Train loss: 0.3191,train_acc: 85.2273, Val loss: 0.4138, val_acc: 82.4076\n",
            "Train loss: 0.3102,train_acc: 85.7996, Val loss: 0.4129, val_acc: 82.0995\n",
            "Train loss: 0.3035,train_acc: 86.4906, Val loss: 0.4043, val_acc: 82.9607\n",
            "Train loss: 0.3018,train_acc: 86.4099, Val loss: 0.4189, val_acc: 81.9645\n",
            "Train loss: 0.2988,train_acc: 86.4384, Val loss: 0.4355, val_acc: 81.1033\n",
            "Train loss: 0.2860,train_acc: 86.9311, Val loss: 0.4070, val_acc: 81.9865\n",
            "Train loss: 0.2827,train_acc: 87.2101, Val loss: 0.4453, val_acc: 80.6411\n",
            "Train loss: 0.2824,train_acc: 87.5129, Val loss: 0.4216, val_acc: 81.9263\n",
            "time spent: 416.1423215866089\n"
          ]
        }
      ]
    },
    {
      "cell_type": "code",
      "source": [
        "import matplotlib.pyplot as plt\n",
        "\n",
        "# Assuming train_losses and val_losses are lists or arrays containing your losses\n",
        "\n",
        "plt.plot(range(len(train_losses)), train_losses, c='b', label='Train Loss')\n",
        "plt.plot(range(len(val_losses)), val_losses, c='r', label='Validation Loss')\n",
        "\n",
        "plt.xlabel('Epoch')\n",
        "plt.ylabel('Loss')\n",
        "plt.title('Training and Validation Losses')\n",
        "\n",
        "plt.legend()\n",
        "plt.grid(True)\n",
        "plt.show()\n"
      ],
      "metadata": {
        "colab": {
          "base_uri": "https://localhost:8080/",
          "height": 472
        },
        "id": "L2t0V4P79v5K",
        "outputId": "c5414761-5b7c-4fe6-9839-3c5933d7d800"
      },
      "execution_count": 87,
      "outputs": [
        {
          "output_type": "display_data",
          "data": {
            "text/plain": [
              "<Figure size 640x480 with 1 Axes>"
            ],
            "image/png": "[encoded data removed]"
          },
          "metadata": {}
        }
      ]
    },
    {
      "cell_type": "code",
      "source": [
        "import matplotlib.pyplot as plt\n",
        "\n",
        "# Assuming train_losses and val_losses are lists or arrays containing your losses\n",
        "\n",
        "plt.plot(range(len(train_accs)), train_accs, c='b', label='Train Accuracy')\n",
        "plt.plot(range(len(val_accs)), val_accs, c='r', label='Validation Accuracy')\n",
        "\n",
        "plt.xlabel('Epoch')\n",
        "plt.ylabel('Loss')\n",
        "plt.title('Training and Validation Accuracies')\n",
        "\n",
        "plt.legend()\n",
        "plt.grid(True)\n",
        "plt.show()"
      ],
      "metadata": {
        "colab": {
          "base_uri": "https://localhost:8080/",
          "height": 472
        },
        "id": "DHeHQxFRPVWL",
        "outputId": "8b28ebbb-eff4-4571-ecde-991eb1a76ff2"
      },
      "execution_count": 88,
      "outputs": [
        {
          "output_type": "display_data",
          "data": {
            "text/plain": [
              "<Figure size 640x480 with 1 Axes>"
            ],
            "image/png": "[encoded data removed]"
          },
          "metadata": {}
        }
      ]
    },
    {
      "cell_type": "code",
      "source": [],
      "metadata": {
        "id": "UWnVA8yJ5iti"
      },
      "execution_count": null,
      "outputs": []
    }
  ],
  "metadata": {
    "colab": {
      "provenance": [],
      "gpuType": "T4"
    },
    "kernelspec": {
      "display_name": "Python 3",
      "name": "python3"
    },
    "language_info": {
      "codemirror_mode": {
        "name": "ipython",
        "version": 3
      },
      "file_extension": ".py",
      "mimetype": "text/x-python",
      "name": "python",
      "nbconvert_exporter": "python",
      "pygments_lexer": "ipython3",
      "version": "3.10.11"
    },
    "accelerator": "GPU",
    "widgets": {
      "application/vnd.jupyter.widget-state+json": {
        "1787bca88ca749c8bbc32c63fdf70079": {
          "model_module": "@jupyter-widgets/controls",
          "model_name": "HBoxModel",
          "model_module_version": "1.5.0",
          "state": {
            "_dom_classes": [],
            "_model_module": "@jupyter-widgets/controls",
            "_model_module_version": "1.5.0",
            "_model_name": "HBoxModel",
            "_view_count": null,
            "_view_module": "@jupyter-widgets/controls",
            "_view_module_version": "1.5.0",
            "_view_name": "HBoxView",
            "box_style": "",
            "children": [
              "IPY_MODEL_67d435d455074189adeecece71ce8c5e",
              "IPY_MODEL_7a4bc6a372284d13a6bb2ec61602060c",
              "IPY_MODEL_84d1f31ae6484e708fc38972fc6b9d0f"
            ],
            "layout": "IPY_MODEL_53ff056b30ea4068b3cdfd719c5a637a"
          }
        },
        "67d435d455074189adeecece71ce8c5e": {
          "model_module": "@jupyter-widgets/controls",
          "model_name": "HTMLModel",
          "model_module_version": "1.5.0",
          "state": {
            "_dom_classes": [],
            "_model_module": "@jupyter-widgets/controls",
            "_model_module_version": "1.5.0",
            "_model_name": "HTMLModel",
            "_view_count": null,
            "_view_module": "@jupyter-widgets/controls",
            "_view_module_version": "1.5.0",
            "_view_name": "HTMLView",
            "description": "",
            "description_tooltip": null,
            "layout": "IPY_MODEL_e6a37f10c629460d827dfa1c2e082045",
            "placeholder": "​",
            "style": "IPY_MODEL_39310361b0b44339b7bad0450587a19b",
            "value": "100%"
          }
        },
        "7a4bc6a372284d13a6bb2ec61602060c": {
          "model_module": "@jupyter-widgets/controls",
          "model_name": "FloatProgressModel",
          "model_module_version": "1.5.0",
          "state": {
            "_dom_classes": [],
            "_model_module": "@jupyter-widgets/controls",
            "_model_module_version": "1.5.0",
            "_model_name": "FloatProgressModel",
            "_view_count": null,
            "_view_module": "@jupyter-widgets/controls",
            "_view_module_version": "1.5.0",
            "_view_name": "ProgressView",
            "bar_style": "success",
            "description": "",
            "description_tooltip": null,
            "layout": "IPY_MODEL_58d5803c2f0644848d1fc7bab52765a9",
            "max": 20,
            "min": 0,
            "orientation": "horizontal",
            "style": "IPY_MODEL_28dc8c1b9b0b4f2ab5b8ecdd450e6429",
            "value": 20
          }
        },
        "84d1f31ae6484e708fc38972fc6b9d0f": {
          "model_module": "@jupyter-widgets/controls",
          "model_name": "HTMLModel",
          "model_module_version": "1.5.0",
          "state": {
            "_dom_classes": [],
            "_model_module": "@jupyter-widgets/controls",
            "_model_module_version": "1.5.0",
            "_model_name": "HTMLModel",
            "_view_count": null,
            "_view_module": "@jupyter-widgets/controls",
            "_view_module_version": "1.5.0",
            "_view_name": "HTMLView",
            "description": "",
            "description_tooltip": null,
            "layout": "IPY_MODEL_317a142db1cd4093bdf7d12becace212",
            "placeholder": "​",
            "style": "IPY_MODEL_85d3e148e5b04213b361e8ffaae87a8c",
            "value": " 20/20 [06:56&lt;00:00, 20.56s/it]"
          }
        },
        "53ff056b30ea4068b3cdfd719c5a637a": {
          "model_module": "@jupyter-widgets/base",
          "model_name": "LayoutModel",
          "model_module_version": "1.2.0",
          "state": {
            "_model_module": "@jupyter-widgets/base",
            "_model_module_version": "1.2.0",
            "_model_name": "LayoutModel",
            "_view_count": null,
            "_view_module": "@jupyter-widgets/base",
            "_view_module_version": "1.2.0",
            "_view_name": "LayoutView",
            "align_content": null,
            "align_items": null,
            "align_self": null,
            "border": null,
            "bottom": null,
            "display": null,
            "flex": null,
            "flex_flow": null,
            "grid_area": null,
            "grid_auto_columns": null,
            "grid_auto_flow": null,
            "grid_auto_rows": null,
            "grid_column": null,
            "grid_gap": null,
            "grid_row": null,
            "grid_template_areas": null,
            "grid_template_columns": null,
            "grid_template_rows": null,
            "height": null,
            "justify_content": null,
            "justify_items": null,
            "left": null,
            "margin": null,
            "max_height": null,
            "max_width": null,
            "min_height": null,
            "min_width": null,
            "object_fit": null,
            "object_position": null,
            "order": null,
            "overflow": null,
            "overflow_x": null,
            "overflow_y": null,
            "padding": null,
            "right": null,
            "top": null,
            "visibility": null,
            "width": null
          }
        },
        "e6a37f10c629460d827dfa1c2e082045": {
          "model_module": "@jupyter-widgets/base",
          "model_name": "LayoutModel",
          "model_module_version": "1.2.0",
          "state": {
            "_model_module": "@jupyter-widgets/base",
            "_model_module_version": "1.2.0",
            "_model_name": "LayoutModel",
            "_view_count": null,
            "_view_module": "@jupyter-widgets/base",
            "_view_module_version": "1.2.0",
            "_view_name": "LayoutView",
            "align_content": null,
            "align_items": null,
            "align_self": null,
            "border": null,
            "bottom": null,
            "display": null,
            "flex": null,
            "flex_flow": null,
            "grid_area": null,
            "grid_auto_columns": null,
            "grid_auto_flow": null,
            "grid_auto_rows": null,
            "grid_column": null,
            "grid_gap": null,
            "grid_row": null,
            "grid_template_areas": null,
            "grid_template_columns": null,
            "grid_template_rows": null,
            "height": null,
            "justify_content": null,
            "justify_items": null,
            "left": null,
            "margin": null,
            "max_height": null,
            "max_width": null,
            "min_height": null,
            "min_width": null,
            "object_fit": null,
            "object_position": null,
            "order": null,
            "overflow": null,
            "overflow_x": null,
            "overflow_y": null,
            "padding": null,
            "right": null,
            "top": null,
            "visibility": null,
            "width": null
          }
        },
        "39310361b0b44339b7bad0450587a19b": {
          "model_module": "@jupyter-widgets/controls",
          "model_name": "DescriptionStyleModel",
          "model_module_version": "1.5.0",
          "state": {
            "_model_module": "@jupyter-widgets/controls",
            "_model_module_version": "1.5.0",
            "_model_name": "DescriptionStyleModel",
            "_view_count": null,
            "_view_module": "@jupyter-widgets/base",
            "_view_module_version": "1.2.0",
            "_view_name": "StyleView",
            "description_width": ""
          }
        },
        "58d5803c2f0644848d1fc7bab52765a9": {
          "model_module": "@jupyter-widgets/base",
          "model_name": "LayoutModel",
          "model_module_version": "1.2.0",
          "state": {
            "_model_module": "@jupyter-widgets/base",
            "_model_module_version": "1.2.0",
            "_model_name": "LayoutModel",
            "_view_count": null,
            "_view_module": "@jupyter-widgets/base",
            "_view_module_version": "1.2.0",
            "_view_name": "LayoutView",
            "align_content": null,
            "align_items": null,
            "align_self": null,
            "border": null,
            "bottom": null,
            "display": null,
            "flex": null,
            "flex_flow": null,
            "grid_area": null,
            "grid_auto_columns": null,
            "grid_auto_flow": null,
            "grid_auto_rows": null,
            "grid_column": null,
            "grid_gap": null,
            "grid_row": null,
            "grid_template_areas": null,
            "grid_template_columns": null,
            "grid_template_rows": null,
            "height": null,
            "justify_content": null,
            "justify_items": null,
            "left": null,
            "margin": null,
            "max_height": null,
            "max_width": null,
            "min_height": null,
            "min_width": null,
            "object_fit": null,
            "object_position": null,
            "order": null,
            "overflow": null,
            "overflow_x": null,
            "overflow_y": null,
            "padding": null,
            "right": null,
            "top": null,
            "visibility": null,
            "width": null
          }
        },
        "28dc8c1b9b0b4f2ab5b8ecdd450e6429": {
          "model_module": "@jupyter-widgets/controls",
          "model_name": "ProgressStyleModel",
          "model_module_version": "1.5.0",
          "state": {
            "_model_module": "@jupyter-widgets/controls",
            "_model_module_version": "1.5.0",
            "_model_name": "ProgressStyleModel",
            "_view_count": null,
            "_view_module": "@jupyter-widgets/base",
            "_view_module_version": "1.2.0",
            "_view_name": "StyleView",
            "bar_color": null,
            "description_width": ""
          }
        },
        "317a142db1cd4093bdf7d12becace212": {
          "model_module": "@jupyter-widgets/base",
          "model_name": "LayoutModel",
          "model_module_version": "1.2.0",
          "state": {
            "_model_module": "@jupyter-widgets/base",
            "_model_module_version": "1.2.0",
            "_model_name": "LayoutModel",
            "_view_count": null,
            "_view_module": "@jupyter-widgets/base",
            "_view_module_version": "1.2.0",
            "_view_name": "LayoutView",
            "align_content": null,
            "align_items": null,
            "align_self": null,
            "border": null,
            "bottom": null,
            "display": null,
            "flex": null,
            "flex_flow": null,
            "grid_area": null,
            "grid_auto_columns": null,
            "grid_auto_flow": null,
            "grid_auto_rows": null,
            "grid_column": null,
            "grid_gap": null,
            "grid_row": null,
            "grid_template_areas": null,
            "grid_template_columns": null,
            "grid_template_rows": null,
            "height": null,
            "justify_content": null,
            "justify_items": null,
            "left": null,
            "margin": null,
            "max_height": null,
            "max_width": null,
            "min_height": null,
            "min_width": null,
            "object_fit": null,
            "object_position": null,
            "order": null,
            "overflow": null,
            "overflow_x": null,
            "overflow_y": null,
            "padding": null,
            "right": null,
            "top": null,
            "visibility": null,
            "width": null
          }
        },
        "85d3e148e5b04213b361e8ffaae87a8c": {
          "model_module": "@jupyter-widgets/controls",
          "model_name": "DescriptionStyleModel",
          "model_module_version": "1.5.0",
          "state": {
            "_model_module": "@jupyter-widgets/controls",
            "_model_module_version": "1.5.0",
            "_model_name": "DescriptionStyleModel",
            "_view_count": null,
            "_view_module": "@jupyter-widgets/base",
            "_view_module_version": "1.2.0",
            "_view_name": "StyleView",
            "description_width": ""
          }
        }
      }
    }
  },
  "nbformat": 4,
  "nbformat_minor": 0
}