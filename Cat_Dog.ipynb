{
  "cells": [
    {
      "cell_type": "markdown",
      "metadata": {
        "id": "view-in-github"
      },
      "source": [
        "<a href=\"https://colab.research.google.com/github/Rubeennn/Dog_Cat_dataset/blob/main/Cat_Dog.ipynb\" target=\"_parent\"><img src=\"https://colab.research.google.com/assets/colab-badge.svg\" alt=\"Open In Colab\"/></a>"
      ]
    },
    {
      "cell_type": "code",
      "execution_count": 1,
      "metadata": {
        "id": "6AfzllUdo0ae"
      },
      "outputs": [],
      "source": [
        "! pip3 install -q kaggle"
      ]
    },
    {
      "cell_type": "code",
      "execution_count": 2,
      "metadata": {
        "id": "gbvLDigKpwQS"
      },
      "outputs": [],
      "source": [
        "! mkdir ~/.kaggle"
      ]
    },
    {
      "cell_type": "code",
      "execution_count": 3,
      "metadata": {
        "colab": {
          "base_uri": "https://localhost:8080/"
        },
        "id": "qBARsMlsqEWw",
        "outputId": "23e8456b-8e0f-47c2-887a-a1d1ab501ae3"
      },
      "outputs": [
        {
          "output_type": "stream",
          "name": "stdout",
          "text": [
            "cp: cannot stat 'kaggle.json': No such file or directory\n"
          ]
        }
      ],
      "source": [
        "! cp kaggle.json ~/.kaggle/"
      ]
    },
    {
      "cell_type": "code",
      "execution_count": 4,
      "metadata": {
        "colab": {
          "base_uri": "https://localhost:8080/"
        },
        "id": "32G2elKJqJx0",
        "outputId": "3a162f54-874e-4784-871c-c0b826a29746"
      },
      "outputs": [
        {
          "output_type": "stream",
          "name": "stdout",
          "text": [
            "chmod: cannot access '/root/.kaggle/kaggle.json': No such file or directory\n"
          ]
        }
      ],
      "source": [
        "! chmod 600 ~/.kaggle/kaggle.json"
      ]
    },
    {
      "cell_type": "code",
      "execution_count": 5,
      "metadata": {
        "colab": {
          "base_uri": "https://localhost:8080/"
        },
        "id": "M7APutWuqSzS",
        "outputId": "0c520c42-5af6-4e60-9038-70b2a9fc6ffe"
      },
      "outputs": [
        {
          "output_type": "stream",
          "name": "stdout",
          "text": [
            "Dataset URL: https://www.kaggle.com/datasets/unmoved/30k-cats-and-dogs-150x150-greyscale\n",
            "License(s): CC0-1.0\n",
            "Downloading 30k-cats-and-dogs-150x150-greyscale.zip to /content\n",
            " 98% 130M/133M [00:08<00:00, 25.6MB/s]\n",
            "100% 133M/133M [00:08<00:00, 17.0MB/s]\n"
          ]
        }
      ],
      "source": [
        "! kaggle datasets download -d unmoved/30k-cats-and-dogs-150x150-greyscale"
      ]
    },
    {
      "cell_type": "code",
      "execution_count": 6,
      "metadata": {
        "id": "QDv5yJmSq0tE"
      },
      "outputs": [],
      "source": [
        "from pathlib import Path\n",
        "\n",
        "data_path = Path('data')\n",
        "\n",
        "data_path.mkdir(exist_ok=True, parents=True)\n"
      ]
    },
    {
      "cell_type": "code",
      "execution_count": 7,
      "metadata": {
        "id": "sKYlRWC1qZgR"
      },
      "outputs": [],
      "source": [
        "import zipfile\n",
        "\n",
        "with zipfile.ZipFile('30k-cats-and-dogs-150x150-greyscale.zip', 'r') as z:\n",
        "    z.extractall(data_path)"
      ]
    },
    {
      "cell_type": "code",
      "execution_count": 8,
      "metadata": {
        "id": "8xdn75lDr6sh"
      },
      "outputs": [],
      "source": [
        "cat_path = data_path / 'Animal Images' / 'cats'\n",
        "cat_path\n",
        "dog_path = data_path / 'Animal Images' / 'dogs'"
      ]
    },
    {
      "cell_type": "markdown",
      "metadata": {
        "id": "3Q0QDCdFXl2w"
      },
      "source": [
        "### Importing the necessary packages"
      ]
    },
    {
      "cell_type": "code",
      "execution_count": 15,
      "metadata": {
        "id": "3bgfqhM8Xl2x"
      },
      "outputs": [],
      "source": [
        "from torch.utils.data import random_split, DataLoader\n",
        "from torchvision.datasets import ImageFolder\n",
        "from torchvision import transforms\n",
        "from tqdm.auto import tqdm\n",
        "from PIL import Image\n",
        "from torch import nn\n",
        "import pandas as pd\n",
        "import torchvision\n",
        "import numpy as np\n",
        "import torch\n",
        "import time\n",
        "import os\n"
      ]
    },
    {
      "cell_type": "code",
      "execution_count": 10,
      "metadata": {
        "colab": {
          "base_uri": "https://localhost:8080/",
          "height": 184
        },
        "id": "PnO_gSR5Xl2z",
        "outputId": "afb0d391-183d-4864-82f3-844b13dfd6b5"
      },
      "outputs": [
        {
          "output_type": "stream",
          "name": "stdout",
          "text": [
            "Shape of the image is: (150, 150)\n"
          ]
        },
        {
          "output_type": "execute_result",
          "data": {
            "text/plain": [
              "<PIL.JpegImagePlugin.JpegImageFile image mode=L size=150x150>"
            ],
            "image/png": "[encoded data removed]"
          },
          "metadata": {},
          "execution_count": 10
        }
      ],
      "source": [
        "# Visualizing one image\n",
        "cat_image_names = os.listdir(cat_path)\n",
        "first_cat_image_path = cat_path / cat_image_names[0]\n",
        "img = Image.open(fp=first_cat_image_path)\n",
        "print(f'Shape of the image is: {np.asarray(img).shape}')\n",
        "img"
      ]
    },
    {
      "cell_type": "markdown",
      "metadata": {
        "id": "G9mjCW5zXl20"
      },
      "source": [
        "2. Now we define the path to the image directory\n",
        "and then gaining the dataset with **ImageFolder**."
      ]
    },
    {
      "cell_type": "code",
      "source": [
        "data_path"
      ],
      "metadata": {
        "colab": {
          "base_uri": "https://localhost:8080/"
        },
        "id": "kA1hGPf-joRm",
        "outputId": "227833ed-dff5-4bcc-e0b5-23b119b8921a"
      },
      "execution_count": 11,
      "outputs": [
        {
          "output_type": "execute_result",
          "data": {
            "text/plain": [
              "PosixPath('data')"
            ]
          },
          "metadata": {},
          "execution_count": 11
        }
      ]
    },
    {
      "cell_type": "code",
      "source": [
        "device = torch.device('cuda' if torch.cuda.is_available() else 'cpu')\n",
        "device"
      ],
      "metadata": {
        "colab": {
          "base_uri": "https://localhost:8080/"
        },
        "id": "J01NkcsubMTb",
        "outputId": "20d55eff-c44a-4a12-a7af-cb3feaf5017e"
      },
      "execution_count": 12,
      "outputs": [
        {
          "output_type": "execute_result",
          "data": {
            "text/plain": [
              "device(type='cuda')"
            ]
          },
          "metadata": {},
          "execution_count": 12
        }
      ]
    },
    {
      "cell_type": "code",
      "execution_count": 13,
      "metadata": {
        "id": "EbJHQhEKXl21"
      },
      "outputs": [],
      "source": [
        "dataset = ImageFolder(\n",
        "\n",
        "    root = data_path / 'Animal Images',\n",
        "    transform=transforms.Compose([\n",
        "    transforms.Grayscale(),\n",
        "    transforms.Resize(size=(124,124)), # Maybe need to make it smaller\n",
        "    transforms.ToTensor()\n",
        "    ])\n",
        ")"
      ]
    },
    {
      "cell_type": "code",
      "execution_count": 14,
      "metadata": {
        "colab": {
          "base_uri": "https://localhost:8080/"
        },
        "id": "urENPi0OXl21",
        "outputId": "175987be-d80c-4dd2-9296-388cf959aba5"
      },
      "outputs": [
        {
          "output_type": "stream",
          "name": "stdout",
          "text": [
            "Found an image with label 1 at index 15060\n"
          ]
        }
      ],
      "source": [
        "label_to_find = 1\n",
        "found_images = False\n",
        "\n",
        "for img_idx, (image, label) in enumerate(dataset):\n",
        "    if label == label_to_find:\n",
        "        found_images = True\n",
        "        print(f\"Found an image with label {label_to_find} at index {img_idx}\")\n",
        "        # Optionally, print or visualize the image\n",
        "        # print(image)  # This is a tensor, you might want to convert it back to a PIL image for visualization\n",
        "        break\n",
        "\n",
        "if not found_images:\n",
        "    print(f\"No images found with label {label_to_find}\")"
      ]
    },
    {
      "cell_type": "markdown",
      "metadata": {
        "id": "tF4Wa-k9Xl24"
      },
      "source": [
        "## 3. Bulding the model"
      ]
    },
    {
      "cell_type": "code",
      "execution_count": 16,
      "metadata": {
        "id": "e-qqayxiXl22"
      },
      "outputs": [],
      "source": [
        "# Splitting the dataset into train, test and validation datasets.\n",
        "\n",
        "torch.manual_seed(42)\n",
        "\n",
        "train_size = int(len(dataset) * 0.7)\n",
        "test_size = int(len(dataset) * 0.15)\n",
        "\n",
        "val_size = len(dataset) - train_size - test_size\n",
        "\n",
        "train_dataset, test_dataset, val_dataset = random_split(dataset,\n",
        "                                                        [train_size,\n",
        "                                                         test_size,\n",
        "                                                         val_size]\n",
        "                                                       )\n"
      ]
    },
    {
      "cell_type": "markdown",
      "metadata": {
        "id": "3TGM7ePNXl22"
      },
      "source": [
        "1. Splitting data into batches using the *DataLoader*."
      ]
    },
    {
      "cell_type": "code",
      "execution_count": 17,
      "metadata": {
        "id": "_vFLPR_bXl23"
      },
      "outputs": [],
      "source": [
        "\n",
        "BATCH_SIZE = 64\n",
        "\n",
        "train_dataloader = DataLoader(dataset=train_dataset,\n",
        "                              batch_size=BATCH_SIZE,\n",
        "                              shuffle=True,\n",
        "                              num_workers=os.cpu_count()\n",
        "                             )\n",
        "\n",
        "test_loader = DataLoader(dataset=test_dataset,\n",
        "                        batch_size=BATCH_SIZE,\n",
        "                        shuffle=False,\n",
        "                        num_workers=os.cpu_count()\n",
        "                        )\n",
        "\n",
        "val_loader = DataLoader(dataset=val_dataset,\n",
        "                       batch_size=BATCH_SIZE,\n",
        "                       shuffle=False,\n",
        "                       num_workers=os.cpu_count())"
      ]
    },
    {
      "cell_type": "code",
      "source": [
        "dummy = torch.randint(0,255,size=(1,1,124,124),dtype=torch.float)\n",
        "conv = nn.Conv2d(in_channels=1,\n",
        "                                             out_channels=3,\n",
        "                                             kernel_size=(3,3),\n",
        "                                             stride=1,\n",
        "                                             padding=0\n",
        "                                            )\n",
        "output = conv(dummy)\n",
        "output.shape, dummy.shape"
      ],
      "metadata": {
        "colab": {
          "base_uri": "https://localhost:8080/"
        },
        "id": "t1pVUPRg45Zv",
        "outputId": "f430ced4-2029-42a9-c845-838a2477f4dc"
      },
      "execution_count": 18,
      "outputs": [
        {
          "output_type": "execute_result",
          "data": {
            "text/plain": [
              "(torch.Size([1, 3, 122, 122]), torch.Size([1, 1, 124, 124]))"
            ]
          },
          "metadata": {},
          "execution_count": 18
        }
      ]
    },
    {
      "cell_type": "code",
      "execution_count": 44,
      "metadata": {
        "id": "acvjQxpIXl24"
      },
      "outputs": [],
      "source": [
        "class DogCat(nn.Module):\n",
        "    def __init__(self, input_shape, hidden_shape, output_shape=1):\n",
        "        super().__init__()\n",
        "\n",
        "        self.block1 = nn.Sequential(nn.BatchNorm2d(num_features=1),\n",
        "                                   nn.Conv2d(in_channels=1,\n",
        "                                             out_channels=3,\n",
        "                                             kernel_size=(11,11),\n",
        "                                             stride=1,\n",
        "                                             padding=0\n",
        "                                            ),\n",
        "                                    nn.BatchNorm2d(num_features=3),\n",
        "                                    nn.ReLU(),\n",
        "                                    nn.Conv2d(in_channels=3,\n",
        "                                              out_channels=6,\n",
        "                                              kernel_size=(5,5),\n",
        "                                              stride=1,\n",
        "                                              padding=0\n",
        "                                    ),\n",
        "                                    nn.BatchNorm2d(num_features=6),\n",
        "                                    nn.ReLU(),\n",
        "                                    nn.MaxPool2d(kernel_size=(3,3)),\n",
        "                                    nn.Dropout2d(p=0.25)\n",
        "                                   )\n",
        "\n",
        "        self.block2 = nn.Sequential(nn.BatchNorm2d(num_features=6),\n",
        "                                   nn.Conv2d(in_channels=6,\n",
        "                                             out_channels=9,\n",
        "                                             kernel_size=(3,3),\n",
        "                                             stride=1,\n",
        "                                             padding=0\n",
        "                                            ),\n",
        "                                    nn.BatchNorm2d(num_features=9),\n",
        "                                    nn.ReLU(),\n",
        "                                    nn.Conv2d(in_channels=9,\n",
        "                                              out_channels=12,\n",
        "                                              kernel_size=(3,3),\n",
        "                                              stride=1,\n",
        "                                              padding=1\n",
        "                                    ),\n",
        "                                    nn.MaxPool2d(kernel_size=(3,3)),\n",
        "                                    nn.BatchNorm2d(num_features=12),\n",
        "                                    nn.ReLU(),\n",
        "                                    nn.Dropout2d(p=0.25))\n",
        "\n",
        "        self.classifier = nn.Sequential(nn.Flatten(),\n",
        "                                       nn.Linear(in_features=1452,\n",
        "                                                out_features=124),\n",
        "                                        nn.Linear(in_features=124,\n",
        "                                                 out_features=output_shape)\n",
        "                                       )\n",
        "    def forward(self, X):\n",
        "        # print(X.shape)\n",
        "        X = self.block1(X)\n",
        "        # print(X.shape)\n",
        "        X = self.block2(X)\n",
        "        # print(X.shape)\n",
        "        X = self.classifier(X)\n",
        "        # print(X.shape)\n",
        "        return X"
      ]
    },
    {
      "cell_type": "code",
      "execution_count": 45,
      "metadata": {
        "id": "2gSApE-DXl24"
      },
      "outputs": [],
      "source": [
        "model = DogCat(input_shape=124,\n",
        "              hidden_shape=10)"
      ]
    },
    {
      "cell_type": "code",
      "source": [
        "dummy = torch.randint(0, 255, size=(1,1,124,124), dtype=torch.float)\n",
        "model(dummy)"
      ],
      "metadata": {
        "colab": {
          "base_uri": "https://localhost:8080/"
        },
        "id": "M0U8FLuF6hEu",
        "outputId": "3c1190a2-3692-4781-f3f1-743a749babbc"
      },
      "execution_count": 46,
      "outputs": [
        {
          "output_type": "execute_result",
          "data": {
            "text/plain": [
              "tensor([[0.1842]], grad_fn=<AddmmBackward0>)"
            ]
          },
          "metadata": {},
          "execution_count": 46
        }
      ]
    },
    {
      "cell_type": "code",
      "execution_count": 47,
      "metadata": {
        "id": "owCcUmRDXl26"
      },
      "outputs": [],
      "source": [
        "optimizer = torch.optim.Adam(params=model.parameters(),\n",
        "                       lr=0.001)\n",
        "\n",
        "loss = nn.BCEWithLogitsLoss()"
      ]
    },
    {
      "cell_type": "code",
      "execution_count": 48,
      "metadata": {
        "colab": {
          "base_uri": "https://localhost:8080/"
        },
        "id": "c5u08HflXl26",
        "outputId": "f25f0c9c-84e4-4da2-807f-5bce5c227130"
      },
      "outputs": [
        {
          "output_type": "execute_result",
          "data": {
            "text/plain": [
              "329"
            ]
          },
          "metadata": {},
          "execution_count": 48
        }
      ],
      "source": [
        "len(train_dataloader)"
      ]
    },
    {
      "cell_type": "code",
      "source": [
        "model.to(device)"
      ],
      "metadata": {
        "colab": {
          "base_uri": "https://localhost:8080/"
        },
        "collapsed": true,
        "id": "y5yw_1RpbjCX",
        "outputId": "b9f9366e-95af-4e8f-c170-2ad86565da10"
      },
      "execution_count": 49,
      "outputs": [
        {
          "output_type": "execute_result",
          "data": {
            "text/plain": [
              "DogCat(\n",
              "  (block1): Sequential(\n",
              "    (0): BatchNorm2d(1, eps=1e-05, momentum=0.1, affine=True, track_running_stats=True)\n",
              "    (1): Conv2d(1, 3, kernel_size=(11, 11), stride=(1, 1))\n",
              "    (2): BatchNorm2d(3, eps=1e-05, momentum=0.1, affine=True, track_running_stats=True)\n",
              "    (3): ReLU()\n",
              "    (4): Conv2d(3, 6, kernel_size=(5, 5), stride=(1, 1))\n",
              "    (5): BatchNorm2d(6, eps=1e-05, momentum=0.1, affine=True, track_running_stats=True)\n",
              "    (6): ReLU()\n",
              "    (7): MaxPool2d(kernel_size=(3, 3), stride=(3, 3), padding=0, dilation=1, ceil_mode=False)\n",
              "    (8): Dropout2d(p=0.25, inplace=False)\n",
              "  )\n",
              "  (block2): Sequential(\n",
              "    (0): BatchNorm2d(6, eps=1e-05, momentum=0.1, affine=True, track_running_stats=True)\n",
              "    (1): Conv2d(6, 9, kernel_size=(3, 3), stride=(1, 1))\n",
              "    (2): BatchNorm2d(9, eps=1e-05, momentum=0.1, affine=True, track_running_stats=True)\n",
              "    (3): ReLU()\n",
              "    (4): Conv2d(9, 12, kernel_size=(3, 3), stride=(1, 1), padding=(1, 1))\n",
              "    (5): MaxPool2d(kernel_size=(3, 3), stride=(3, 3), padding=0, dilation=1, ceil_mode=False)\n",
              "    (6): BatchNorm2d(12, eps=1e-05, momentum=0.1, affine=True, track_running_stats=True)\n",
              "    (7): ReLU()\n",
              "    (8): Dropout2d(p=0.25, inplace=False)\n",
              "  )\n",
              "  (classifier): Sequential(\n",
              "    (0): Flatten(start_dim=1, end_dim=-1)\n",
              "    (1): Linear(in_features=1452, out_features=124, bias=True)\n",
              "    (2): Linear(in_features=124, out_features=1, bias=True)\n",
              "  )\n",
              ")"
            ]
          },
          "metadata": {},
          "execution_count": 49
        }
      ]
    },
    {
      "cell_type": "code",
      "source": [
        "train_losses = []\n",
        "train_accs = []\n",
        "val_losses = []\n",
        "val_accs = []\n",
        "\n",
        "epochs = 10\n",
        "start_time = time.time()\n",
        "for epoch in tqdm(range(epochs)):\n",
        "\n",
        "    train_total_loss = 0\n",
        "    train_total_acc = 0\n",
        "    total_val_loss = 0\n",
        "    total_val_acc = 0\n",
        "\n",
        "    for batch , (X,y) in enumerate(train_dataloader):\n",
        "\n",
        "        X, y = X.to(device), y.to(device)\n",
        "        model.train()\n",
        "\n",
        "        y_train_pred_logits = model(X)\n",
        "        y = y.unsqueeze(dim=-1).to(torch.float)\n",
        "\n",
        "        y_pred_probas = torch.round(torch.sigmoid(y_train_pred_logits))\n",
        "\n",
        "        train_loss = loss(y_train_pred_logits, y)\n",
        "        train_total_loss += train_loss.item()\n",
        "\n",
        "        train_total_acc += (torch.sum(y_pred_probas == y).item() / len(y)) * 100\n",
        "\n",
        "        optimizer.zero_grad()\n",
        "\n",
        "        train_loss.backward()\n",
        "\n",
        "        optimizer.step()\n",
        "\n",
        "    train_total_loss /= len(train_dataloader)\n",
        "    train_total_acc /= len(train_dataloader)\n",
        "    train_losses.append(train_total_loss)\n",
        "    train_accs.append(train_total_acc)\n",
        "\n",
        "    with torch.inference_mode():\n",
        "        model.eval()\n",
        "        for (X_val, y_val) in val_loader:\n",
        "\n",
        "            X_val, y_val = X_val.to(device), y_val.to(device)\n",
        "\n",
        "            y_val_pred_logits = model(X_val)\n",
        "            y_val_pred = torch.round(torch.sigmoid(y_val_pred_logits))\n",
        "\n",
        "            y_val = y_val.unsqueeze(dim=-1).to(torch.float)\n",
        "\n",
        "            val_loss = loss(y_val_pred_logits, y_val)\n",
        "            total_val_loss += val_loss.item()\n",
        "\n",
        "            total_val_acc += (torch.sum(y_val_pred == y_val).item() / len(y_val)) * 100\n",
        "\n",
        "    total_val_loss /= len(val_loader)\n",
        "    total_val_acc /= len(val_loader)\n",
        "    val_losses.append(total_val_loss)\n",
        "    val_accs.append(total_val_acc)\n",
        "\n",
        "    print(f'Train loss: {train_total_loss:.4f},train_acc: {train_total_acc:.4f}, Val loss: {total_val_loss:.4f}, val_acc: {total_val_acc:.4f}')\n",
        "\n",
        "end_time = time.time()\n",
        "print(f'time spent: {end_time - start_time}')\n",
        "\n",
        "\n",
        "\n",
        "\n",
        "\n"
      ],
      "metadata": {
        "collapsed": true,
        "colab": {
          "base_uri": "https://localhost:8080/",
          "height": 240,
          "referenced_widgets": [
            "736e0b11af1248249ce7d73779ff67ba",
            "74f8a57e07f04899a1a26db46724285a",
            "d6f383fb7b6f4d1e8f3cf3f483bb6f24",
            "661a9a3e06b74f6dabf41ca5acb0f280",
            "e77befa1f1174d4792c95f44f61e9111",
            "92d2b635e57c48fd8651975e4c61c797",
            "0e93a3fb3ab34330acd87855d92fa89b",
            "0c849aa2b3fb421792200df57e6a534f",
            "b554637893ff4ecfb01e77958209d774",
            "345290470a1f4d0ca2ce12c0ca0e46e7",
            "47aebb4fc5794d8cb615755fe6f82395"
          ]
        },
        "id": "BB03Xxj9ALIV",
        "outputId": "02ac742d-a1bf-4405-dbe4-36d20f183959"
      },
      "execution_count": 51,
      "outputs": [
        {
          "output_type": "display_data",
          "data": {
            "text/plain": [
              "  0%|          | 0/10 [00:00<?, ?it/s]"
            ],
            "application/vnd.jupyter.widget-view+json": {
              "version_major": 2,
              "version_minor": 0,
              "model_id": "736e0b11af1248249ce7d73779ff67ba"
            }
          },
          "metadata": {}
        },
        {
          "output_type": "stream",
          "name": "stdout",
          "text": [
            "Train loss: 0.5945,train_acc: 68.3661, Val loss: 0.5799, val_acc: 69.2518\n",
            "Train loss: 0.5796,train_acc: 69.9512, Val loss: 0.5543, val_acc: 72.3386\n",
            "Train loss: 0.5731,train_acc: 70.2848, Val loss: 0.5722, val_acc: 71.0681\n",
            "Train loss: 0.5644,train_acc: 70.5805, Val loss: 0.5474, val_acc: 73.2629\n",
            "Train loss: 0.5570,train_acc: 71.5659, Val loss: 0.5646, val_acc: 70.8201\n",
            "Train loss: 0.5519,train_acc: 72.1014, Val loss: 0.5342, val_acc: 73.2629\n",
            "Train loss: 0.5445,train_acc: 72.3222, Val loss: 0.5359, val_acc: 73.2879\n",
            "Train loss: 0.5432,train_acc: 72.6048, Val loss: 0.5435, val_acc: 72.0745\n",
            "Train loss: 0.5400,train_acc: 72.7545, Val loss: 0.5302, val_acc: 73.3700\n",
            "Train loss: 0.5362,train_acc: 72.6679, Val loss: 0.5250, val_acc: 74.1681\n",
            "time spent: 192.35506653785706\n"
          ]
        }
      ]
    },
    {
      "cell_type": "code",
      "source": [
        "import matplotlib.pyplot as plt\n",
        "\n",
        "# Assuming train_losses and val_losses are lists or arrays containing your losses\n",
        "\n",
        "plt.plot(range(epochs), train_losses, c='b', label='Train Loss')\n",
        "plt.plot(range(epochs), val_losses, c='r', label='Validation Loss')\n",
        "\n",
        "plt.xlabel('Epoch')\n",
        "plt.ylabel('Loss')\n",
        "plt.title('Training and Validation Losses')\n",
        "\n",
        "plt.legend()\n",
        "plt.grid(True)\n",
        "plt.show()\n"
      ],
      "metadata": {
        "colab": {
          "base_uri": "https://localhost:8080/",
          "height": 472
        },
        "id": "L2t0V4P79v5K",
        "outputId": "270833a9-121f-4d97-f34e-e484329a4ba6"
      },
      "execution_count": 64,
      "outputs": [
        {
          "output_type": "display_data",
          "data": {
            "text/plain": [
              "<Figure size 640x480 with 1 Axes>"
            ],
            "image/png": "[encoded data removed]"
          },
          "metadata": {}
        }
      ]
    },
    {
      "cell_type": "code",
      "source": [
        "import matplotlib.pyplot as plt\n",
        "\n",
        "# Assuming train_losses and val_losses are lists or arrays containing your losses\n",
        "\n",
        "plt.plot(range(epochs), train_accs, c='b', label='Train Accuracy')\n",
        "plt.plot(range(epochs), val_accs, c='r', label='Validation Accuracy')\n",
        "\n",
        "plt.xlabel('Epoch')\n",
        "plt.ylabel('Loss')\n",
        "plt.title('Training and Validation Accuracies')\n",
        "\n",
        "plt.legend()\n",
        "plt.grid(True)\n",
        "plt.show()"
      ],
      "metadata": {
        "colab": {
          "base_uri": "https://localhost:8080/",
          "height": 472
        },
        "id": "DHeHQxFRPVWL",
        "outputId": "bcffc100-169a-409c-da10-194747180b69"
      },
      "execution_count": 65,
      "outputs": [
        {
          "output_type": "display_data",
          "data": {
            "text/plain": [
              "<Figure size 640x480 with 1 Axes>"
            ],
            "image/png": "[encoded data removed]"
          },
          "metadata": {}
        }
      ]
    }
  ],
  "metadata": {
    "colab": {
      "provenance": [],
      "gpuType": "T4"
    },
    "kernelspec": {
      "display_name": "Python 3",
      "name": "python3"
    },
    "language_info": {
      "codemirror_mode": {
        "name": "ipython",
        "version": 3
      },
      "file_extension": ".py",
      "mimetype": "text/x-python",
      "name": "python",
      "nbconvert_exporter": "python",
      "pygments_lexer": "ipython3",
      "version": "3.10.11"
    },
    "accelerator": "GPU",
    "widgets": {
      "application/vnd.jupyter.widget-state+json": {
        "736e0b11af1248249ce7d73779ff67ba": {
          "model_module": "@jupyter-widgets/controls",
          "model_name": "HBoxModel",
          "model_module_version": "1.5.0",
          "state": {
            "_dom_classes": [],
            "_model_module": "@jupyter-widgets/controls",
            "_model_module_version": "1.5.0",
            "_model_name": "HBoxModel",
            "_view_count": null,
            "_view_module": "@jupyter-widgets/controls",
            "_view_module_version": "1.5.0",
            "_view_name": "HBoxView",
            "box_style": "",
            "children": [
              "IPY_MODEL_74f8a57e07f04899a1a26db46724285a",
              "IPY_MODEL_d6f383fb7b6f4d1e8f3cf3f483bb6f24",
              "IPY_MODEL_661a9a3e06b74f6dabf41ca5acb0f280"
            ],
            "layout": "IPY_MODEL_e77befa1f1174d4792c95f44f61e9111"
          }
        },
        "74f8a57e07f04899a1a26db46724285a": {
          "model_module": "@jupyter-widgets/controls",
          "model_name": "HTMLModel",
          "model_module_version": "1.5.0",
          "state": {
            "_dom_classes": [],
            "_model_module": "@jupyter-widgets/controls",
            "_model_module_version": "1.5.0",
            "_model_name": "HTMLModel",
            "_view_count": null,
            "_view_module": "@jupyter-widgets/controls",
            "_view_module_version": "1.5.0",
            "_view_name": "HTMLView",
            "description": "",
            "description_tooltip": null,
            "layout": "IPY_MODEL_92d2b635e57c48fd8651975e4c61c797",
            "placeholder": "​",
            "style": "IPY_MODEL_0e93a3fb3ab34330acd87855d92fa89b",
            "value": "100%"
          }
        },
        "d6f383fb7b6f4d1e8f3cf3f483bb6f24": {
          "model_module": "@jupyter-widgets/controls",
          "model_name": "FloatProgressModel",
          "model_module_version": "1.5.0",
          "state": {
            "_dom_classes": [],
            "_model_module": "@jupyter-widgets/controls",
            "_model_module_version": "1.5.0",
            "_model_name": "FloatProgressModel",
            "_view_count": null,
            "_view_module": "@jupyter-widgets/controls",
            "_view_module_version": "1.5.0",
            "_view_name": "ProgressView",
            "bar_style": "success",
            "description": "",
            "description_tooltip": null,
            "layout": "IPY_MODEL_0c849aa2b3fb421792200df57e6a534f",
            "max": 10,
            "min": 0,
            "orientation": "horizontal",
            "style": "IPY_MODEL_b554637893ff4ecfb01e77958209d774",
            "value": 10
          }
        },
        "661a9a3e06b74f6dabf41ca5acb0f280": {
          "model_module": "@jupyter-widgets/controls",
          "model_name": "HTMLModel",
          "model_module_version": "1.5.0",
          "state": {
            "_dom_classes": [],
            "_model_module": "@jupyter-widgets/controls",
            "_model_module_version": "1.5.0",
            "_model_name": "HTMLModel",
            "_view_count": null,
            "_view_module": "@jupyter-widgets/controls",
            "_view_module_version": "1.5.0",
            "_view_name": "HTMLView",
            "description": "",
            "description_tooltip": null,
            "layout": "IPY_MODEL_345290470a1f4d0ca2ce12c0ca0e46e7",
            "placeholder": "​",
            "style": "IPY_MODEL_47aebb4fc5794d8cb615755fe6f82395",
            "value": " 10/10 [03:12&lt;00:00, 18.89s/it]"
          }
        },
        "e77befa1f1174d4792c95f44f61e9111": {
          "model_module": "@jupyter-widgets/base",
          "model_name": "LayoutModel",
          "model_module_version": "1.2.0",
          "state": {
            "_model_module": "@jupyter-widgets/base",
            "_model_module_version": "1.2.0",
            "_model_name": "LayoutModel",
            "_view_count": null,
            "_view_module": "@jupyter-widgets/base",
            "_view_module_version": "1.2.0",
            "_view_name": "LayoutView",
            "align_content": null,
            "align_items": null,
            "align_self": null,
            "border": null,
            "bottom": null,
            "display": null,
            "flex": null,
            "flex_flow": null,
            "grid_area": null,
            "grid_auto_columns": null,
            "grid_auto_flow": null,
            "grid_auto_rows": null,
            "grid_column": null,
            "grid_gap": null,
            "grid_row": null,
            "grid_template_areas": null,
            "grid_template_columns": null,
            "grid_template_rows": null,
            "height": null,
            "justify_content": null,
            "justify_items": null,
            "left": null,
            "margin": null,
            "max_height": null,
            "max_width": null,
            "min_height": null,
            "min_width": null,
            "object_fit": null,
            "object_position": null,
            "order": null,
            "overflow": null,
            "overflow_x": null,
            "overflow_y": null,
            "padding": null,
            "right": null,
            "top": null,
            "visibility": null,
            "width": null
          }
        },
        "92d2b635e57c48fd8651975e4c61c797": {
          "model_module": "@jupyter-widgets/base",
          "model_name": "LayoutModel",
          "model_module_version": "1.2.0",
          "state": {
            "_model_module": "@jupyter-widgets/base",
            "_model_module_version": "1.2.0",
            "_model_name": "LayoutModel",
            "_view_count": null,
            "_view_module": "@jupyter-widgets/base",
            "_view_module_version": "1.2.0",
            "_view_name": "LayoutView",
            "align_content": null,
            "align_items": null,
            "align_self": null,
            "border": null,
            "bottom": null,
            "display": null,
            "flex": null,
            "flex_flow": null,
            "grid_area": null,
            "grid_auto_columns": null,
            "grid_auto_flow": null,
            "grid_auto_rows": null,
            "grid_column": null,
            "grid_gap": null,
            "grid_row": null,
            "grid_template_areas": null,
            "grid_template_columns": null,
            "grid_template_rows": null,
            "height": null,
            "justify_content": null,
            "justify_items": null,
            "left": null,
            "margin": null,
            "max_height": null,
            "max_width": null,
            "min_height": null,
            "min_width": null,
            "object_fit": null,
            "object_position": null,
            "order": null,
            "overflow": null,
            "overflow_x": null,
            "overflow_y": null,
            "padding": null,
            "right": null,
            "top": null,
            "visibility": null,
            "width": null
          }
        },
        "0e93a3fb3ab34330acd87855d92fa89b": {
          "model_module": "@jupyter-widgets/controls",
          "model_name": "DescriptionStyleModel",
          "model_module_version": "1.5.0",
          "state": {
            "_model_module": "@jupyter-widgets/controls",
            "_model_module_version": "1.5.0",
            "_model_name": "DescriptionStyleModel",
            "_view_count": null,
            "_view_module": "@jupyter-widgets/base",
            "_view_module_version": "1.2.0",
            "_view_name": "StyleView",
            "description_width": ""
          }
        },
        "0c849aa2b3fb421792200df57e6a534f": {
          "model_module": "@jupyter-widgets/base",
          "model_name": "LayoutModel",
          "model_module_version": "1.2.0",
          "state": {
            "_model_module": "@jupyter-widgets/base",
            "_model_module_version": "1.2.0",
            "_model_name": "LayoutModel",
            "_view_count": null,
            "_view_module": "@jupyter-widgets/base",
            "_view_module_version": "1.2.0",
            "_view_name": "LayoutView",
            "align_content": null,
            "align_items": null,
            "align_self": null,
            "border": null,
            "bottom": null,
            "display": null,
            "flex": null,
            "flex_flow": null,
            "grid_area": null,
            "grid_auto_columns": null,
            "grid_auto_flow": null,
            "grid_auto_rows": null,
            "grid_column": null,
            "grid_gap": null,
            "grid_row": null,
            "grid_template_areas": null,
            "grid_template_columns": null,
            "grid_template_rows": null,
            "height": null,
            "justify_content": null,
            "justify_items": null,
            "left": null,
            "margin": null,
            "max_height": null,
            "max_width": null,
            "min_height": null,
            "min_width": null,
            "object_fit": null,
            "object_position": null,
            "order": null,
            "overflow": null,
            "overflow_x": null,
            "overflow_y": null,
            "padding": null,
            "right": null,
            "top": null,
            "visibility": null,
            "width": null
          }
        },
        "b554637893ff4ecfb01e77958209d774": {
          "model_module": "@jupyter-widgets/controls",
          "model_name": "ProgressStyleModel",
          "model_module_version": "1.5.0",
          "state": {
            "_model_module": "@jupyter-widgets/controls",
            "_model_module_version": "1.5.0",
            "_model_name": "ProgressStyleModel",
            "_view_count": null,
            "_view_module": "@jupyter-widgets/base",
            "_view_module_version": "1.2.0",
            "_view_name": "StyleView",
            "bar_color": null,
            "description_width": ""
          }
        },
        "345290470a1f4d0ca2ce12c0ca0e46e7": {
          "model_module": "@jupyter-widgets/base",
          "model_name": "LayoutModel",
          "model_module_version": "1.2.0",
          "state": {
            "_model_module": "@jupyter-widgets/base",
            "_model_module_version": "1.2.0",
            "_model_name": "LayoutModel",
            "_view_count": null,
            "_view_module": "@jupyter-widgets/base",
            "_view_module_version": "1.2.0",
            "_view_name": "LayoutView",
            "align_content": null,
            "align_items": null,
            "align_self": null,
            "border": null,
            "bottom": null,
            "display": null,
            "flex": null,
            "flex_flow": null,
            "grid_area": null,
            "grid_auto_columns": null,
            "grid_auto_flow": null,
            "grid_auto_rows": null,
            "grid_column": null,
            "grid_gap": null,
            "grid_row": null,
            "grid_template_areas": null,
            "grid_template_columns": null,
            "grid_template_rows": null,
            "height": null,
            "justify_content": null,
            "justify_items": null,
            "left": null,
            "margin": null,
            "max_height": null,
            "max_width": null,
            "min_height": null,
            "min_width": null,
            "object_fit": null,
            "object_position": null,
            "order": null,
            "overflow": null,
            "overflow_x": null,
            "overflow_y": null,
            "padding": null,
            "right": null,
            "top": null,
            "visibility": null,
            "width": null
          }
        },
        "47aebb4fc5794d8cb615755fe6f82395": {
          "model_module": "@jupyter-widgets/controls",
          "model_name": "DescriptionStyleModel",
          "model_module_version": "1.5.0",
          "state": {
            "_model_module": "@jupyter-widgets/controls",
            "_model_module_version": "1.5.0",
            "_model_name": "DescriptionStyleModel",
            "_view_count": null,
            "_view_module": "@jupyter-widgets/base",
            "_view_module_version": "1.2.0",
            "_view_name": "StyleView",
            "description_width": ""
          }
        }
      }
    }
  },
  "nbformat": 4,
  "nbformat_minor": 0
}