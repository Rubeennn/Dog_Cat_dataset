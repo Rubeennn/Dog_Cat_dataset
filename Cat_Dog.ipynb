{
  "cells": [
    {
      "cell_type": "markdown",
      "metadata": {
        "id": "view-in-github"
      },
      "source": [
        "<a href=\"https://colab.research.google.com/github/Rubeennn/Dog_Cat_dataset/blob/main/Cat_Dog.ipynb\" target=\"_parent\"><img src=\"https://colab.research.google.com/assets/colab-badge.svg\" alt=\"Open In Colab\"/></a>"
      ]
    },
    {
      "cell_type": "code",
      "execution_count": 2,
      "metadata": {
        "id": "6AfzllUdo0ae"
      },
      "outputs": [],
      "source": [
        "! pip3 install -q kaggle"
      ]
    },
    {
      "cell_type": "code",
      "execution_count": 3,
      "metadata": {
        "id": "gbvLDigKpwQS"
      },
      "outputs": [],
      "source": [
        "! mkdir ~/.kaggle"
      ]
    },
    {
      "cell_type": "code",
      "execution_count": 4,
      "metadata": {
        "id": "qBARsMlsqEWw"
      },
      "outputs": [],
      "source": [
        "! cp kaggle.json ~/.kaggle/"
      ]
    },
    {
      "cell_type": "code",
      "execution_count": 5,
      "metadata": {
        "id": "32G2elKJqJx0"
      },
      "outputs": [],
      "source": [
        "! chmod 600 ~/.kaggle/kaggle.json"
      ]
    },
    {
      "cell_type": "code",
      "execution_count": 6,
      "metadata": {
        "colab": {
          "base_uri": "https://localhost:8080/"
        },
        "id": "M7APutWuqSzS",
        "outputId": "e7361204-1c48-4318-ae9c-324dcbac3392"
      },
      "outputs": [
        {
          "output_type": "stream",
          "name": "stdout",
          "text": [
            "Dataset URL: https://www.kaggle.com/datasets/unmoved/30k-cats-and-dogs-150x150-greyscale\n",
            "License(s): CC0-1.0\n",
            "Downloading 30k-cats-and-dogs-150x150-greyscale.zip to /content\n",
            " 99% 131M/133M [00:08<00:00, 20.2MB/s]\n",
            "100% 133M/133M [00:08<00:00, 16.4MB/s]\n"
          ]
        }
      ],
      "source": [
        "! kaggle datasets download -d unmoved/30k-cats-and-dogs-150x150-greyscale"
      ]
    },
    {
      "cell_type": "code",
      "execution_count": 7,
      "metadata": {
        "id": "QDv5yJmSq0tE"
      },
      "outputs": [],
      "source": [
        "from pathlib import Path\n",
        "\n",
        "data_path = Path('data')\n",
        "\n",
        "data_path.mkdir(exist_ok=True, parents=True)\n"
      ]
    },
    {
      "cell_type": "code",
      "execution_count": 8,
      "metadata": {
        "id": "sKYlRWC1qZgR"
      },
      "outputs": [],
      "source": [
        "import zipfile\n",
        "\n",
        "with zipfile.ZipFile('30k-cats-and-dogs-150x150-greyscale.zip', 'r') as z:\n",
        "    z.extractall(data_path)"
      ]
    },
    {
      "cell_type": "code",
      "execution_count": 9,
      "metadata": {
        "id": "8xdn75lDr6sh"
      },
      "outputs": [],
      "source": [
        "cat_path = data_path / 'Animal Images' / 'cats'\n",
        "cat_path\n",
        "dog_path = data_path / 'Animal Images' / 'dogs'"
      ]
    },
    {
      "cell_type": "markdown",
      "metadata": {
        "id": "3Q0QDCdFXl2w"
      },
      "source": [
        "### Importing the necessary packages"
      ]
    },
    {
      "cell_type": "code",
      "execution_count": 10,
      "metadata": {
        "id": "3bgfqhM8Xl2x"
      },
      "outputs": [],
      "source": [
        "from torch.utils.data import random_split, DataLoader\n",
        "from torchvision.datasets import ImageFolder\n",
        "from torchvision import transforms\n",
        "from tqdm.auto import tqdm\n",
        "from PIL import Image\n",
        "from torch import nn\n",
        "\n",
        "import matplotlib.pyplot as plt\n",
        "import pandas as pd\n",
        "import torchvision\n",
        "import numpy as np\n",
        "import torch\n",
        "import time\n",
        "import os\n"
      ]
    },
    {
      "cell_type": "code",
      "execution_count": 11,
      "metadata": {
        "colab": {
          "base_uri": "https://localhost:8080/",
          "height": 184
        },
        "id": "PnO_gSR5Xl2z",
        "outputId": "487db054-2e14-4d45-c26b-d3a48e9e9d4c"
      },
      "outputs": [
        {
          "output_type": "stream",
          "name": "stdout",
          "text": [
            "Shape of the image is: (150, 150)\n"
          ]
        },
        {
          "output_type": "execute_result",
          "data": {
            "text/plain": [
              "<PIL.JpegImagePlugin.JpegImageFile image mode=L size=150x150>"
            ],
            "image/png": "[encoded data removed]"
          },
          "metadata": {},
          "execution_count": 11
        }
      ],
      "source": [
        "# Visualizing one image\n",
        "cat_image_names = os.listdir(cat_path)\n",
        "first_cat_image_path = cat_path / cat_image_names[0]\n",
        "img = Image.open(fp=first_cat_image_path)\n",
        "print(f'Shape of the image is: {np.asarray(img).shape}')\n",
        "img"
      ]
    },
    {
      "cell_type": "markdown",
      "metadata": {
        "id": "G9mjCW5zXl20"
      },
      "source": [
        "2. Now we define the path to the image directory\n",
        "and then gaining the dataset with **ImageFolder**."
      ]
    },
    {
      "cell_type": "code",
      "source": [
        "data_path"
      ],
      "metadata": {
        "colab": {
          "base_uri": "https://localhost:8080/"
        },
        "id": "kA1hGPf-joRm",
        "outputId": "70b4f952-5288-4f86-b0ab-7a166702d508"
      },
      "execution_count": 12,
      "outputs": [
        {
          "output_type": "execute_result",
          "data": {
            "text/plain": [
              "PosixPath('data')"
            ]
          },
          "metadata": {},
          "execution_count": 12
        }
      ]
    },
    {
      "cell_type": "code",
      "source": [
        "# Device agnostic code\n",
        "device = torch.device('cuda' if torch.cuda.is_available() else 'cpu')\n",
        "device"
      ],
      "metadata": {
        "colab": {
          "base_uri": "https://localhost:8080/"
        },
        "id": "J01NkcsubMTb",
        "outputId": "02d32e52-3e69-4432-d9f9-201d4f52c446"
      },
      "execution_count": 13,
      "outputs": [
        {
          "output_type": "execute_result",
          "data": {
            "text/plain": [
              "device(type='cuda')"
            ]
          },
          "metadata": {},
          "execution_count": 13
        }
      ]
    },
    {
      "cell_type": "code",
      "execution_count": 14,
      "metadata": {
        "id": "EbJHQhEKXl21"
      },
      "outputs": [],
      "source": [
        "dataset = ImageFolder(\n",
        "\n",
        "    root = data_path / 'Animal Images',\n",
        "    transform=transforms.Compose([\n",
        "    transforms.Grayscale(),\n",
        "    transforms.Resize(size=(124,124)), # Maybe need to make it smaller\n",
        "    transforms.ToTensor()\n",
        "    ])\n",
        ")"
      ]
    },
    {
      "cell_type": "markdown",
      "metadata": {
        "id": "tF4Wa-k9Xl24"
      },
      "source": [
        "## 3. Bulding the model"
      ]
    },
    {
      "cell_type": "code",
      "execution_count": 15,
      "metadata": {
        "id": "e-qqayxiXl22"
      },
      "outputs": [],
      "source": [
        "# Splitting the dataset into train, test and validation datasets.\n",
        "\n",
        "torch.manual_seed(42)\n",
        "\n",
        "train_size = int(len(dataset) * 0.7)\n",
        "test_size = int(len(dataset) * 0.15)\n",
        "\n",
        "val_size = len(dataset) - train_size - test_size\n",
        "\n",
        "train_dataset, test_dataset, val_dataset = random_split(dataset,\n",
        "                                                        [train_size,\n",
        "                                                         test_size,\n",
        "                                                         val_size]\n",
        "                                                       )\n"
      ]
    },
    {
      "cell_type": "markdown",
      "metadata": {
        "id": "3TGM7ePNXl22"
      },
      "source": [
        "1. Splitting data into batches using the *DataLoader*."
      ]
    },
    {
      "cell_type": "code",
      "execution_count": 16,
      "metadata": {
        "id": "_vFLPR_bXl23"
      },
      "outputs": [],
      "source": [
        "\n",
        "BATCH_SIZE = 64\n",
        "\n",
        "train_dataloader = DataLoader(dataset=train_dataset,\n",
        "                              batch_size=BATCH_SIZE,\n",
        "                              shuffle=True,\n",
        "                              num_workers=os.cpu_count()\n",
        "                             )\n",
        "\n",
        "test_loader = DataLoader(dataset=test_dataset,\n",
        "                        batch_size=BATCH_SIZE,\n",
        "                        shuffle=False,\n",
        "                        num_workers=os.cpu_count()\n",
        "                        )\n",
        "\n",
        "val_loader = DataLoader(dataset=val_dataset,\n",
        "                       batch_size=BATCH_SIZE,\n",
        "                       shuffle=False,\n",
        "                       num_workers=os.cpu_count())"
      ]
    },
    {
      "cell_type": "code",
      "source": [
        "dummy = torch.randint(0,255,size=(1,1,124,124),dtype=torch.float)\n",
        "conv = nn.Conv2d(in_channels=1,\n",
        "                                             out_channels=3,\n",
        "                                             kernel_size=(3,3),\n",
        "                                             stride=1,\n",
        "                                             padding=0\n",
        "                                            )\n",
        "output = conv(dummy)\n",
        "output.shape, dummy.shape"
      ],
      "metadata": {
        "colab": {
          "base_uri": "https://localhost:8080/"
        },
        "id": "t1pVUPRg45Zv",
        "outputId": "92388b1b-cc40-4c08-d14b-a94754e102ee"
      },
      "execution_count": 17,
      "outputs": [
        {
          "output_type": "execute_result",
          "data": {
            "text/plain": [
              "(torch.Size([1, 3, 122, 122]), torch.Size([1, 1, 124, 124]))"
            ]
          },
          "metadata": {},
          "execution_count": 17
        }
      ]
    },
    {
      "cell_type": "code",
      "source": [
        "class miniDogCat(nn.Module):\n",
        "    def __init__(self, input_shape, hidden_shape,output_shape=1):\n",
        "        super().__init__()\n",
        "\n",
        "        self.block1 = nn.Sequential(nn.BatchNorm2d(num_features=1),\n",
        "                                   nn.Conv2d(in_channels=1,\n",
        "                                             out_channels=hidden_shape,\n",
        "                                             kernel_size=(3,3),\n",
        "                                             stride=1,\n",
        "                                             padding=0\n",
        "                                            ),\n",
        "                                    nn.BatchNorm2d(num_features=hidden_shape),\n",
        "                                    nn.ReLU(),\n",
        "                                    nn.Conv2d(in_channels=hidden_shape,\n",
        "                                              out_channels=hidden_shape,\n",
        "                                              kernel_size=(3,3),\n",
        "                                              stride=1,\n",
        "                                              padding=0\n",
        "                                    ),\n",
        "                                    nn.BatchNorm2d(num_features=hidden_shape),\n",
        "                                    nn.ReLU(),\n",
        "                                    nn.MaxPool2d(kernel_size=(3,3),stride=2),\n",
        "                                    nn.Dropout2d(p=0.15)\n",
        "                                   )\n",
        "\n",
        "        self.block2 = nn.Sequential(nn.BatchNorm2d(num_features=hidden_shape),\n",
        "                                   nn.Conv2d(in_channels=hidden_shape,\n",
        "                                             out_channels=hidden_shape,\n",
        "                                             kernel_size=(3,3),\n",
        "                                             stride=1,\n",
        "                                             padding=0\n",
        "                                            ),\n",
        "                                    nn.BatchNorm2d(num_features=hidden_shape),\n",
        "                                    nn.ReLU(),\n",
        "                                    nn.Conv2d(in_channels=hidden_shape,\n",
        "                                              out_channels=hidden_shape,\n",
        "                                              kernel_size=(3,3),\n",
        "                                              stride=1,\n",
        "                                              padding=1\n",
        "                                    ),\n",
        "                                    nn.MaxPool2d(kernel_size=(3,3)),\n",
        "                                    nn.BatchNorm2d(num_features=hidden_shape),\n",
        "                                    nn.ReLU(),\n",
        "                                    nn.Dropout2d(p=0.15))\n",
        "\n",
        "        self.classifier = nn.Sequential(nn.Flatten(),\n",
        "                                       nn.Linear(in_features=5415,\n",
        "                                                out_features=124),\n",
        "                                        nn.ReLU(),\n",
        "                                        nn.Dropout2d(p=0.6),\n",
        "                                        nn.Linear(in_features=124,\n",
        "                                                 out_features=output_shape)\n",
        "                                       )\n",
        "    def forward(self, X):\n",
        "        # print(X.shape)\n",
        "        X = self.block1(X)\n",
        "        # print(X.shape)\n",
        "        X = self.block2(X)\n",
        "        # print(X.shape)\n",
        "        X = self.classifier(X)\n",
        "        # print(X.shape)\n",
        "        return X"
      ],
      "metadata": {
        "id": "vGtTJ0dlwely"
      },
      "execution_count": 18,
      "outputs": []
    },
    {
      "cell_type": "code",
      "execution_count": 19,
      "metadata": {
        "id": "2gSApE-DXl24"
      },
      "outputs": [],
      "source": [
        "model = miniDogCat(input_shape=124,\n",
        "              hidden_shape=15).to(device)"
      ]
    },
    {
      "cell_type": "code",
      "source": [
        "dummy = torch.randint(0, 255, size=(1,1,124,124), dtype=torch.float).to(device)\n",
        "model(dummy)"
      ],
      "metadata": {
        "colab": {
          "base_uri": "https://localhost:8080/"
        },
        "id": "M0U8FLuF6hEu",
        "outputId": "b70abdd6-9833-44d7-99df-d1f0a3033648"
      },
      "execution_count": 20,
      "outputs": [
        {
          "output_type": "stream",
          "name": "stderr",
          "text": [
            "/usr/local/lib/python3.10/dist-packages/torch/nn/functional.py:1374: UserWarning: dropout2d: Received a 2-D input to dropout2d, which is deprecated and will result in an error in a future release. To retain the behavior and silence this warning, please use dropout instead. Note that dropout2d exists to provide channel-wise dropout on inputs with 2 spatial dimensions, a channel dimension, and an optional batch dimension (i.e. 3D or 4D inputs).\n",
            "  warnings.warn(warn_msg)\n"
          ]
        },
        {
          "output_type": "execute_result",
          "data": {
            "text/plain": [
              "tensor([[-0.4527]], device='cuda:0', grad_fn=<AddmmBackward0>)"
            ]
          },
          "metadata": {},
          "execution_count": 20
        }
      ]
    },
    {
      "cell_type": "code",
      "execution_count": 21,
      "metadata": {
        "id": "owCcUmRDXl26"
      },
      "outputs": [],
      "source": [
        "optimizer = torch.optim.Adam(params=model.parameters(),\n",
        "                       lr=0.001)\n",
        "\n",
        "loss = nn.BCEWithLogitsLoss()"
      ]
    },
    {
      "cell_type": "code",
      "execution_count": 22,
      "metadata": {
        "colab": {
          "base_uri": "https://localhost:8080/"
        },
        "id": "c5u08HflXl26",
        "outputId": "cae9f0a1-7d67-47cf-f7fd-6901ebd749e0"
      },
      "outputs": [
        {
          "output_type": "execute_result",
          "data": {
            "text/plain": [
              "329"
            ]
          },
          "metadata": {},
          "execution_count": 22
        }
      ],
      "source": [
        "len(train_dataloader)"
      ]
    },
    {
      "cell_type": "code",
      "source": [
        "model"
      ],
      "metadata": {
        "colab": {
          "base_uri": "https://localhost:8080/"
        },
        "collapsed": true,
        "id": "y5yw_1RpbjCX",
        "outputId": "be17f6d6-bad2-4aac-dd3f-5daf48160177"
      },
      "execution_count": 23,
      "outputs": [
        {
          "output_type": "execute_result",
          "data": {
            "text/plain": [
              "miniDogCat(\n",
              "  (block1): Sequential(\n",
              "    (0): BatchNorm2d(1, eps=1e-05, momentum=0.1, affine=True, track_running_stats=True)\n",
              "    (1): Conv2d(1, 15, kernel_size=(3, 3), stride=(1, 1))\n",
              "    (2): BatchNorm2d(15, eps=1e-05, momentum=0.1, affine=True, track_running_stats=True)\n",
              "    (3): ReLU()\n",
              "    (4): Conv2d(15, 15, kernel_size=(3, 3), stride=(1, 1))\n",
              "    (5): BatchNorm2d(15, eps=1e-05, momentum=0.1, affine=True, track_running_stats=True)\n",
              "    (6): ReLU()\n",
              "    (7): MaxPool2d(kernel_size=(3, 3), stride=2, padding=0, dilation=1, ceil_mode=False)\n",
              "    (8): Dropout2d(p=0.15, inplace=False)\n",
              "  )\n",
              "  (block2): Sequential(\n",
              "    (0): BatchNorm2d(15, eps=1e-05, momentum=0.1, affine=True, track_running_stats=True)\n",
              "    (1): Conv2d(15, 15, kernel_size=(3, 3), stride=(1, 1))\n",
              "    (2): BatchNorm2d(15, eps=1e-05, momentum=0.1, affine=True, track_running_stats=True)\n",
              "    (3): ReLU()\n",
              "    (4): Conv2d(15, 15, kernel_size=(3, 3), stride=(1, 1), padding=(1, 1))\n",
              "    (5): MaxPool2d(kernel_size=(3, 3), stride=(3, 3), padding=0, dilation=1, ceil_mode=False)\n",
              "    (6): BatchNorm2d(15, eps=1e-05, momentum=0.1, affine=True, track_running_stats=True)\n",
              "    (7): ReLU()\n",
              "    (8): Dropout2d(p=0.15, inplace=False)\n",
              "  )\n",
              "  (classifier): Sequential(\n",
              "    (0): Flatten(start_dim=1, end_dim=-1)\n",
              "    (1): Linear(in_features=5415, out_features=124, bias=True)\n",
              "    (2): ReLU()\n",
              "    (3): Dropout2d(p=0.6, inplace=False)\n",
              "    (4): Linear(in_features=124, out_features=1, bias=True)\n",
              "  )\n",
              ")"
            ]
          },
          "metadata": {},
          "execution_count": 23
        }
      ]
    },
    {
      "cell_type": "code",
      "source": [
        "train_losses = []\n",
        "train_accs = []\n",
        "val_losses = []\n",
        "val_accs = []"
      ],
      "metadata": {
        "id": "uWO-pQb0y2vn"
      },
      "execution_count": 24,
      "outputs": []
    },
    {
      "cell_type": "code",
      "source": [
        "epochs = 20\n",
        "start_time = time.time()\n",
        "for epoch in tqdm(range(epochs)):\n",
        "\n",
        "    train_total_loss = 0\n",
        "    train_total_acc = 0\n",
        "    total_val_loss = 0\n",
        "    total_val_acc = 0\n",
        "\n",
        "    for batch , (X,y) in enumerate(train_dataloader):\n",
        "\n",
        "        X, y = X.to(device), y.to(device)\n",
        "        model.train()\n",
        "\n",
        "        y_train_pred_logits = model(X)\n",
        "        y = y.unsqueeze(dim=-1).to(torch.float)\n",
        "\n",
        "        y_pred_probas = torch.round(torch.sigmoid(y_train_pred_logits))\n",
        "\n",
        "        train_loss = loss(y_train_pred_logits, y)\n",
        "        train_total_loss += train_loss.item()\n",
        "\n",
        "        train_total_acc += (torch.sum(y_pred_probas == y).item() / len(y)) * 100\n",
        "\n",
        "        optimizer.zero_grad()\n",
        "\n",
        "        train_loss.backward()\n",
        "\n",
        "        optimizer.step()\n",
        "\n",
        "    train_total_loss /= len(train_dataloader)\n",
        "    train_total_acc /= len(train_dataloader)\n",
        "    train_losses.append(train_total_loss)\n",
        "    train_accs.append(train_total_acc)\n",
        "\n",
        "    with torch.inference_mode():\n",
        "        model.eval()\n",
        "        for (X_val, y_val) in val_loader:\n",
        "\n",
        "            X_val, y_val = X_val.to(device), y_val.to(device)\n",
        "\n",
        "            y_val_pred_logits = model(X_val)\n",
        "            y_val_pred = torch.round(torch.sigmoid(y_val_pred_logits))\n",
        "\n",
        "            y_val = y_val.unsqueeze(dim=-1).to(torch.float)\n",
        "\n",
        "            val_loss = loss(y_val_pred_logits, y_val)\n",
        "            total_val_loss += val_loss.item()\n",
        "\n",
        "            total_val_acc += (torch.sum(y_val_pred == y_val).item() / len(y_val)) * 100\n",
        "\n",
        "    total_val_loss /= len(val_loader)\n",
        "    total_val_acc /= len(val_loader)\n",
        "    val_losses.append(total_val_loss)\n",
        "    val_accs.append(total_val_acc)\n",
        "\n",
        "    print(f'Train loss: {train_total_loss:.4f},train_acc: {train_total_acc:.4f}, Val loss: {total_val_loss:.4f}, val_acc: {total_val_acc:.4f}')\n",
        "\n",
        "end_time = time.time()\n",
        "print(f'time spent: {end_time - start_time}')\n",
        "\n",
        "\n",
        "\n",
        "\n",
        "\n"
      ],
      "metadata": {
        "collapsed": true,
        "colab": {
          "base_uri": "https://localhost:8080/",
          "height": 414,
          "referenced_widgets": [
            "b1c1c5be857f472fbed50317866c48cc",
            "d711e6c46c504446a0dba1c5561e947c",
            "acafa5bc762c49a7831bb219bfb0fe11",
            "0a43190afc624648bdb9b2f7f1fe6a34",
            "89327788be424efaa38b840d0a30b3db",
            "11ce6b1ac146494cbc6e3c3e2afa121d",
            "53ed06b695b1459b9e8db43699184276",
            "92423dcdff8e4b1b895703228789429f",
            "4a12c47855bf4341b84796f023a75d0a",
            "aed54b6ce4c440b4b105da7215d11cb8",
            "db001a0c65b048f3b14dc2ba9fba30b4"
          ]
        },
        "id": "BB03Xxj9ALIV",
        "outputId": "f1a30624-ce6f-4518-9368-c9f2be3046da"
      },
      "execution_count": 25,
      "outputs": [
        {
          "output_type": "display_data",
          "data": {
            "text/plain": [
              "  0%|          | 0/20 [00:00<?, ?it/s]"
            ],
            "application/vnd.jupyter.widget-view+json": {
              "version_major": 2,
              "version_minor": 0,
              "model_id": "b1c1c5be857f472fbed50317866c48cc"
            }
          },
          "metadata": {}
        },
        {
          "output_type": "stream",
          "name": "stdout",
          "text": [
            "Train loss: 0.6524,train_acc: 61.5652, Val loss: 0.5689, val_acc: 71.3263\n",
            "Train loss: 0.5823,train_acc: 70.0023, Val loss: 0.5254, val_acc: 74.6802\n",
            "Train loss: 0.5418,train_acc: 73.4681, Val loss: 0.5002, val_acc: 75.6074\n",
            "Train loss: 0.5142,train_acc: 74.9605, Val loss: 0.4683, val_acc: 77.2110\n",
            "Train loss: 0.4938,train_acc: 76.7557, Val loss: 0.4591, val_acc: 77.7113\n",
            "Train loss: 0.4806,train_acc: 76.9873, Val loss: 0.4493, val_acc: 78.4463\n",
            "Train loss: 0.4607,train_acc: 78.4250, Val loss: 0.4476, val_acc: 78.6634\n",
            "Train loss: 0.4516,train_acc: 79.0082, Val loss: 0.4352, val_acc: 79.0845\n",
            "Train loss: 0.4338,train_acc: 79.7075, Val loss: 0.4318, val_acc: 79.3266\n",
            "Train loss: 0.4245,train_acc: 80.6644, Val loss: 0.4301, val_acc: 79.6347\n",
            "Train loss: 0.4111,train_acc: 81.0717, Val loss: 0.4211, val_acc: 79.5657\n",
            "Train loss: 0.3997,train_acc: 81.5680, Val loss: 0.4099, val_acc: 80.4269\n",
            "Train loss: 0.3878,train_acc: 82.4609, Val loss: 0.4123, val_acc: 80.9360\n",
            "Train loss: 0.3812,train_acc: 82.9405, Val loss: 0.4070, val_acc: 81.1561\n",
            "Train loss: 0.3744,train_acc: 83.1472, Val loss: 0.4156, val_acc: 80.6690\n",
            "Train loss: 0.3634,train_acc: 83.6137, Val loss: 0.4076, val_acc: 81.0901\n",
            "Train loss: 0.3524,train_acc: 83.5721, Val loss: 0.4076, val_acc: 81.2001\n",
            "Train loss: 0.3483,train_acc: 84.2740, Val loss: 0.4139, val_acc: 80.9771\n",
            "Train loss: 0.3424,train_acc: 84.7500, Val loss: 0.4079, val_acc: 81.3512\n",
            "Train loss: 0.3288,train_acc: 85.0564, Val loss: 0.4262, val_acc: 81.5023\n",
            "time spent: 383.7012655735016\n"
          ]
        }
      ]
    },
    {
      "cell_type": "code",
      "source": [
        "plt.plot(range(len(train_losses)), train_losses, c='b', label='Train Loss')\n",
        "plt.plot(range(len(val_losses)), val_losses, c='r', label='Validation Loss')\n",
        "\n",
        "plt.xlabel('Epoch')\n",
        "plt.ylabel('Loss')\n",
        "plt.title('Training and Validation Losses')\n",
        "\n",
        "plt.legend()\n",
        "plt.grid(True)\n",
        "plt.show()\n"
      ],
      "metadata": {
        "colab": {
          "base_uri": "https://localhost:8080/",
          "height": 472
        },
        "id": "L2t0V4P79v5K",
        "outputId": "4f8dde86-e638-4d41-bfef-eaeaaee74ce4"
      },
      "execution_count": 26,
      "outputs": [
        {
          "output_type": "display_data",
          "data": {
            "text/plain": [
              "<Figure size 640x480 with 1 Axes>"
            ],
            "image/png": "[encoded data removed]"
          },
          "metadata": {}
        }
      ]
    },
    {
      "cell_type": "code",
      "source": [
        "plt.plot(range(len(train_accs)), train_accs, c='b', label='Train Accuracy')\n",
        "plt.plot(range(len(val_accs)), val_accs, c='r', label='Validation Accuracy')\n",
        "\n",
        "plt.xlabel('Epoch')\n",
        "plt.ylabel('Loss')\n",
        "plt.title('Training and Validation Accuracies')\n",
        "\n",
        "plt.legend()\n",
        "plt.grid(True)\n",
        "plt.show()"
      ],
      "metadata": {
        "colab": {
          "base_uri": "https://localhost:8080/",
          "height": 472
        },
        "id": "DHeHQxFRPVWL",
        "outputId": "5dbea4f7-22a4-42c5-c62a-b2d2592383a2"
      },
      "execution_count": 27,
      "outputs": [
        {
          "output_type": "display_data",
          "data": {
            "text/plain": [
              "<Figure size 640x480 with 1 Axes>"
            ],
            "image/png": "[encoded data removed]"
          },
          "metadata": {}
        }
      ]
    },
    {
      "cell_type": "markdown",
      "source": [
        "###As we have a baseline model which has good results it is essetial to save the state_dict of our model to not repeat the training every time."
      ],
      "metadata": {
        "id": "W3zpXcpJGHQP"
      }
    },
    {
      "cell_type": "code",
      "source": [
        "torch.save(model.state_dict(), 'dog_cat_classifier.pth')"
      ],
      "metadata": {
        "id": "vPKvQ4M_DHo6"
      },
      "execution_count": 29,
      "outputs": []
    },
    {
      "cell_type": "code",
      "source": [
        "from google.colab import files\n",
        "\n",
        "files.download('dog_cat_classifier.pth')"
      ],
      "metadata": {
        "colab": {
          "base_uri": "https://localhost:8080/",
          "height": 17
        },
        "id": "7tjO0sUdFo3S",
        "outputId": "4c740a5f-719c-4681-83ad-153b6275ec49"
      },
      "execution_count": 30,
      "outputs": [
        {
          "output_type": "display_data",
          "data": {
            "text/plain": [
              "<IPython.core.display.Javascript object>"
            ],
            "application/javascript": [
              "\n",
              "    async function download(id, filename, size) {\n",
              "      if (!google.colab.kernel.accessAllowed) {\n",
              "        return;\n",
              "      }\n",
              "      const div = document.createElement('div');\n",
              "      const label = document.createElement('label');\n",
              "      label.textContent = `Downloading \"${filename}\": `;\n",
              "      div.appendChild(label);\n",
              "      const progress = document.createElement('progress');\n",
              "      progress.max = size;\n",
              "      div.appendChild(progress);\n",
              "      document.body.appendChild(div);\n",
              "\n",
              "      const buffers = [];\n",
              "      let downloaded = 0;\n",
              "\n",
              "      const channel = await google.colab.kernel.comms.open(id);\n",
              "      // Send a message to notify the kernel that we're ready.\n",
              "      channel.send({})\n",
              "\n",
              "      for await (const message of channel.messages) {\n",
              "        // Send a message to notify the kernel that we're ready.\n",
              "        channel.send({})\n",
              "        if (message.buffers) {\n",
              "          for (const buffer of message.buffers) {\n",
              "            buffers.push(buffer);\n",
              "            downloaded += buffer.byteLength;\n",
              "            progress.value = downloaded;\n",
              "          }\n",
              "        }\n",
              "      }\n",
              "      const blob = new Blob(buffers, {type: 'application/binary'});\n",
              "      const a = document.createElement('a');\n",
              "      a.href = window.URL.createObjectURL(blob);\n",
              "      a.download = filename;\n",
              "      div.appendChild(a);\n",
              "      a.click();\n",
              "      div.remove();\n",
              "    }\n",
              "  "
            ]
          },
          "metadata": {}
        },
        {
          "output_type": "display_data",
          "data": {
            "text/plain": [
              "<IPython.core.display.Javascript object>"
            ],
            "application/javascript": [
              "download(\"download_06704db9-5abb-4377-a0d3-f1975dbee5a3\", \"dog_cat_classifier.pth\", 2727250)"
            ]
          },
          "metadata": {}
        }
      ]
    }
  ],
  "metadata": {
    "colab": {
      "provenance": [],
      "gpuType": "T4"
    },
    "kernelspec": {
      "display_name": "Python 3",
      "name": "python3"
    },
    "language_info": {
      "codemirror_mode": {
        "name": "ipython",
        "version": 3
      },
      "file_extension": ".py",
      "mimetype": "text/x-python",
      "name": "python",
      "nbconvert_exporter": "python",
      "pygments_lexer": "ipython3",
      "version": "3.10.11"
    },
    "accelerator": "GPU",
    "widgets": {
      "application/vnd.jupyter.widget-state+json": {
        "b1c1c5be857f472fbed50317866c48cc": {
          "model_module": "@jupyter-widgets/controls",
          "model_name": "HBoxModel",
          "model_module_version": "1.5.0",
          "state": {
            "_dom_classes": [],
            "_model_module": "@jupyter-widgets/controls",
            "_model_module_version": "1.5.0",
            "_model_name": "HBoxModel",
            "_view_count": null,
            "_view_module": "@jupyter-widgets/controls",
            "_view_module_version": "1.5.0",
            "_view_name": "HBoxView",
            "box_style": "",
            "children": [
              "IPY_MODEL_d711e6c46c504446a0dba1c5561e947c",
              "IPY_MODEL_acafa5bc762c49a7831bb219bfb0fe11",
              "IPY_MODEL_0a43190afc624648bdb9b2f7f1fe6a34"
            ],
            "layout": "IPY_MODEL_89327788be424efaa38b840d0a30b3db"
          }
        },
        "d711e6c46c504446a0dba1c5561e947c": {
          "model_module": "@jupyter-widgets/controls",
          "model_name": "HTMLModel",
          "model_module_version": "1.5.0",
          "state": {
            "_dom_classes": [],
            "_model_module": "@jupyter-widgets/controls",
            "_model_module_version": "1.5.0",
            "_model_name": "HTMLModel",
            "_view_count": null,
            "_view_module": "@jupyter-widgets/controls",
            "_view_module_version": "1.5.0",
            "_view_name": "HTMLView",
            "description": "",
            "description_tooltip": null,
            "layout": "IPY_MODEL_11ce6b1ac146494cbc6e3c3e2afa121d",
            "placeholder": "​",
            "style": "IPY_MODEL_53ed06b695b1459b9e8db43699184276",
            "value": "100%"
          }
        },
        "acafa5bc762c49a7831bb219bfb0fe11": {
          "model_module": "@jupyter-widgets/controls",
          "model_name": "FloatProgressModel",
          "model_module_version": "1.5.0",
          "state": {
            "_dom_classes": [],
            "_model_module": "@jupyter-widgets/controls",
            "_model_module_version": "1.5.0",
            "_model_name": "FloatProgressModel",
            "_view_count": null,
            "_view_module": "@jupyter-widgets/controls",
            "_view_module_version": "1.5.0",
            "_view_name": "ProgressView",
            "bar_style": "success",
            "description": "",
            "description_tooltip": null,
            "layout": "IPY_MODEL_92423dcdff8e4b1b895703228789429f",
            "max": 20,
            "min": 0,
            "orientation": "horizontal",
            "style": "IPY_MODEL_4a12c47855bf4341b84796f023a75d0a",
            "value": 20
          }
        },
        "0a43190afc624648bdb9b2f7f1fe6a34": {
          "model_module": "@jupyter-widgets/controls",
          "model_name": "HTMLModel",
          "model_module_version": "1.5.0",
          "state": {
            "_dom_classes": [],
            "_model_module": "@jupyter-widgets/controls",
            "_model_module_version": "1.5.0",
            "_model_name": "HTMLModel",
            "_view_count": null,
            "_view_module": "@jupyter-widgets/controls",
            "_view_module_version": "1.5.0",
            "_view_name": "HTMLView",
            "description": "",
            "description_tooltip": null,
            "layout": "IPY_MODEL_aed54b6ce4c440b4b105da7215d11cb8",
            "placeholder": "​",
            "style": "IPY_MODEL_db001a0c65b048f3b14dc2ba9fba30b4",
            "value": " 20/20 [06:23&lt;00:00, 19.09s/it]"
          }
        },
        "89327788be424efaa38b840d0a30b3db": {
          "model_module": "@jupyter-widgets/base",
          "model_name": "LayoutModel",
          "model_module_version": "1.2.0",
          "state": {
            "_model_module": "@jupyter-widgets/base",
            "_model_module_version": "1.2.0",
            "_model_name": "LayoutModel",
            "_view_count": null,
            "_view_module": "@jupyter-widgets/base",
            "_view_module_version": "1.2.0",
            "_view_name": "LayoutView",
            "align_content": null,
            "align_items": null,
            "align_self": null,
            "border": null,
            "bottom": null,
            "display": null,
            "flex": null,
            "flex_flow": null,
            "grid_area": null,
            "grid_auto_columns": null,
            "grid_auto_flow": null,
            "grid_auto_rows": null,
            "grid_column": null,
            "grid_gap": null,
            "grid_row": null,
            "grid_template_areas": null,
            "grid_template_columns": null,
            "grid_template_rows": null,
            "height": null,
            "justify_content": null,
            "justify_items": null,
            "left": null,
            "margin": null,
            "max_height": null,
            "max_width": null,
            "min_height": null,
            "min_width": null,
            "object_fit": null,
            "object_position": null,
            "order": null,
            "overflow": null,
            "overflow_x": null,
            "overflow_y": null,
            "padding": null,
            "right": null,
            "top": null,
            "visibility": null,
            "width": null
          }
        },
        "11ce6b1ac146494cbc6e3c3e2afa121d": {
          "model_module": "@jupyter-widgets/base",
          "model_name": "LayoutModel",
          "model_module_version": "1.2.0",
          "state": {
            "_model_module": "@jupyter-widgets/base",
            "_model_module_version": "1.2.0",
            "_model_name": "LayoutModel",
            "_view_count": null,
            "_view_module": "@jupyter-widgets/base",
            "_view_module_version": "1.2.0",
            "_view_name": "LayoutView",
            "align_content": null,
            "align_items": null,
            "align_self": null,
            "border": null,
            "bottom": null,
            "display": null,
            "flex": null,
            "flex_flow": null,
            "grid_area": null,
            "grid_auto_columns": null,
            "grid_auto_flow": null,
            "grid_auto_rows": null,
            "grid_column": null,
            "grid_gap": null,
            "grid_row": null,
            "grid_template_areas": null,
            "grid_template_columns": null,
            "grid_template_rows": null,
            "height": null,
            "justify_content": null,
            "justify_items": null,
            "left": null,
            "margin": null,
            "max_height": null,
            "max_width": null,
            "min_height": null,
            "min_width": null,
            "object_fit": null,
            "object_position": null,
            "order": null,
            "overflow": null,
            "overflow_x": null,
            "overflow_y": null,
            "padding": null,
            "right": null,
            "top": null,
            "visibility": null,
            "width": null
          }
        },
        "53ed06b695b1459b9e8db43699184276": {
          "model_module": "@jupyter-widgets/controls",
          "model_name": "DescriptionStyleModel",
          "model_module_version": "1.5.0",
          "state": {
            "_model_module": "@jupyter-widgets/controls",
            "_model_module_version": "1.5.0",
            "_model_name": "DescriptionStyleModel",
            "_view_count": null,
            "_view_module": "@jupyter-widgets/base",
            "_view_module_version": "1.2.0",
            "_view_name": "StyleView",
            "description_width": ""
          }
        },
        "92423dcdff8e4b1b895703228789429f": {
          "model_module": "@jupyter-widgets/base",
          "model_name": "LayoutModel",
          "model_module_version": "1.2.0",
          "state": {
            "_model_module": "@jupyter-widgets/base",
            "_model_module_version": "1.2.0",
            "_model_name": "LayoutModel",
            "_view_count": null,
            "_view_module": "@jupyter-widgets/base",
            "_view_module_version": "1.2.0",
            "_view_name": "LayoutView",
            "align_content": null,
            "align_items": null,
            "align_self": null,
            "border": null,
            "bottom": null,
            "display": null,
            "flex": null,
            "flex_flow": null,
            "grid_area": null,
            "grid_auto_columns": null,
            "grid_auto_flow": null,
            "grid_auto_rows": null,
            "grid_column": null,
            "grid_gap": null,
            "grid_row": null,
            "grid_template_areas": null,
            "grid_template_columns": null,
            "grid_template_rows": null,
            "height": null,
            "justify_content": null,
            "justify_items": null,
            "left": null,
            "margin": null,
            "max_height": null,
            "max_width": null,
            "min_height": null,
            "min_width": null,
            "object_fit": null,
            "object_position": null,
            "order": null,
            "overflow": null,
            "overflow_x": null,
            "overflow_y": null,
            "padding": null,
            "right": null,
            "top": null,
            "visibility": null,
            "width": null
          }
        },
        "4a12c47855bf4341b84796f023a75d0a": {
          "model_module": "@jupyter-widgets/controls",
          "model_name": "ProgressStyleModel",
          "model_module_version": "1.5.0",
          "state": {
            "_model_module": "@jupyter-widgets/controls",
            "_model_module_version": "1.5.0",
            "_model_name": "ProgressStyleModel",
            "_view_count": null,
            "_view_module": "@jupyter-widgets/base",
            "_view_module_version": "1.2.0",
            "_view_name": "StyleView",
            "bar_color": null,
            "description_width": ""
          }
        },
        "aed54b6ce4c440b4b105da7215d11cb8": {
          "model_module": "@jupyter-widgets/base",
          "model_name": "LayoutModel",
          "model_module_version": "1.2.0",
          "state": {
            "_model_module": "@jupyter-widgets/base",
            "_model_module_version": "1.2.0",
            "_model_name": "LayoutModel",
            "_view_count": null,
            "_view_module": "@jupyter-widgets/base",
            "_view_module_version": "1.2.0",
            "_view_name": "LayoutView",
            "align_content": null,
            "align_items": null,
            "align_self": null,
            "border": null,
            "bottom": null,
            "display": null,
            "flex": null,
            "flex_flow": null,
            "grid_area": null,
            "grid_auto_columns": null,
            "grid_auto_flow": null,
            "grid_auto_rows": null,
            "grid_column": null,
            "grid_gap": null,
            "grid_row": null,
            "grid_template_areas": null,
            "grid_template_columns": null,
            "grid_template_rows": null,
            "height": null,
            "justify_content": null,
            "justify_items": null,
            "left": null,
            "margin": null,
            "max_height": null,
            "max_width": null,
            "min_height": null,
            "min_width": null,
            "object_fit": null,
            "object_position": null,
            "order": null,
            "overflow": null,
            "overflow_x": null,
            "overflow_y": null,
            "padding": null,
            "right": null,
            "top": null,
            "visibility": null,
            "width": null
          }
        },
        "db001a0c65b048f3b14dc2ba9fba30b4": {
          "model_module": "@jupyter-widgets/controls",
          "model_name": "DescriptionStyleModel",
          "model_module_version": "1.5.0",
          "state": {
            "_model_module": "@jupyter-widgets/controls",
            "_model_module_version": "1.5.0",
            "_model_name": "DescriptionStyleModel",
            "_view_count": null,
            "_view_module": "@jupyter-widgets/base",
            "_view_module_version": "1.2.0",
            "_view_name": "StyleView",
            "description_width": ""
          }
        }
      }
    }
  },
  "nbformat": 4,
  "nbformat_minor": 0
}