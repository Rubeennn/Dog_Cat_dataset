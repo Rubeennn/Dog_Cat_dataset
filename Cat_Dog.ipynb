{
  "cells": [
    {
      "cell_type": "markdown",
      "metadata": {
        "id": "view-in-github"
      },
      "source": [
        "<a href=\"https://colab.research.google.com/github/Rubeennn/Dog_Cat_dataset/blob/main/Cat_Dog.ipynb\" target=\"_parent\"><img src=\"https://colab.research.google.com/assets/colab-badge.svg\" alt=\"Open In Colab\"/></a>"
      ]
    },
    {
      "cell_type": "code",
      "execution_count": 1,
      "metadata": {
        "id": "6AfzllUdo0ae"
      },
      "outputs": [],
      "source": [
        "! pip3 install -q kaggle"
      ]
    },
    {
      "cell_type": "code",
      "execution_count": 2,
      "metadata": {
        "id": "gbvLDigKpwQS"
      },
      "outputs": [],
      "source": [
        "! mkdir ~/.kaggle"
      ]
    },
    {
      "cell_type": "code",
      "execution_count": 3,
      "metadata": {
        "colab": {
          "base_uri": "https://localhost:8080/"
        },
        "id": "qBARsMlsqEWw",
        "outputId": "9403aab5-8db7-40d3-9cb8-93880e1f0b14"
      },
      "outputs": [
        {
          "output_type": "stream",
          "name": "stdout",
          "text": [
            "cp: cannot stat 'kaggle.json': No such file or directory\n"
          ]
        }
      ],
      "source": [
        "! cp kaggle.json ~/.kaggle/"
      ]
    },
    {
      "cell_type": "code",
      "execution_count": 4,
      "metadata": {
        "colab": {
          "base_uri": "https://localhost:8080/"
        },
        "id": "32G2elKJqJx0",
        "outputId": "941f0d97-e485-4a51-f320-bf43cf2fe6c5"
      },
      "outputs": [
        {
          "output_type": "stream",
          "name": "stdout",
          "text": [
            "chmod: cannot access '/root/.kaggle/kaggle.json': No such file or directory\n"
          ]
        }
      ],
      "source": [
        "! chmod 600 ~/.kaggle/kaggle.json"
      ]
    },
    {
      "cell_type": "code",
      "execution_count": 5,
      "metadata": {
        "colab": {
          "base_uri": "https://localhost:8080/"
        },
        "id": "M7APutWuqSzS",
        "outputId": "88fea504-a34e-4b56-cd46-b164c3dbc2fb"
      },
      "outputs": [
        {
          "output_type": "stream",
          "name": "stdout",
          "text": [
            "Dataset URL: https://www.kaggle.com/datasets/unmoved/30k-cats-and-dogs-150x150-greyscale\n",
            "License(s): CC0-1.0\n",
            "Downloading 30k-cats-and-dogs-150x150-greyscale.zip to /content\n",
            " 97% 129M/133M [00:02<00:00, 71.7MB/s]\n",
            "100% 133M/133M [00:02<00:00, 61.8MB/s]\n"
          ]
        }
      ],
      "source": [
        "! kaggle datasets download -d unmoved/30k-cats-and-dogs-150x150-greyscale"
      ]
    },
    {
      "cell_type": "code",
      "execution_count": 6,
      "metadata": {
        "id": "QDv5yJmSq0tE"
      },
      "outputs": [],
      "source": [
        "from pathlib import Path\n",
        "\n",
        "data_path = Path('data')\n",
        "\n",
        "data_path.mkdir(exist_ok=True, parents=True)\n"
      ]
    },
    {
      "cell_type": "code",
      "execution_count": 7,
      "metadata": {
        "id": "sKYlRWC1qZgR"
      },
      "outputs": [],
      "source": [
        "import zipfile\n",
        "\n",
        "with zipfile.ZipFile('30k-cats-and-dogs-150x150-greyscale.zip', 'r') as z:\n",
        "    z.extractall(data_path)"
      ]
    },
    {
      "cell_type": "code",
      "execution_count": 8,
      "metadata": {
        "id": "8xdn75lDr6sh"
      },
      "outputs": [],
      "source": [
        "cat_path = data_path / 'Animal Images' / 'cats'\n",
        "cat_path\n",
        "dog_path = data_path / 'Animal Images' / 'dogs'"
      ]
    },
    {
      "cell_type": "markdown",
      "metadata": {
        "id": "3Q0QDCdFXl2w"
      },
      "source": [
        "### Importing the necessary packages"
      ]
    },
    {
      "cell_type": "code",
      "execution_count": 9,
      "metadata": {
        "id": "3bgfqhM8Xl2x"
      },
      "outputs": [],
      "source": [
        "import numpy as np\n",
        "from PIL import Image\n",
        "import pandas as pd\n",
        "import torch\n",
        "from torch import nn\n",
        "import torchvision\n",
        "from torchvision.datasets import ImageFolder\n",
        "from torchvision import transforms\n",
        "import os"
      ]
    },
    {
      "cell_type": "code",
      "execution_count": 40,
      "metadata": {
        "colab": {
          "base_uri": "https://localhost:8080/",
          "height": 184
        },
        "id": "PnO_gSR5Xl2z",
        "outputId": "c7578e82-df6d-43b9-bf3c-1459da7f8f02"
      },
      "outputs": [
        {
          "output_type": "stream",
          "name": "stdout",
          "text": [
            "Shape of the image is: (150, 150)\n"
          ]
        },
        {
          "output_type": "execute_result",
          "data": {
            "text/plain": [
              "<PIL.JpegImagePlugin.JpegImageFile image mode=L size=150x150>"
            ],
            "image/png": "[encoded data removed]"
          },
          "metadata": {},
          "execution_count": 40
        }
      ],
      "source": [
        "# Visualizing one image\n",
        "cat_image_names = os.listdir(cat_path)\n",
        "first_cat_image_path = cat_path / cat_image_names[0]\n",
        "img = Image.open(fp=first_cat_image_path)\n",
        "print(f'Shape of the image is: {np.asarray(img).shape}')\n",
        "img"
      ]
    },
    {
      "cell_type": "markdown",
      "metadata": {
        "id": "G9mjCW5zXl20"
      },
      "source": [
        "2. Now we define the path to the image directory\n",
        "and then gaining the dataset with **ImageFolder**."
      ]
    },
    {
      "cell_type": "code",
      "source": [
        "data_path"
      ],
      "metadata": {
        "colab": {
          "base_uri": "https://localhost:8080/"
        },
        "id": "kA1hGPf-joRm",
        "outputId": "4428efbc-30e3-4b81-ef3e-9bc11c7092e6"
      },
      "execution_count": 46,
      "outputs": [
        {
          "output_type": "execute_result",
          "data": {
            "text/plain": [
              "PosixPath('data')"
            ]
          },
          "metadata": {},
          "execution_count": 46
        }
      ]
    },
    {
      "cell_type": "code",
      "execution_count": 54,
      "metadata": {
        "id": "EbJHQhEKXl21"
      },
      "outputs": [],
      "source": [
        "dataset = ImageFolder(\n",
        "\n",
        "    root = data_path / 'Animal Images',\n",
        "    transform=transforms.Compose([\n",
        "    transforms.Grayscale(),\n",
        "    transforms.Resize(size=(124,124)), # Maybe need to make it smaller\n",
        "    transforms.ToTensor()\n",
        "    ])\n",
        ")"
      ]
    },
    {
      "cell_type": "code",
      "execution_count": 55,
      "metadata": {
        "colab": {
          "base_uri": "https://localhost:8080/"
        },
        "id": "urENPi0OXl21",
        "outputId": "e9f5a5b2-a833-48d2-a37b-f0d247b33d4f"
      },
      "outputs": [
        {
          "output_type": "stream",
          "name": "stdout",
          "text": [
            "Found an image with label 1 at index 15060\n"
          ]
        }
      ],
      "source": [
        "label_to_find = 1\n",
        "found_images = False\n",
        "\n",
        "for img_idx, (image, label) in enumerate(dataset):\n",
        "    if label == label_to_find:\n",
        "        found_images = True\n",
        "        print(f\"Found an image with label {label_to_find} at index {img_idx}\")\n",
        "        # Optionally, print or visualize the image\n",
        "        # print(image)  # This is a tensor, you might want to convert it back to a PIL image for visualization\n",
        "        break\n",
        "\n",
        "if not found_images:\n",
        "    print(f\"No images found with label {label_to_find}\")"
      ]
    },
    {
      "cell_type": "code",
      "execution_count": 56,
      "metadata": {
        "id": "e-qqayxiXl22"
      },
      "outputs": [],
      "source": [
        "# Splitting the dataset into train, test and validation datasets.\n",
        "\n",
        "torch.manual_seed(42)\n",
        "from torch.utils.data import random_split, DataLoader\n",
        "\n",
        "train_size = int(len(dataset) * 0.7)\n",
        "test_size = int(len(dataset) * 0.15)\n",
        "\n",
        "val_size = len(dataset) - train_size - test_size\n",
        "\n",
        "train_dataset, test_dataset, val_dataset = random_split(dataset,\n",
        "                                                        [train_size,\n",
        "                                                         test_size,\n",
        "                                                         val_size]\n",
        "                                                       )\n"
      ]
    },
    {
      "cell_type": "markdown",
      "metadata": {
        "id": "3TGM7ePNXl22"
      },
      "source": [
        "1. Splitting data into batches using the *DataLoader*."
      ]
    },
    {
      "cell_type": "code",
      "execution_count": 57,
      "metadata": {
        "id": "_vFLPR_bXl23"
      },
      "outputs": [],
      "source": [
        "\n",
        "BATCH_SIZE = 64\n",
        "\n",
        "train_dataloader = DataLoader(dataset=train_dataset,\n",
        "                              batch_size=BATCH_SIZE,\n",
        "                              shuffle=True,\n",
        "                              num_workers=os.cpu_count()\n",
        "                             )\n",
        "\n",
        "test_loader = DataLoader(dataset=test_dataset,\n",
        "                        batch_size=BATCH_SIZE,\n",
        "                        shuffle=False,\n",
        "                        num_workers=os.cpu_count()\n",
        "                        )\n",
        "\n",
        "val_loader = DataLoader(dataset=val_dataset,\n",
        "                       batch_size=BATCH_SIZE,\n",
        "                       shuffle=False,\n",
        "                       num_workers=os.cpu_count())"
      ]
    },
    {
      "cell_type": "markdown",
      "metadata": {
        "id": "tF4Wa-k9Xl24"
      },
      "source": [
        "## 3. Bulding the model"
      ]
    },
    {
      "cell_type": "code",
      "execution_count": 58,
      "metadata": {
        "id": "acvjQxpIXl24"
      },
      "outputs": [],
      "source": [
        "class DogCat(nn.Module):\n",
        "    def __init__(self, input_shape, hidden_shape, output_shape=1):\n",
        "        super().__init__()\n",
        "\n",
        "        self.block1 = nn.Sequential(nn.BatchNorm2d(num_features=1),\n",
        "                                   nn.Conv2d(in_channels=1,\n",
        "                                             out_channels=3,\n",
        "                                             kernel_size=(3,3),\n",
        "                                             stride=1,\n",
        "                                             padding=1\n",
        "                                            ),\n",
        "                                    nn.BatchNorm2d(num_features=3),\n",
        "                                    nn.ReLU(),\n",
        "                                    nn.Conv2d(in_channels=3,\n",
        "                                              out_channels=6,\n",
        "                                              kernel_size=(3,3),\n",
        "                                              stride=1,\n",
        "                                              padding=1\n",
        "                                    ),\n",
        "                                    nn.BatchNorm2d(num_features=6),\n",
        "                                    nn.ReLU(),\n",
        "                                    nn.MaxPool2d(kernel_size=(3,3)),\n",
        "                                    nn.Dropout2d(p=0.2)\n",
        "                                   )\n",
        "\n",
        "        self.block2 = nn.Sequential(nn.BatchNorm2d(num_features=6),\n",
        "                                   nn.Conv2d(in_channels=6,\n",
        "                                             out_channels=9,\n",
        "                                             kernel_size=(3,3),\n",
        "                                             stride=1,\n",
        "                                             padding=1\n",
        "                                            ),\n",
        "                                    nn.BatchNorm2d(num_features=9),\n",
        "                                    nn.ReLU(),\n",
        "                                    nn.Conv2d(in_channels=9,\n",
        "                                              out_channels=12,\n",
        "                                              kernel_size=(3,3),\n",
        "                                              stride=1,\n",
        "                                              padding=1\n",
        "                                    ),\n",
        "                                    nn.MaxPool2d(kernel_size=(3,3)),\n",
        "                                    nn.BatchNorm2d(num_features=12),\n",
        "                                    nn.ReLU(),\n",
        "                                    nn.Dropout2d(p=0.2))\n",
        "\n",
        "        self.classifier = nn.Sequential(nn.Flatten(),\n",
        "                                       nn.Linear(in_features=2028,\n",
        "                                                out_features=124),\n",
        "                                        nn.Linear(in_features=124,\n",
        "                                                 out_features=output_shape)\n",
        "                                       )\n",
        "    def forward(self, X):\n",
        "#         print(X.shape)\n",
        "        X = self.block1(X)\n",
        "#         print(X.shape)\n",
        "        X = self.block2(X)\n",
        "#         print(X.shape)\n",
        "        X = self.classifier(X)\n",
        "#         print(X.shape)\n",
        "        return X"
      ]
    },
    {
      "cell_type": "code",
      "execution_count": 59,
      "metadata": {
        "id": "2gSApE-DXl24"
      },
      "outputs": [],
      "source": [
        "model = DogCat(input_shape=124,\n",
        "              hidden_shape=10)"
      ]
    },
    {
      "cell_type": "code",
      "execution_count": 60,
      "metadata": {
        "colab": {
          "base_uri": "https://localhost:8080/"
        },
        "id": "TW2DscFcXl25",
        "outputId": "90f7f8cc-8cf1-4caa-ef5a-7271be225470"
      },
      "outputs": [
        {
          "output_type": "stream",
          "name": "stdout",
          "text": [
            "Found element where y == 1:\n",
            "X: tensor([[[0.0549, 0.0627, 0.0824,  ..., 0.7529, 0.8706, 0.8745],\n",
            "         [0.0588, 0.0588, 0.0706,  ..., 0.5137, 0.7294, 0.7961],\n",
            "         [0.0745, 0.0706, 0.0784,  ..., 0.3686, 0.5020, 0.6275],\n",
            "         ...,\n",
            "         [0.5961, 0.5922, 0.6118,  ..., 0.6353, 0.6275, 0.6275],\n",
            "         [0.5765, 0.5765, 0.6000,  ..., 0.6235, 0.6157, 0.6157],\n",
            "         [0.5608, 0.5647, 0.5961,  ..., 0.6118, 0.6039, 0.6039]]])\n",
            "y: 1\n"
          ]
        }
      ],
      "source": [
        "# Assuming train_dataloader is your DataLoader\n",
        "for batch_idx, (X_batch, y_batch) in enumerate(train_dataloader):\n",
        "    # Iterate through the batch\n",
        "    for X, y in zip(X_batch, y_batch):\n",
        "        # Check if y == 1\n",
        "        if y == 1:\n",
        "            # Print or store the element\n",
        "            print(f\"Found element where y == 1:\")\n",
        "            print(f\"X: {X}\")\n",
        "            print(f\"y: {y}\")\n",
        "            # Exit the loop once the first occurrence is found\n",
        "            break\n",
        "    else:\n",
        "        continue  # Continue to the next batch if not found\n",
        "    break  # Exit the outer loop once the first occurrence is found\n"
      ]
    },
    {
      "cell_type": "code",
      "execution_count": 61,
      "metadata": {
        "id": "owCcUmRDXl26"
      },
      "outputs": [],
      "source": [
        "optimizer = torch.optim.Adam(params=model.parameters(),\n",
        "                       lr=0.001)\n",
        "\n",
        "loss = nn.BCEWithLogitsLoss()"
      ]
    },
    {
      "cell_type": "code",
      "execution_count": 62,
      "metadata": {
        "id": "8ChVjGWnXl26"
      },
      "outputs": [],
      "source": [
        "from tqdm.auto import tqdm"
      ]
    },
    {
      "cell_type": "code",
      "execution_count": 63,
      "metadata": {
        "colab": {
          "base_uri": "https://localhost:8080/"
        },
        "id": "c5u08HflXl26",
        "outputId": "3eef9502-2053-4eb8-c818-fbfbeaad6342"
      },
      "outputs": [
        {
          "output_type": "execute_result",
          "data": {
            "text/plain": [
              "329"
            ]
          },
          "metadata": {},
          "execution_count": 63
        }
      ],
      "source": [
        "len(train_dataloader)"
      ]
    },
    {
      "cell_type": "code",
      "source": [
        "import time"
      ],
      "metadata": {
        "id": "tz5f1QkLZe5t"
      },
      "execution_count": 64,
      "outputs": []
    },
    {
      "cell_type": "code",
      "source": [
        "device = torch.device('cuda' if torch.cuda.is_available() else 'cpu')\n",
        "device"
      ],
      "metadata": {
        "colab": {
          "base_uri": "https://localhost:8080/"
        },
        "id": "J01NkcsubMTb",
        "outputId": "1a8b9080-2ff0-43d1-8891-ff8e5604fc89"
      },
      "execution_count": 65,
      "outputs": [
        {
          "output_type": "execute_result",
          "data": {
            "text/plain": [
              "device(type='cuda')"
            ]
          },
          "metadata": {},
          "execution_count": 65
        }
      ]
    },
    {
      "cell_type": "code",
      "source": [
        "model.to(device)"
      ],
      "metadata": {
        "colab": {
          "base_uri": "https://localhost:8080/"
        },
        "collapsed": true,
        "id": "y5yw_1RpbjCX",
        "outputId": "04c7fd04-3a15-4d7b-edbd-06330c78141e"
      },
      "execution_count": 66,
      "outputs": [
        {
          "output_type": "execute_result",
          "data": {
            "text/plain": [
              "DogCat(\n",
              "  (block1): Sequential(\n",
              "    (0): BatchNorm2d(1, eps=1e-05, momentum=0.1, affine=True, track_running_stats=True)\n",
              "    (1): Conv2d(1, 3, kernel_size=(3, 3), stride=(1, 1), padding=(1, 1))\n",
              "    (2): BatchNorm2d(3, eps=1e-05, momentum=0.1, affine=True, track_running_stats=True)\n",
              "    (3): ReLU()\n",
              "    (4): Conv2d(3, 6, kernel_size=(3, 3), stride=(1, 1), padding=(1, 1))\n",
              "    (5): BatchNorm2d(6, eps=1e-05, momentum=0.1, affine=True, track_running_stats=True)\n",
              "    (6): ReLU()\n",
              "    (7): MaxPool2d(kernel_size=(3, 3), stride=(3, 3), padding=0, dilation=1, ceil_mode=False)\n",
              "    (8): Dropout2d(p=0.2, inplace=False)\n",
              "  )\n",
              "  (block2): Sequential(\n",
              "    (0): BatchNorm2d(6, eps=1e-05, momentum=0.1, affine=True, track_running_stats=True)\n",
              "    (1): Conv2d(6, 9, kernel_size=(3, 3), stride=(1, 1), padding=(1, 1))\n",
              "    (2): BatchNorm2d(9, eps=1e-05, momentum=0.1, affine=True, track_running_stats=True)\n",
              "    (3): ReLU()\n",
              "    (4): Conv2d(9, 12, kernel_size=(3, 3), stride=(1, 1), padding=(1, 1))\n",
              "    (5): MaxPool2d(kernel_size=(3, 3), stride=(3, 3), padding=0, dilation=1, ceil_mode=False)\n",
              "    (6): BatchNorm2d(12, eps=1e-05, momentum=0.1, affine=True, track_running_stats=True)\n",
              "    (7): ReLU()\n",
              "    (8): Dropout2d(p=0.2, inplace=False)\n",
              "  )\n",
              "  (classifier): Sequential(\n",
              "    (0): Flatten(start_dim=1, end_dim=-1)\n",
              "    (1): Linear(in_features=2028, out_features=124, bias=True)\n",
              "    (2): Linear(in_features=124, out_features=1, bias=True)\n",
              "  )\n",
              ")"
            ]
          },
          "metadata": {},
          "execution_count": 66
        }
      ]
    },
    {
      "cell_type": "code",
      "execution_count": 67,
      "metadata": {
        "collapsed": true,
        "colab": {
          "base_uri": "https://localhost:8080/",
          "height": 173,
          "referenced_widgets": [
            "0d43e0bdf9b44146a5b633c2e0fb7ef2",
            "0abbaddbab8d4215bd84c842d7f9efce",
            "49e99d2efafa418d80529b8c55077080",
            "c6434d01314d4d7e8e10d62466fd9bc4",
            "eef1c7b6414442d7817008a5b370585f",
            "672ad3389b274d0984bea085a469d629",
            "249a5cc5cd2d41feba75dce51863abfd",
            "7f7267c468e4487880f9e59a2cb87e8d",
            "67163a7594dd4f888104a387543f0710",
            "2f6c3db37e5c4db2b1496ec5174f6609",
            "8785347669eb4c7fa4c4c969bcf34e58"
          ]
        },
        "id": "d-5OEYjBXl27",
        "outputId": "b440db9f-7937-4972-e71d-efbcd7e54e07"
      },
      "outputs": [
        {
          "output_type": "display_data",
          "data": {
            "text/plain": [
              "  0%|          | 0/5 [00:00<?, ?it/s]"
            ],
            "application/vnd.jupyter.widget-view+json": {
              "version_major": 2,
              "version_minor": 0,
              "model_id": "0d43e0bdf9b44146a5b633c2e0fb7ef2"
            }
          },
          "metadata": {}
        },
        {
          "output_type": "stream",
          "name": "stdout",
          "text": [
            "Train loss: 0.643065992278531,train_acc: 10.795022796352583, Val loss: 0.5749237243558319, val_acc: 50.02200704225352\n",
            "Train loss: 0.5874774761294159,train_acc: 10.795022796352583, Val loss: 0.5525799775627297, val_acc: 50.02200704225352\n",
            "Train loss: 0.5634398330852254,train_acc: 10.795022796352583, Val loss: 0.5262515746371846, val_acc: 50.02200704225352\n",
            "Train loss: 0.545171690748093,train_acc: 10.795022796352583, Val loss: 0.5213173569088251, val_acc: 50.02200704225352\n",
            "Train loss: 0.5309583647997546,train_acc: 10.795022796352583, Val loss: 0.5121459835012194, val_acc: 50.02200704225352\n",
            "time spent: 92.62990069389343\n"
          ]
        }
      ],
      "source": [
        "epochs = 5\n",
        "start_time = time.time()\n",
        "for epoch in tqdm(range(epochs)):\n",
        "    train_total_loss = 0\n",
        "    train_total_acc = 0\n",
        "    total_val_loss = 0\n",
        "    total_val_acc = 0\n",
        "    for batch , (X,y) in enumerate(train_dataloader):\n",
        "        X, y = X.to(device), y.to(device)\n",
        "        model.train()\n",
        "\n",
        "        y_train_pred_logits = model(X)\n",
        "        y = y.unsqueeze(dim=-1).to(torch.float)\n",
        "\n",
        "        y_pred_probas = torch.sigmoid(y_train_pred_logits)\n",
        "\n",
        "        y_pred = torch.argmax(y_pred_probas, axis=1)\n",
        "\n",
        "        # print(y)\n",
        "        train_loss = loss(y_train_pred_logits, y)\n",
        "        # print(y_train_pred_logits, y)\n",
        "        # print(f'Train loss: {train_loss}')\n",
        "        train_total_loss += train_loss.item()\n",
        "\n",
        "        train_total_acc += (torch.sum(y_pred == y.squeeze()).item() / len(y)) * 100\n",
        "\n",
        "\n",
        "        optimizer.zero_grad()\n",
        "\n",
        "        train_loss.backward()\n",
        "\n",
        "        optimizer.step()\n",
        "\n",
        "    with torch.inference_mode():\n",
        "        model.eval()\n",
        "        for (X_val, y_val) in val_loader:\n",
        "\n",
        "            X_val, y_val = X_val.to(device), y_val.to(device)\n",
        "\n",
        "            y_val_pred_logits = model(X_val)\n",
        "            y_val_pred = torch.argmax(torch.sigmoid(y_val_pred_logits), axis=1)\n",
        "\n",
        "            y_val = y_val.unsqueeze(dim=-1).to(torch.float)\n",
        "\n",
        "            val_loss = loss(y_val_pred_logits, y_val)\n",
        "            # print(f'Validation loss: {val_loss}')\n",
        "            total_val_loss += val_loss.item()\n",
        "            total_val_acc += (torch.sum(y_val_pred == y_val.squeeze()).item() / len(y_val)) * 100\n",
        "\n",
        "    print(f'Train loss: {train_total_loss / len(train_dataloader)},train_acc: {total_val_acc / len(train_dataloader)}, Val loss: {total_val_loss / len(val_loader)}, val_acc: {total_val_acc / len(val_loader)}')\n",
        "\n",
        "\n",
        "end_time = time.time()\n",
        "print(f'time spent: {end_time - start_time}')\n",
        "\n",
        "\n",
        "\n",
        "\n",
        "\n"
      ]
    },
    {
      "cell_type": "code",
      "execution_count": null,
      "metadata": {
        "id": "zcogZVbOXl28",
        "outputId": "77595190-b9a6-4df1-e5c2-bc7b4b7458ba"
      },
      "outputs": [
        {
          "name": "stdout",
          "output_type": "stream",
          "text": [
            "tensor(75.)\n"
          ]
        }
      ],
      "source": [
        "a = torch.Tensor([1,1,1,1])\n",
        "b = torch.Tensor([1,1,0,1])\n",
        "print((sum(a == b) /len(a)) * 100)\n"
      ]
    },
    {
      "cell_type": "code",
      "execution_count": null,
      "metadata": {
        "id": "4ma9FBp3Xl28",
        "outputId": "5fb3a3bf-70a9-4b11-dd1f-25f277a359fc"
      },
      "outputs": [
        {
          "data": {
            "text/plain": [
              "(torch.Size([1, 4]), torch.Size([4]))"
            ]
          },
          "execution_count": 116,
          "metadata": {},
          "output_type": "execute_result"
        }
      ],
      "source": [
        "a.shape, a.squeeze().shape"
      ]
    },
    {
      "cell_type": "code",
      "execution_count": null,
      "metadata": {
        "id": "-k5pyAGQXl29",
        "outputId": "d2c50980-f75f-4414-c1fd-46d905868be8"
      },
      "outputs": [
        {
          "ename": "TypeError",
          "evalue": "unsupported operand type(s) for *: 'set' and 'int'",
          "output_type": "error",
          "traceback": [
            "\u001b[0;31m---------------------------------------------------------------------------\u001b[0m",
            "\u001b[0;31mTypeError\u001b[0m                                 Traceback (most recent call last)",
            "Cell \u001b[0;32mIn [131], line 1\u001b[0m\n\u001b[0;32m----> 1\u001b[0m \u001b[43m{\u001b[49m\u001b[38;5;241;43m1\u001b[39;49m\u001b[43m,\u001b[49m\u001b[38;5;241;43m2\u001b[39;49m\u001b[43m,\u001b[49m\u001b[38;5;241;43m3\u001b[39;49m\u001b[43m}\u001b[49m\u001b[43m \u001b[49m\u001b[38;5;241;43m*\u001b[39;49m\u001b[43m \u001b[49m\u001b[38;5;241;43m5\u001b[39;49m\n",
            "\u001b[0;31mTypeError\u001b[0m: unsupported operand type(s) for *: 'set' and 'int'"
          ]
        }
      ],
      "source": [
        "{1,2,3} * 5"
      ]
    }
  ],
  "metadata": {
    "colab": {
      "provenance": [],
      "gpuType": "T4"
    },
    "kernelspec": {
      "display_name": "Python 3",
      "name": "python3"
    },
    "language_info": {
      "codemirror_mode": {
        "name": "ipython",
        "version": 3
      },
      "file_extension": ".py",
      "mimetype": "text/x-python",
      "name": "python",
      "nbconvert_exporter": "python",
      "pygments_lexer": "ipython3",
      "version": "3.10.11"
    },
    "accelerator": "GPU",
    "widgets": {
      "application/vnd.jupyter.widget-state+json": {
        "0d43e0bdf9b44146a5b633c2e0fb7ef2": {
          "model_module": "@jupyter-widgets/controls",
          "model_name": "HBoxModel",
          "model_module_version": "1.5.0",
          "state": {
            "_dom_classes": [],
            "_model_module": "@jupyter-widgets/controls",
            "_model_module_version": "1.5.0",
            "_model_name": "HBoxModel",
            "_view_count": null,
            "_view_module": "@jupyter-widgets/controls",
            "_view_module_version": "1.5.0",
            "_view_name": "HBoxView",
            "box_style": "",
            "children": [
              "IPY_MODEL_0abbaddbab8d4215bd84c842d7f9efce",
              "IPY_MODEL_49e99d2efafa418d80529b8c55077080",
              "IPY_MODEL_c6434d01314d4d7e8e10d62466fd9bc4"
            ],
            "layout": "IPY_MODEL_eef1c7b6414442d7817008a5b370585f"
          }
        },
        "0abbaddbab8d4215bd84c842d7f9efce": {
          "model_module": "@jupyter-widgets/controls",
          "model_name": "HTMLModel",
          "model_module_version": "1.5.0",
          "state": {
            "_dom_classes": [],
            "_model_module": "@jupyter-widgets/controls",
            "_model_module_version": "1.5.0",
            "_model_name": "HTMLModel",
            "_view_count": null,
            "_view_module": "@jupyter-widgets/controls",
            "_view_module_version": "1.5.0",
            "_view_name": "HTMLView",
            "description": "",
            "description_tooltip": null,
            "layout": "IPY_MODEL_672ad3389b274d0984bea085a469d629",
            "placeholder": "​",
            "style": "IPY_MODEL_249a5cc5cd2d41feba75dce51863abfd",
            "value": "100%"
          }
        },
        "49e99d2efafa418d80529b8c55077080": {
          "model_module": "@jupyter-widgets/controls",
          "model_name": "FloatProgressModel",
          "model_module_version": "1.5.0",
          "state": {
            "_dom_classes": [],
            "_model_module": "@jupyter-widgets/controls",
            "_model_module_version": "1.5.0",
            "_model_name": "FloatProgressModel",
            "_view_count": null,
            "_view_module": "@jupyter-widgets/controls",
            "_view_module_version": "1.5.0",
            "_view_name": "ProgressView",
            "bar_style": "success",
            "description": "",
            "description_tooltip": null,
            "layout": "IPY_MODEL_7f7267c468e4487880f9e59a2cb87e8d",
            "max": 5,
            "min": 0,
            "orientation": "horizontal",
            "style": "IPY_MODEL_67163a7594dd4f888104a387543f0710",
            "value": 5
          }
        },
        "c6434d01314d4d7e8e10d62466fd9bc4": {
          "model_module": "@jupyter-widgets/controls",
          "model_name": "HTMLModel",
          "model_module_version": "1.5.0",
          "state": {
            "_dom_classes": [],
            "_model_module": "@jupyter-widgets/controls",
            "_model_module_version": "1.5.0",
            "_model_name": "HTMLModel",
            "_view_count": null,
            "_view_module": "@jupyter-widgets/controls",
            "_view_module_version": "1.5.0",
            "_view_name": "HTMLView",
            "description": "",
            "description_tooltip": null,
            "layout": "IPY_MODEL_2f6c3db37e5c4db2b1496ec5174f6609",
            "placeholder": "​",
            "style": "IPY_MODEL_8785347669eb4c7fa4c4c969bcf34e58",
            "value": " 5/5 [01:32&lt;00:00, 18.42s/it]"
          }
        },
        "eef1c7b6414442d7817008a5b370585f": {
          "model_module": "@jupyter-widgets/base",
          "model_name": "LayoutModel",
          "model_module_version": "1.2.0",
          "state": {
            "_model_module": "@jupyter-widgets/base",
            "_model_module_version": "1.2.0",
            "_model_name": "LayoutModel",
            "_view_count": null,
            "_view_module": "@jupyter-widgets/base",
            "_view_module_version": "1.2.0",
            "_view_name": "LayoutView",
            "align_content": null,
            "align_items": null,
            "align_self": null,
            "border": null,
            "bottom": null,
            "display": null,
            "flex": null,
            "flex_flow": null,
            "grid_area": null,
            "grid_auto_columns": null,
            "grid_auto_flow": null,
            "grid_auto_rows": null,
            "grid_column": null,
            "grid_gap": null,
            "grid_row": null,
            "grid_template_areas": null,
            "grid_template_columns": null,
            "grid_template_rows": null,
            "height": null,
            "justify_content": null,
            "justify_items": null,
            "left": null,
            "margin": null,
            "max_height": null,
            "max_width": null,
            "min_height": null,
            "min_width": null,
            "object_fit": null,
            "object_position": null,
            "order": null,
            "overflow": null,
            "overflow_x": null,
            "overflow_y": null,
            "padding": null,
            "right": null,
            "top": null,
            "visibility": null,
            "width": null
          }
        },
        "672ad3389b274d0984bea085a469d629": {
          "model_module": "@jupyter-widgets/base",
          "model_name": "LayoutModel",
          "model_module_version": "1.2.0",
          "state": {
            "_model_module": "@jupyter-widgets/base",
            "_model_module_version": "1.2.0",
            "_model_name": "LayoutModel",
            "_view_count": null,
            "_view_module": "@jupyter-widgets/base",
            "_view_module_version": "1.2.0",
            "_view_name": "LayoutView",
            "align_content": null,
            "align_items": null,
            "align_self": null,
            "border": null,
            "bottom": null,
            "display": null,
            "flex": null,
            "flex_flow": null,
            "grid_area": null,
            "grid_auto_columns": null,
            "grid_auto_flow": null,
            "grid_auto_rows": null,
            "grid_column": null,
            "grid_gap": null,
            "grid_row": null,
            "grid_template_areas": null,
            "grid_template_columns": null,
            "grid_template_rows": null,
            "height": null,
            "justify_content": null,
            "justify_items": null,
            "left": null,
            "margin": null,
            "max_height": null,
            "max_width": null,
            "min_height": null,
            "min_width": null,
            "object_fit": null,
            "object_position": null,
            "order": null,
            "overflow": null,
            "overflow_x": null,
            "overflow_y": null,
            "padding": null,
            "right": null,
            "top": null,
            "visibility": null,
            "width": null
          }
        },
        "249a5cc5cd2d41feba75dce51863abfd": {
          "model_module": "@jupyter-widgets/controls",
          "model_name": "DescriptionStyleModel",
          "model_module_version": "1.5.0",
          "state": {
            "_model_module": "@jupyter-widgets/controls",
            "_model_module_version": "1.5.0",
            "_model_name": "DescriptionStyleModel",
            "_view_count": null,
            "_view_module": "@jupyter-widgets/base",
            "_view_module_version": "1.2.0",
            "_view_name": "StyleView",
            "description_width": ""
          }
        },
        "7f7267c468e4487880f9e59a2cb87e8d": {
          "model_module": "@jupyter-widgets/base",
          "model_name": "LayoutModel",
          "model_module_version": "1.2.0",
          "state": {
            "_model_module": "@jupyter-widgets/base",
            "_model_module_version": "1.2.0",
            "_model_name": "LayoutModel",
            "_view_count": null,
            "_view_module": "@jupyter-widgets/base",
            "_view_module_version": "1.2.0",
            "_view_name": "LayoutView",
            "align_content": null,
            "align_items": null,
            "align_self": null,
            "border": null,
            "bottom": null,
            "display": null,
            "flex": null,
            "flex_flow": null,
            "grid_area": null,
            "grid_auto_columns": null,
            "grid_auto_flow": null,
            "grid_auto_rows": null,
            "grid_column": null,
            "grid_gap": null,
            "grid_row": null,
            "grid_template_areas": null,
            "grid_template_columns": null,
            "grid_template_rows": null,
            "height": null,
            "justify_content": null,
            "justify_items": null,
            "left": null,
            "margin": null,
            "max_height": null,
            "max_width": null,
            "min_height": null,
            "min_width": null,
            "object_fit": null,
            "object_position": null,
            "order": null,
            "overflow": null,
            "overflow_x": null,
            "overflow_y": null,
            "padding": null,
            "right": null,
            "top": null,
            "visibility": null,
            "width": null
          }
        },
        "67163a7594dd4f888104a387543f0710": {
          "model_module": "@jupyter-widgets/controls",
          "model_name": "ProgressStyleModel",
          "model_module_version": "1.5.0",
          "state": {
            "_model_module": "@jupyter-widgets/controls",
            "_model_module_version": "1.5.0",
            "_model_name": "ProgressStyleModel",
            "_view_count": null,
            "_view_module": "@jupyter-widgets/base",
            "_view_module_version": "1.2.0",
            "_view_name": "StyleView",
            "bar_color": null,
            "description_width": ""
          }
        },
        "2f6c3db37e5c4db2b1496ec5174f6609": {
          "model_module": "@jupyter-widgets/base",
          "model_name": "LayoutModel",
          "model_module_version": "1.2.0",
          "state": {
            "_model_module": "@jupyter-widgets/base",
            "_model_module_version": "1.2.0",
            "_model_name": "LayoutModel",
            "_view_count": null,
            "_view_module": "@jupyter-widgets/base",
            "_view_module_version": "1.2.0",
            "_view_name": "LayoutView",
            "align_content": null,
            "align_items": null,
            "align_self": null,
            "border": null,
            "bottom": null,
            "display": null,
            "flex": null,
            "flex_flow": null,
            "grid_area": null,
            "grid_auto_columns": null,
            "grid_auto_flow": null,
            "grid_auto_rows": null,
            "grid_column": null,
            "grid_gap": null,
            "grid_row": null,
            "grid_template_areas": null,
            "grid_template_columns": null,
            "grid_template_rows": null,
            "height": null,
            "justify_content": null,
            "justify_items": null,
            "left": null,
            "margin": null,
            "max_height": null,
            "max_width": null,
            "min_height": null,
            "min_width": null,
            "object_fit": null,
            "object_position": null,
            "order": null,
            "overflow": null,
            "overflow_x": null,
            "overflow_y": null,
            "padding": null,
            "right": null,
            "top": null,
            "visibility": null,
            "width": null
          }
        },
        "8785347669eb4c7fa4c4c969bcf34e58": {
          "model_module": "@jupyter-widgets/controls",
          "model_name": "DescriptionStyleModel",
          "model_module_version": "1.5.0",
          "state": {
            "_model_module": "@jupyter-widgets/controls",
            "_model_module_version": "1.5.0",
            "_model_name": "DescriptionStyleModel",
            "_view_count": null,
            "_view_module": "@jupyter-widgets/base",
            "_view_module_version": "1.2.0",
            "_view_name": "StyleView",
            "description_width": ""
          }
        }
      }
    }
  },
  "nbformat": 4,
  "nbformat_minor": 0
}